{
 "cells": [
  {
   "cell_type": "markdown",
   "source": [
    "# 3. beautifulSoup 기초\n",
    "* HTML과 XML문서를 파싱하기 위한 파이썬 패키지\n",
    "* https://www.crummy.com/software/BeautifulSoup/bs4/doc/"
   ],
   "metadata": {}
  },
  {
   "cell_type": "code",
   "execution_count": 1,
   "source": [
    "import requests\n",
    "from bs4 import BeautifulSoup"
   ],
   "outputs": [],
   "metadata": {}
  },
  {
   "cell_type": "code",
   "execution_count": 111,
   "source": [
    "html_doc = \"\"\"\n",
    "<html>\n",
    "<head>\n",
    "<title>My story</title>\n",
    "</head>\n",
    "<body>\n",
    "<p class=\"title\">My Story</p>\n",
    "<p class=\"story\">내가 좋아하는 음식\n",
    "<a href=\"https://www.pizzahut.co.kr\" class=\"food\" id=\"link1\">피자</a>\n",
    "<a href=\"https://www.kyochon.com\" class=\"food\" id=\"link2\">치킨</a>\n",
    "<a href=\"https://www.momstouch.co.kr\" class=\"food\" id=\"link3\">햄버거</a>\n",
    "</p>\n",
    "</body>\n",
    "</html>\n",
    "\"\"\""
   ],
   "outputs": [],
   "metadata": {}
  },
  {
   "cell_type": "code",
   "execution_count": 112,
   "source": [
    "soup = BeautifulSoup(html_doc, 'html.parser') # lxml, html.parser"
   ],
   "outputs": [],
   "metadata": {}
  },
  {
   "cell_type": "code",
   "execution_count": 113,
   "source": [
    "type(soup)"
   ],
   "outputs": [
    {
     "output_type": "execute_result",
     "data": {
      "text/plain": [
       "bs4.BeautifulSoup"
      ]
     },
     "metadata": {},
     "execution_count": 113
    }
   ],
   "metadata": {}
  },
  {
   "cell_type": "code",
   "execution_count": 114,
   "source": [
    "print(soup.prettify())"
   ],
   "outputs": [
    {
     "output_type": "stream",
     "name": "stdout",
     "text": [
      "<html>\n",
      " <head>\n",
      "  <title>\n",
      "   My story\n",
      "  </title>\n",
      " </head>\n",
      " <body>\n",
      "  <p class=\"title\">\n",
      "   My Story\n",
      "  </p>\n",
      "  <p class=\"story\">\n",
      "   내가 좋아하는 음식\n",
      "   <a class=\"food\" href=\"https://www.pizzahut.co.kr\" id=\"link1\">\n",
      "    피자\n",
      "   </a>\n",
      "   <a class=\"food\" href=\"https://www.kyochon.com\" id=\"link2\">\n",
      "    치킨\n",
      "   </a>\n",
      "   <a class=\"food\" href=\"https://www.momstouch.co.kr\" id=\"link3\">\n",
      "    햄버거\n",
      "   </a>\n",
      "  </p>\n",
      " </body>\n",
      "</html>\n",
      "\n"
     ]
    }
   ],
   "metadata": {}
  },
  {
   "cell_type": "markdown",
   "source": [
    "## find 함수\n",
    "* 조건에 만족하는 첫번째 tag만 검색"
   ],
   "metadata": {}
  },
  {
   "cell_type": "code",
   "execution_count": 115,
   "source": [
    "soup.find('p')"
   ],
   "outputs": [
    {
     "output_type": "execute_result",
     "data": {
      "text/plain": [
       "<p class=\"title\">My Story</p>"
      ]
     },
     "metadata": {},
     "execution_count": 115
    }
   ],
   "metadata": {}
  },
  {
   "cell_type": "code",
   "execution_count": 116,
   "source": [
    "soup.find('a')"
   ],
   "outputs": [
    {
     "output_type": "execute_result",
     "data": {
      "text/plain": [
       "<a class=\"food\" href=\"https://www.pizzahut.co.kr\" id=\"link1\">피자</a>"
      ]
     },
     "metadata": {},
     "execution_count": 116
    }
   ],
   "metadata": {}
  },
  {
   "cell_type": "code",
   "execution_count": 117,
   "source": [
    "soup.find('a', id='link2')"
   ],
   "outputs": [
    {
     "output_type": "execute_result",
     "data": {
      "text/plain": [
       "<a class=\"food\" href=\"https://www.kyochon.com\" id=\"link2\">치킨</a>"
      ]
     },
     "metadata": {},
     "execution_count": 117
    }
   ],
   "metadata": {}
  },
  {
   "cell_type": "code",
   "execution_count": 118,
   "source": [
    "soup.find('a', class_='food', id='link3')"
   ],
   "outputs": [
    {
     "output_type": "execute_result",
     "data": {
      "text/plain": [
       "<a class=\"food\" href=\"https://www.momstouch.co.kr\" id=\"link3\">햄버거</a>"
      ]
     },
     "metadata": {},
     "execution_count": 118
    }
   ],
   "metadata": {}
  },
  {
   "cell_type": "code",
   "execution_count": 119,
   "source": [
    "attrs = {\n",
    "  'class': 'food',\n",
    "  'id': 'link3'\n",
    "}\n",
    "soup.find('a', attrs=attrs)"
   ],
   "outputs": [
    {
     "output_type": "execute_result",
     "data": {
      "text/plain": [
       "<a class=\"food\" href=\"https://www.momstouch.co.kr\" id=\"link3\">햄버거</a>"
      ]
     },
     "metadata": {},
     "execution_count": 119
    }
   ],
   "metadata": {}
  },
  {
   "cell_type": "markdown",
   "source": [
    "## find_all 함수 \n",
    "* 조건에 맞는 모든 tag를 리스트로 반환"
   ],
   "metadata": {}
  },
  {
   "cell_type": "code",
   "execution_count": 120,
   "source": [
    "soup.find_all('p')"
   ],
   "outputs": [
    {
     "output_type": "execute_result",
     "data": {
      "text/plain": [
       "[<p class=\"title\">My Story</p>,\n",
       " <p class=\"story\">내가 좋아하는 음식\n",
       " <a class=\"food\" href=\"https://www.pizzahut.co.kr\" id=\"link1\">피자</a>\n",
       " <a class=\"food\" href=\"https://www.kyochon.com\" id=\"link2\">치킨</a>\n",
       " <a class=\"food\" href=\"https://www.momstouch.co.kr\" id=\"link3\">햄버거</a>\n",
       " </p>]"
      ]
     },
     "metadata": {},
     "execution_count": 120
    }
   ],
   "metadata": {}
  },
  {
   "cell_type": "code",
   "execution_count": 121,
   "source": [
    "for tag in soup.find_all('a'):\n",
    "  print(tag)"
   ],
   "outputs": [
    {
     "output_type": "stream",
     "name": "stdout",
     "text": [
      "<a class=\"food\" href=\"https://www.pizzahut.co.kr\" id=\"link1\">피자</a>\n",
      "<a class=\"food\" href=\"https://www.kyochon.com\" id=\"link2\">치킨</a>\n",
      "<a class=\"food\" href=\"https://www.momstouch.co.kr\" id=\"link3\">햄버거</a>\n"
     ]
    }
   ],
   "metadata": {}
  },
  {
   "cell_type": "markdown",
   "source": [
    "## get_text 함수\n",
    "* tag안의 value를 추출\n",
    "* 부모 tag의 경우 모든 자식 tag의 value추출"
   ],
   "metadata": {}
  },
  {
   "cell_type": "code",
   "execution_count": 122,
   "source": [
    "soup.find(class_='title').get_text()"
   ],
   "outputs": [
    {
     "output_type": "execute_result",
     "data": {
      "text/plain": [
       "'My Story'"
      ]
     },
     "metadata": {},
     "execution_count": 122
    }
   ],
   "metadata": {}
  },
  {
   "cell_type": "code",
   "execution_count": 123,
   "source": [
    "for tag in soup.find_all('a'):\n",
    "  print(tag.get_text())"
   ],
   "outputs": [
    {
     "output_type": "stream",
     "name": "stdout",
     "text": [
      "피자\n",
      "치킨\n",
      "햄버거\n"
     ]
    }
   ],
   "metadata": {}
  },
  {
   "cell_type": "markdown",
   "source": [
    "## attribute값 추출하기\n",
    "* 검색한 tag에서 attribute값을 추출\n",
    "* tag['attr명']"
   ],
   "metadata": {}
  },
  {
   "cell_type": "code",
   "execution_count": 124,
   "source": [
    "soup.find('p').attrs"
   ],
   "outputs": [
    {
     "output_type": "execute_result",
     "data": {
      "text/plain": [
       "{'class': ['title']}"
      ]
     },
     "metadata": {},
     "execution_count": 124
    }
   ],
   "metadata": {}
  },
  {
   "cell_type": "code",
   "execution_count": 125,
   "source": [
    "soup.find('p')['class']"
   ],
   "outputs": [
    {
     "output_type": "execute_result",
     "data": {
      "text/plain": [
       "['title']"
      ]
     },
     "metadata": {},
     "execution_count": 125
    }
   ],
   "metadata": {}
  },
  {
   "cell_type": "code",
   "execution_count": 126,
   "source": [
    "soup.find('a').attrs"
   ],
   "outputs": [
    {
     "output_type": "execute_result",
     "data": {
      "text/plain": [
       "{'href': 'https://www.pizzahut.co.kr', 'class': ['food'], 'id': 'link1'}"
      ]
     },
     "metadata": {},
     "execution_count": 126
    }
   ],
   "metadata": {}
  },
  {
   "cell_type": "code",
   "execution_count": 127,
   "source": [
    "for tag in soup.find_all('a'):\n",
    "  print(tag['href'], tag['id'])"
   ],
   "outputs": [
    {
     "output_type": "stream",
     "name": "stdout",
     "text": [
      "https://www.pizzahut.co.kr link1\n",
      "https://www.kyochon.com link2\n",
      "https://www.momstouch.co.kr link3\n"
     ]
    }
   ],
   "metadata": {}
  },
  {
   "cell_type": "markdown",
   "source": [
    "## select 함수\n",
    "* select는 CSS Selector로 tag 찾기\n",
    "* 자손 태그 찾기 - tag1 tag2\n",
    "* 직계 자식 태그 찾기 - tag1 > tag2\n",
    "* id 선택자 - #id\n",
    "* class 선택자 - .class\n",
    "* 속성값 찾기 - \\[name=\"value\"]\n",
    "  * 속성값 prefix 찾기 - \\[name^=\"value\"]\n",
    "  * 속성값 suffix 찾기 - \\[name$=\"value\"]\n",
    "  * 속성값 포함문자열 찾기 - \\[name*=\"value\"]"
   ],
   "metadata": {}
  },
  {
   "cell_type": "code",
   "execution_count": 128,
   "source": [
    "soup.select('p')"
   ],
   "outputs": [
    {
     "output_type": "execute_result",
     "data": {
      "text/plain": [
       "[<p class=\"title\">My Story</p>,\n",
       " <p class=\"story\">내가 좋아하는 음식\n",
       " <a class=\"food\" href=\"https://www.pizzahut.co.kr\" id=\"link1\">피자</a>\n",
       " <a class=\"food\" href=\"https://www.kyochon.com\" id=\"link2\">치킨</a>\n",
       " <a class=\"food\" href=\"https://www.momstouch.co.kr\" id=\"link3\">햄버거</a>\n",
       " </p>]"
      ]
     },
     "metadata": {},
     "execution_count": 128
    }
   ],
   "metadata": {}
  },
  {
   "cell_type": "code",
   "execution_count": 129,
   "source": [
    "soup.select_one('p')"
   ],
   "outputs": [
    {
     "output_type": "execute_result",
     "data": {
      "text/plain": [
       "<p class=\"title\">My Story</p>"
      ]
     },
     "metadata": {},
     "execution_count": 129
    }
   ],
   "metadata": {}
  },
  {
   "cell_type": "code",
   "execution_count": 130,
   "source": [
    "# 자손 태그\n",
    "soup.select('html title')"
   ],
   "outputs": [
    {
     "output_type": "execute_result",
     "data": {
      "text/plain": [
       "[<title>My story</title>]"
      ]
     },
     "metadata": {},
     "execution_count": 130
    }
   ],
   "metadata": {}
  },
  {
   "cell_type": "code",
   "execution_count": 131,
   "source": [
    "# 직계 자식 태그\n",
    "soup.select('html > title')"
   ],
   "outputs": [
    {
     "output_type": "execute_result",
     "data": {
      "text/plain": [
       "[]"
      ]
     },
     "metadata": {},
     "execution_count": 131
    }
   ],
   "metadata": {}
  },
  {
   "cell_type": "code",
   "execution_count": 132,
   "source": [
    "# id 선택자\n",
    "soup.select('a#link1')"
   ],
   "outputs": [
    {
     "output_type": "execute_result",
     "data": {
      "text/plain": [
       "[<a class=\"food\" href=\"https://www.pizzahut.co.kr\" id=\"link1\">피자</a>]"
      ]
     },
     "metadata": {},
     "execution_count": 132
    }
   ],
   "metadata": {}
  },
  {
   "cell_type": "code",
   "execution_count": 133,
   "source": [
    "# class 선택자\n",
    "soup.select('.food')"
   ],
   "outputs": [
    {
     "output_type": "execute_result",
     "data": {
      "text/plain": [
       "[<a class=\"food\" href=\"https://www.pizzahut.co.kr\" id=\"link1\">피자</a>,\n",
       " <a class=\"food\" href=\"https://www.kyochon.com\" id=\"link2\">치킨</a>,\n",
       " <a class=\"food\" href=\"https://www.momstouch.co.kr\" id=\"link3\">햄버거</a>]"
      ]
     },
     "metadata": {},
     "execution_count": 133
    }
   ],
   "metadata": {}
  },
  {
   "cell_type": "code",
   "execution_count": 134,
   "source": [
    "# 속성값 찾기\n",
    "soup.select('[href=\"https://www.pizzahut.co.kr\"]')"
   ],
   "outputs": [
    {
     "output_type": "execute_result",
     "data": {
      "text/plain": [
       "[<a class=\"food\" href=\"https://www.pizzahut.co.kr\" id=\"link1\">피자</a>]"
      ]
     },
     "metadata": {},
     "execution_count": 134
    }
   ],
   "metadata": {}
  },
  {
   "cell_type": "code",
   "execution_count": 136,
   "source": [
    "# 시작 문자열\n",
    "soup.select('[href^=\"http\"]')"
   ],
   "outputs": [
    {
     "output_type": "execute_result",
     "data": {
      "text/plain": [
       "[<a class=\"food\" href=\"https://www.pizzahut.co.kr\" id=\"link1\">피자</a>,\n",
       " <a class=\"food\" href=\"https://www.kyochon.com\" id=\"link2\">치킨</a>,\n",
       " <a class=\"food\" href=\"https://www.momstouch.co.kr\" id=\"link3\">햄버거</a>]"
      ]
     },
     "metadata": {},
     "execution_count": 136
    }
   ],
   "metadata": {}
  },
  {
   "cell_type": "code",
   "execution_count": 137,
   "source": [
    "# 종료 문자열\n",
    "soup.select('[href$=\"kr\"]')"
   ],
   "outputs": [
    {
     "output_type": "execute_result",
     "data": {
      "text/plain": [
       "[<a class=\"food\" href=\"https://www.pizzahut.co.kr\" id=\"link1\">피자</a>,\n",
       " <a class=\"food\" href=\"https://www.momstouch.co.kr\" id=\"link3\">햄버거</a>]"
      ]
     },
     "metadata": {},
     "execution_count": 137
    }
   ],
   "metadata": {}
  },
  {
   "cell_type": "code",
   "execution_count": 140,
   "source": [
    "# 포함 문자열\n",
    "soup.select('[href*=\"ch\"]')"
   ],
   "outputs": [
    {
     "output_type": "execute_result",
     "data": {
      "text/plain": [
       "[<a class=\"food\" href=\"https://www.kyochon.com\" id=\"link2\">치킨</a>,\n",
       " <a class=\"food\" href=\"https://www.momstouch.co.kr\" id=\"link3\">햄버거</a>]"
      ]
     },
     "metadata": {},
     "execution_count": 140
    }
   ],
   "metadata": {}
  },
  {
   "cell_type": "code",
   "execution_count": null,
   "source": [],
   "outputs": [],
   "metadata": {}
  }
 ],
 "metadata": {
  "orig_nbformat": 4,
  "language_info": {
   "name": "python",
   "version": "3.9.6",
   "mimetype": "text/x-python",
   "codemirror_mode": {
    "name": "ipython",
    "version": 3
   },
   "pygments_lexer": "ipython3",
   "nbconvert_exporter": "python",
   "file_extension": ".py"
  },
  "kernelspec": {
   "name": "python3",
   "display_name": "Python 3.9.6 64-bit"
  },
  "interpreter": {
   "hash": "aee8b7b246df8f9039afb4144a1f6fd8d2ca17a180786b69acc140d282b71a49"
  }
 },
 "nbformat": 4,
 "nbformat_minor": 2
}