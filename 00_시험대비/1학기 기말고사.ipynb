{
 "cells": [
  {
   "cell_type": "markdown",
   "metadata": {},
   "source": [
    "# 1. 데이터분석 시작하기\n",
    "## 1. 빅데이터란?\n",
    "\n",
    "### 자료와 정보\n",
    "**자료**는 문자, 숫자, 소리, 그림, 영상, 단어 등의 형태로 된 의미 단위\n",
    "연구나 조사 등의 바탕이 되는 재료  \n",
    "자료를 의미있게 정리하면 **정보**가 된다.\n",
    "\n",
    "### DIKW Pyramid\n",
    "Data(자료) -> Information(정보) -> Knowledge(지식) -> Wisdom(지혜)  \n",
    "$$\n",
    "context(문맥), meaning(의미), insight(반영, 적용) \\\\\n",
    "\\frac\n",
    "  {{\\rm Data} \\rarr {\\rm Information} \\rarr {\\rm Knowledge}}\n",
    "  {\\rm 경험, 사실 (과거, 현재)}\n",
    "\\rarr\n",
    "\\frac\n",
    "  {\\rm Wisdom}\n",
    "  {\\rm 방향, 예측 (미래)}\n",
    "$$\n",
    "\n",
    "### 빅데이터\n",
    "**빅 데이터(big data)**란 기존 데이터베이스 관리도구의 능력을 넘어서는 대량의 정형 또는 데이터베이스 형태가 아닌 비정형의 데이터로부터 가치를 추출하고 결과를 분석하는 기술이다.\n",
    "* 데이터 저장\n",
    "* 데이터 관리\n",
    "* 데이터 추출\n",
    "* 데이터 처리\n",
    "* 데이터 시각화\n",
    "* 데이터 분석\n",
    "\n",
    "#### 역사\n",
    "1990~2000: 컴퓨터 보급 - 엑셀, 관계형 데이터베이스  \n",
    "2000~2010: 인터넷 보급, 웹 기반 데이터 - 야후, 아마존, 이베이  \n",
    "2010~: 모바일, 센서, IoT기기 발달 - 구글, 페이스북, 인스타그램  \n",
    "\n",
    "#### 특징 (3Vs of Big Data + 3Vs of Big Data)\n",
    "* Volume(양)\n",
    "  * 대량의 정형 + 비정형 데이터\n",
    "  * IoT, SNS, 산업용 장비\n",
    "* Velocity(속도)\n",
    "  * 빠른 데이터 유입과 실시간 처리 속도\n",
    "  * 각종 센서, 인터넷 서비스\n",
    "* Variety(다양성)\n",
    "  * 다양한 비정형 데이터\n",
    "  * 비디오, 오디오, 이메일, 주식 데이터\n",
    "* Value(가치)\n",
    "  * 데이터 속 가치\n",
    "  * 가치를 발견할 수 있는가\n",
    "* Veracity(정확성)\n",
    "  * 데이터의 품질\n",
    "  * 얼마나 믿을 수 있는가\n",
    "* Variability(가변성)\n",
    "  * 문맥에 따른 데이터 의미 가변성\n",
    "\n",
    "### 데이터의 종류\n",
    "* 정형데이터(Structured Data)\n",
    "  * Data Model\n",
    "  * Schema\n",
    "  * SQL\n",
    "* 비정형데이터(Unstructured Data)\n",
    "  * Everything Else\n",
    "  * Textual or non-textual\n",
    "  * No pre-defined datamodel\n",
    "  * Difficult to search\n",
    "  * 수집된 전체 데이터의 80%이상\n",
    "\n",
    "## 2. 데이터 분석이란?\n",
    "\n",
    "### 데이터 분석\n",
    "**데이터 분석(Data Analysis)**은 유용한 정보를 발굴하고 결론 내용을 알리며 의사결정을 지원하는 것을 목표로 데이터를 정리, 변환, 모델링 하는 과정이다  \n",
    "**데이터 사이언티스트(Data Scientist)**는 데이터 수집, 가공, 분석을 통해 정보의 숨은 의미를 찾아내 과학적이고 합리적인 의사결정을 돕는 전문가를 말한다\n",
    "\n",
    "### 데이터 분석 프로세스\n",
    "1. 문제 정의, 가설 수립\n",
    "2. 데이터 수집\n",
    "3. 데이터 전처리\n",
    "4. 탐색적 데이터 분석\n",
    "5. 결과 평가\n",
    "\n",
    "언제든 잘못 되면 그 부분으로\n",
    "\n",
    "#### 1. 문제 정의\n",
    "어떤 문제를 해결하고 싶은가?\n",
    "\n",
    "고려사항\n",
    "* 목표는 무엇? 범위는 어디?\n",
    "* 해결 성공 / 실패 기준은?\n",
    "* 제약조건은?\n",
    "\n",
    "데이터 기반의 문제해결을 위한 추가 고려사항\n",
    "* 문제와 관련된 데이터에 포함되어야하는 요인은?\n",
    "* 데이터 어떻게 수집?\n",
    "* 데이터 처리 및 분석을 위한 최적의 방법과 도구는 무엇?\n",
    "* 최종 결과물은 어떤 형태로 누구에게 전달?\n",
    "\n",
    "#### 2. 데이터 수집\n",
    "* 공개 데이터 활용\n",
    "  * 캐글\n",
    "  * 구글\n",
    "  * 레딧\n",
    "  * UCI\n",
    "  * AI팩토리\n",
    "  * 공공데이터포털\n",
    "  * AI허브\n",
    "  * 데이콘\n",
    "* 자체 데이터 수집\n",
    "  * 웹 크롤링\n",
    "\n",
    "#### 3. 데이터 전처리\n",
    "* 자료형 변환, 단위 변환\n",
    "* 비어있는 값 채우기\n",
    "* 불필요한 부분 삭제\n",
    "* 연관 데이터 추가\n",
    "\n",
    "#### 4. 데이터 분석\n",
    "**탐색적 데이터 분석(Exploratory Data Analysis, EDA)**: 도표, 그래프, 요약 통계 정보 등의 도구를 이용하여 주어진 데이터를 다양한 각도에서 들여다보고 데이터를 이해하고 탐구하는 과정\n",
    "* 개별 속성 분석\n",
    "* 속성 간의 관계 분석\n",
    "* 시각화 활용해서 데이터에 나타나는 패턴 찾기\n",
    "\n",
    "##### 도구\n",
    "python - NumPy, pandas, matplotlib, seaborn"
   ]
  },
  {
   "cell_type": "markdown",
   "metadata": {},
   "source": [
    "# 2. NumPy\n",
    "* 행렬이나 대규모 다차원 배열 쉽게 처리\n",
    "* 수치 계산 위한 효율적 기능"
   ]
  },
  {
   "cell_type": "markdown",
   "metadata": {},
   "source": [
    "## 1. 임포트"
   ]
  },
  {
   "cell_type": "code",
   "execution_count": 1,
   "metadata": {},
   "outputs": [],
   "source": [
    "import numpy as np"
   ]
  },
  {
   "cell_type": "markdown",
   "metadata": {},
   "source": [
    "## 2. 배열\n",
    "* 같은 타입만 저장 가능\n",
    "* python list비해 빠름"
   ]
  },
  {
   "cell_type": "markdown",
   "metadata": {},
   "source": [
    "### 1. np.array"
   ]
  },
  {
   "cell_type": "code",
   "execution_count": 2,
   "metadata": {},
   "outputs": [
    {
     "data": {
      "text/plain": [
       "array([1, 2, 3, 4])"
      ]
     },
     "execution_count": 2,
     "metadata": {},
     "output_type": "execute_result"
    }
   ],
   "source": [
    "np.array([1, 2, 3, 4])"
   ]
  },
  {
   "cell_type": "code",
   "execution_count": 4,
   "metadata": {},
   "outputs": [],
   "source": [
    "# 2차원 배열\n",
    "arr = np.array([\n",
    "  [1, 2],\n",
    "  [3, 4],\n",
    "  [5, 6],\n",
    "])"
   ]
  },
  {
   "cell_type": "code",
   "execution_count": 5,
   "metadata": {},
   "outputs": [
    {
     "data": {
      "text/plain": [
       "{'type': numpy.ndarray,\n",
       " 'dtype': dtype('int64'),\n",
       " 'shape': (3, 2),\n",
       " 'size': 6,\n",
       " 'ndim': 2}"
      ]
     },
     "execution_count": 5,
     "metadata": {},
     "output_type": "execute_result"
    }
   ],
   "source": [
    "{\n",
    "  \"type\": type(arr),\n",
    "  \"dtype\": arr.dtype,\n",
    "  \"shape\": arr.shape,\n",
    "  \"size\": arr.size,\n",
    "  \"ndim\": arr.ndim,\n",
    "}"
   ]
  },
  {
   "cell_type": "code",
   "execution_count": 6,
   "metadata": {},
   "outputs": [
    {
     "data": {
      "text/plain": [
       "array([[1., 2.],\n",
       "       [3., 4.],\n",
       "       [5., 6.]])"
      ]
     },
     "execution_count": 6,
     "metadata": {},
     "output_type": "execute_result"
    }
   ],
   "source": [
    "arr.astype(float)"
   ]
  },
  {
   "cell_type": "markdown",
   "metadata": {},
   "source": [
    "### 2. np.arange\n",
    "파이썬의 range함수"
   ]
  },
  {
   "cell_type": "code",
   "execution_count": 7,
   "metadata": {},
   "outputs": [
    {
     "data": {
      "text/plain": [
       "array([2, 4, 6, 8])"
      ]
     },
     "execution_count": 7,
     "metadata": {},
     "output_type": "execute_result"
    }
   ],
   "source": [
    "np.arange(2, 10, 2)"
   ]
  },
  {
   "cell_type": "code",
   "execution_count": 8,
   "metadata": {},
   "outputs": [
    {
     "data": {
      "text/plain": [
       "array([2. , 2.5, 3. , 3.5, 4. , 4.5, 5. , 5.5, 6. , 6.5, 7. , 7.5, 8. ,\n",
       "       8.5, 9. , 9.5])"
      ]
     },
     "execution_count": 8,
     "metadata": {},
     "output_type": "execute_result"
    }
   ],
   "source": [
    "np.arange(2, 10, .5)  # 소수점도 가능"
   ]
  },
  {
   "cell_type": "code",
   "execution_count": 9,
   "metadata": {},
   "outputs": [
    {
     "data": {
      "text/plain": [
       "array([[ 0,  1,  2,  3,  4,  5,  6,  7,  8,  9],\n",
       "       [10, 11, 12, 13, 14, 15, 16, 17, 18, 19],\n",
       "       [20, 21, 22, 23, 24, 25, 26, 27, 28, 29],\n",
       "       [30, 31, 32, 33, 34, 35, 36, 37, 38, 39],\n",
       "       [40, 41, 42, 43, 44, 45, 46, 47, 48, 49],\n",
       "       [50, 51, 52, 53, 54, 55, 56, 57, 58, 59],\n",
       "       [60, 61, 62, 63, 64, 65, 66, 67, 68, 69],\n",
       "       [70, 71, 72, 73, 74, 75, 76, 77, 78, 79],\n",
       "       [80, 81, 82, 83, 84, 85, 86, 87, 88, 89],\n",
       "       [90, 91, 92, 93, 94, 95, 96, 97, 98, 99]])"
      ]
     },
     "execution_count": 9,
     "metadata": {},
     "output_type": "execute_result"
    }
   ],
   "source": [
    "# 2차원 이상을 만들 경우\n",
    "# reshape는 새로 배열을 만듦\n",
    "np.arange(100).reshape(10, 10)"
   ]
  },
  {
   "cell_type": "markdown",
   "metadata": {},
   "source": [
    "### 3. np.zeros, np.ones, np.full"
   ]
  },
  {
   "cell_type": "code",
   "execution_count": 10,
   "metadata": {},
   "outputs": [
    {
     "data": {
      "text/plain": [
       "array([[0., 0., 0.],\n",
       "       [0., 0., 0.]])"
      ]
     },
     "execution_count": 10,
     "metadata": {},
     "output_type": "execute_result"
    }
   ],
   "source": [
    "# 2차원 이상은 괄호로 반드시 감싸야 한다\n",
    "np.zeros((2, 3))"
   ]
  },
  {
   "cell_type": "code",
   "execution_count": 11,
   "metadata": {},
   "outputs": [
    {
     "data": {
      "text/plain": [
       "array([1., 1., 1., 1.])"
      ]
     },
     "execution_count": 11,
     "metadata": {},
     "output_type": "execute_result"
    }
   ],
   "source": [
    "np.ones(4)"
   ]
  },
  {
   "cell_type": "code",
   "execution_count": 20,
   "metadata": {},
   "outputs": [
    {
     "data": {
      "text/plain": [
       "array([[234, 234],\n",
       "       [234, 234],\n",
       "       [234, 234]])"
      ]
     },
     "execution_count": 20,
     "metadata": {},
     "output_type": "execute_result"
    }
   ],
   "source": [
    "np.full((3, 2), 234)"
   ]
  },
  {
   "cell_type": "markdown",
   "metadata": {},
   "source": [
    "### 4. np.linspace\n",
    "n등분"
   ]
  },
  {
   "cell_type": "code",
   "execution_count": 19,
   "metadata": {},
   "outputs": [
    {
     "data": {
      "text/plain": [
       "array([ 0.        ,  0.52631579,  1.05263158,  1.57894737,  2.10526316,\n",
       "        2.63157895,  3.15789474,  3.68421053,  4.21052632,  4.73684211,\n",
       "        5.26315789,  5.78947368,  6.31578947,  6.84210526,  7.36842105,\n",
       "        7.89473684,  8.42105263,  8.94736842,  9.47368421, 10.        ])"
      ]
     },
     "execution_count": 19,
     "metadata": {},
     "output_type": "execute_result"
    }
   ],
   "source": [
    "np.linspace(0, 10, 20)"
   ]
  },
  {
   "cell_type": "markdown",
   "metadata": {},
   "source": [
    "### 5. np.eye\n",
    "* 단위 행렬, 항등 행렬"
   ]
  },
  {
   "cell_type": "code",
   "execution_count": 24,
   "metadata": {},
   "outputs": [
    {
     "data": {
      "text/plain": [
       "array([[1., 0., 0., 0.],\n",
       "       [0., 1., 0., 0.],\n",
       "       [0., 0., 1., 0.],\n",
       "       [0., 0., 0., 1.]])"
      ]
     },
     "execution_count": 24,
     "metadata": {},
     "output_type": "execute_result"
    }
   ],
   "source": [
    "np.eye(4)"
   ]
  },
  {
   "cell_type": "markdown",
   "metadata": {},
   "source": [
    "### 6. np.random"
   ]
  },
  {
   "cell_type": "code",
   "execution_count": 27,
   "metadata": {},
   "outputs": [
    {
     "data": {
      "text/plain": [
       "array([[0.01634963, 0.27315436],\n",
       "       [0.19319504, 0.41994274],\n",
       "       [0.83084982, 0.47582863]])"
      ]
     },
     "execution_count": 27,
     "metadata": {},
     "output_type": "execute_result"
    }
   ],
   "source": [
    "# 괄호 있으면 안 됨\n",
    "np.random.rand(3, 2)"
   ]
  },
  {
   "cell_type": "code",
   "execution_count": 28,
   "metadata": {},
   "outputs": [
    {
     "data": {
      "text/plain": [
       "array([[5, 5, 5, 5, 4, 3],\n",
       "       [4, 4, 3, 5, 4, 4]])"
      ]
     },
     "execution_count": 28,
     "metadata": {},
     "output_type": "execute_result"
    }
   ],
   "source": [
    "np.random.randint(2, 6, (2, 6))"
   ]
  },
  {
   "cell_type": "markdown",
   "metadata": {},
   "source": [
    "### 7. 배열 저장, 불러오기"
   ]
  },
  {
   "cell_type": "code",
   "execution_count": 34,
   "metadata": {},
   "outputs": [
    {
     "data": {
      "text/plain": [
       "(array([[0.52505712, 0.58819038, 0.18655914, 0.40692929, 0.09226231],\n",
       "        [0.17707961, 0.44939785, 0.23491131, 0.33492413, 0.15715265],\n",
       "        [0.16109607, 0.57772028, 0.3722032 , 0.92897988, 0.49872003]]),\n",
       " 61)"
      ]
     },
     "execution_count": 34,
     "metadata": {},
     "output_type": "execute_result"
    }
   ],
   "source": [
    "from tempfile import TemporaryFile\n",
    "file = TemporaryFile()\n",
    "np.save(file, np.random.rand(3, 5))\n",
    "file.seek(0)  # 파일 닫고 다시 여는 거\n",
    "np.load(file)"
   ]
  },
  {
   "cell_type": "markdown",
   "metadata": {},
   "source": [
    "## 3. 연산"
   ]
  },
  {
   "cell_type": "code",
   "execution_count": 35,
   "metadata": {},
   "outputs": [
    {
     "data": {
      "text/plain": [
       "(array([1, 2, 3, 4]), array([5, 6, 7, 8]))"
      ]
     },
     "execution_count": 35,
     "metadata": {},
     "output_type": "execute_result"
    }
   ],
   "source": [
    "a = np.arange(1, 5)\n",
    "b = np.arange(5, 9)\n",
    "a, b"
   ]
  },
  {
   "cell_type": "code",
   "execution_count": 36,
   "metadata": {},
   "outputs": [
    {
     "data": {
      "text/plain": [
       "(array([ 6,  8, 10, 12]),\n",
       " array([-4, -4, -4, -4]),\n",
       " array([ 5, 12, 21, 32]),\n",
       " array([0.2       , 0.33333333, 0.42857143, 0.5       ]))"
      ]
     },
     "execution_count": 36,
     "metadata": {},
     "output_type": "execute_result"
    }
   ],
   "source": [
    "a + b, a - b, a * b, a / b"
   ]
  },
  {
   "cell_type": "code",
   "execution_count": 37,
   "metadata": {},
   "outputs": [
    {
     "data": {
      "text/plain": [
       "(array([[1, 2, 3],\n",
       "        [4, 5, 6]]),\n",
       " array([[ 7,  8,  9],\n",
       "        [10, 11, 12]]))"
      ]
     },
     "execution_count": 37,
     "metadata": {},
     "output_type": "execute_result"
    }
   ],
   "source": [
    "a = np.arange(1, 7).reshape(2, 3)\n",
    "b = np.arange(7, 13).reshape(2, 3)\n",
    "a, b"
   ]
  },
  {
   "cell_type": "code",
   "execution_count": 38,
   "metadata": {},
   "outputs": [
    {
     "data": {
      "text/plain": [
       "(array([[ 8, 10, 12],\n",
       "        [14, 16, 18]]),\n",
       " array([[-6, -6, -6],\n",
       "        [-6, -6, -6]]),\n",
       " array([[ 7, 16, 27],\n",
       "        [40, 55, 72]]),\n",
       " array([[0.14285714, 0.25      , 0.33333333],\n",
       "        [0.4       , 0.45454545, 0.5       ]]))"
      ]
     },
     "execution_count": 38,
     "metadata": {},
     "output_type": "execute_result"
    }
   ],
   "source": [
    "a + b, a - b, a * b, a / b"
   ]
  },
  {
   "cell_type": "code",
   "execution_count": 39,
   "metadata": {},
   "outputs": [
    {
     "data": {
      "text/plain": [
       "(array([[1, 2, 3],\n",
       "        [4, 5, 6]]),\n",
       " array([[ 7,  8],\n",
       "        [ 9, 10],\n",
       "        [11, 12]]))"
      ]
     },
     "execution_count": 39,
     "metadata": {},
     "output_type": "execute_result"
    }
   ],
   "source": [
    "b = b.reshape(3, 2)\n",
    "a, b"
   ]
  },
  {
   "cell_type": "code",
   "execution_count": 41,
   "metadata": {},
   "outputs": [
    {
     "data": {
      "text/plain": [
       "(array([[ 58,  64],\n",
       "        [139, 154]]),\n",
       " array([[ 58,  64],\n",
       "        [139, 154]]),\n",
       " 58)"
      ]
     },
     "execution_count": 41,
     "metadata": {},
     "output_type": "execute_result"
    }
   ],
   "source": [
    "np.dot(a, b), a.dot(b), 1 * 7 + 2 * 9 + 3 * 11"
   ]
  },
  {
   "cell_type": "code",
   "execution_count": 42,
   "metadata": {},
   "outputs": [
    {
     "data": {
      "text/plain": [
       "(array([[4, 5, 6],\n",
       "        [7, 8, 9]]),\n",
       " array([[-2, -1,  0],\n",
       "        [ 1,  2,  3]]),\n",
       " array([[ 3,  6,  9],\n",
       "        [12, 15, 18]]),\n",
       " array([[0.33333333, 0.66666667, 1.        ],\n",
       "        [1.33333333, 1.66666667, 2.        ]]))"
      ]
     },
     "execution_count": 42,
     "metadata": {},
     "output_type": "execute_result"
    }
   ],
   "source": [
    "a + 3, a - 3, a * 3, a / 3"
   ]
  },
  {
   "cell_type": "code",
   "execution_count": 54,
   "metadata": {},
   "outputs": [
    {
     "data": {
      "text/plain": [
       "array([[1, 2, 3],\n",
       "       [4, 5, 6]])"
      ]
     },
     "execution_count": 54,
     "metadata": {},
     "output_type": "execute_result"
    }
   ],
   "source": [
    "a"
   ]
  },
  {
   "cell_type": "code",
   "execution_count": 51,
   "metadata": {},
   "outputs": [
    {
     "data": {
      "text/plain": [
       "((6, 1, 3.5, 1.707825127659933), (6, 1, 3.5, 3.5, 1.707825127659933))"
      ]
     },
     "execution_count": 51,
     "metadata": {},
     "output_type": "execute_result"
    }
   ],
   "source": [
    "# median은 메소드 X\n",
    "((a.max(), a.min(), a.mean(), a.std()),\n",
    "(np.max(a), np.min(a), np.mean(a), np.median(a), np.std(a)))"
   ]
  },
  {
   "cell_type": "code",
   "execution_count": 55,
   "metadata": {},
   "outputs": [
    {
     "data": {
      "text/plain": [
       "(array([ 1,  3,  6, 10, 15, 21]),\n",
       " array([[1, 2, 3],\n",
       "        [5, 7, 9]]))"
      ]
     },
     "execution_count": 55,
     "metadata": {},
     "output_type": "execute_result"
    }
   ],
   "source": [
    "np.cumsum(a), a.cumsum(axis=0)"
   ]
  },
  {
   "cell_type": "code",
   "execution_count": 57,
   "metadata": {},
   "outputs": [
    {
     "data": {
      "text/plain": [
       "array([[False, False,  True],\n",
       "       [ True,  True,  True]])"
      ]
     },
     "execution_count": 57,
     "metadata": {},
     "output_type": "execute_result"
    }
   ],
   "source": [
    "a > 2"
   ]
  },
  {
   "cell_type": "markdown",
   "metadata": {},
   "source": [
    "상관계수\n",
    "np.corrcoef\n",
    "$$\n",
    "\n",
    "$$"
   ]
  },
  {
   "cell_type": "markdown",
   "metadata": {},
   "source": [
    "## 4. 정렬\n",
    "* np.sort: 새 배열\n",
    "* ndarray.sort: 변형"
   ]
  },
  {
   "cell_type": "code",
   "execution_count": 59,
   "metadata": {},
   "outputs": [
    {
     "data": {
      "text/plain": [
       "array([0.13056666, 0.19793468, 0.30583883, 0.67328205, 0.70018477,\n",
       "       0.71068211, 0.90695719, 0.94165618, 0.97831807, 0.98959341])"
      ]
     },
     "execution_count": 59,
     "metadata": {},
     "output_type": "execute_result"
    }
   ],
   "source": [
    "np.sort(np.random.rand(10))"
   ]
  },
  {
   "cell_type": "code",
   "execution_count": 60,
   "metadata": {},
   "outputs": [
    {
     "data": {
      "text/plain": [
       "array([[0.12399275, 0.58314406],\n",
       "       [0.26377316, 0.93832719],\n",
       "       [0.03040312, 0.41235322]])"
      ]
     },
     "execution_count": 60,
     "metadata": {},
     "output_type": "execute_result"
    }
   ],
   "source": [
    "# 행 기준으로 정렬\n",
    "np.sort(np.random.rand(3, 2))"
   ]
  },
  {
   "cell_type": "code",
   "execution_count": 61,
   "metadata": {},
   "outputs": [
    {
     "data": {
      "text/plain": [
       "array([[0, 1],\n",
       "       [0, 1],\n",
       "       [1, 0]])"
      ]
     },
     "execution_count": 61,
     "metadata": {},
     "output_type": "execute_result"
    }
   ],
   "source": [
    "# 어느 인덱스의 원소가 올지\n",
    "np.argsort(np.random.rand(3, 2))"
   ]
  },
  {
   "cell_type": "markdown",
   "metadata": {},
   "source": [
    "# 3. Pandas\n",
    "* 데이터분석용 라이브러리\n",
    "* Series, DataFrame"
   ]
  }
 ],
 "metadata": {
  "interpreter": {
   "hash": "7a3d88c904243d2c3f246166597f86d1c0a39f3d97496d1fe394945d0c6d436d"
  },
  "kernelspec": {
   "display_name": "Python 3.7.10 64-bit",
   "name": "python3"
  },
  "language_info": {
   "codemirror_mode": {
    "name": "ipython",
    "version": 3
   },
   "file_extension": ".py",
   "mimetype": "text/x-python",
   "name": "python",
   "nbconvert_exporter": "python",
   "pygments_lexer": "ipython3",
   "version": "3.9.5"
  },
  "orig_nbformat": 4
 },
 "nbformat": 4,
 "nbformat_minor": 2
}