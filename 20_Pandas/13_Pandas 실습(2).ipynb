{
 "cells": [
  {
   "cell_type": "markdown",
   "metadata": {},
   "source": [
    "# 13. Pandas 실습 (2)"
   ]
  },
  {
   "cell_type": "code",
   "execution_count": 1,
   "metadata": {},
   "outputs": [],
   "source": [
    "# numpy, pandas import하기\n",
    "import numpy as np\n",
    "import pandas as pd"
   ]
  },
  {
   "cell_type": "markdown",
   "metadata": {},
   "source": [
    "## 13-1. 데이터 불러오기"
   ]
  },
  {
   "cell_type": "code",
   "execution_count": 2,
   "metadata": {},
   "outputs": [
    {
     "data": {
      "text/html": "<div>\n<style scoped>\n    .dataframe tbody tr th:only-of-type {\n        vertical-align: middle;\n    }\n\n    .dataframe tbody tr th {\n        vertical-align: top;\n    }\n\n    .dataframe thead th {\n        text-align: right;\n    }\n</style>\n<table border=\"1\" class=\"dataframe\">\n  <thead>\n    <tr style=\"text-align: right;\">\n      <th></th>\n      <th>학년</th>\n      <th>반</th>\n      <th>번호</th>\n      <th>이름</th>\n      <th>성별</th>\n      <th>국어</th>\n      <th>수학</th>\n    </tr>\n  </thead>\n  <tbody>\n    <tr>\n      <th>0</th>\n      <td>1</td>\n      <td>3</td>\n      <td>1</td>\n      <td>지민</td>\n      <td>남자</td>\n      <td>95.3</td>\n      <td>88.8</td>\n    </tr>\n    <tr>\n      <th>1</th>\n      <td>1</td>\n      <td>3</td>\n      <td>2</td>\n      <td>지드래곤</td>\n      <td>남자</td>\n      <td>91.9</td>\n      <td>79.3</td>\n    </tr>\n    <tr>\n      <th>2</th>\n      <td>1</td>\n      <td>3</td>\n      <td>3</td>\n      <td>강다니엘</td>\n      <td>남자</td>\n      <td>74.8</td>\n      <td>90.0</td>\n    </tr>\n    <tr>\n      <th>3</th>\n      <td>1</td>\n      <td>4</td>\n      <td>1</td>\n      <td>뷔</td>\n      <td>남자</td>\n      <td>88.8</td>\n      <td>NaN</td>\n    </tr>\n    <tr>\n      <th>4</th>\n      <td>1</td>\n      <td>4</td>\n      <td>2</td>\n      <td>화사</td>\n      <td>여자</td>\n      <td>88.1</td>\n      <td>87.6</td>\n    </tr>\n    <tr>\n      <th>5</th>\n      <td>1</td>\n      <td>4</td>\n      <td>3</td>\n      <td>정국</td>\n      <td>남자</td>\n      <td>90.0</td>\n      <td>NaN</td>\n    </tr>\n    <tr>\n      <th>6</th>\n      <td>1</td>\n      <td>5</td>\n      <td>1</td>\n      <td>민현</td>\n      <td>남자</td>\n      <td>78.5</td>\n      <td>77.8</td>\n    </tr>\n    <tr>\n      <th>7</th>\n      <td>1</td>\n      <td>5</td>\n      <td>2</td>\n      <td>소연</td>\n      <td>여자</td>\n      <td>83.2</td>\n      <td>75.2</td>\n    </tr>\n    <tr>\n      <th>8</th>\n      <td>1</td>\n      <td>5</td>\n      <td>3</td>\n      <td>진</td>\n      <td>남자</td>\n      <td>93.3</td>\n      <td>88.4</td>\n    </tr>\n    <tr>\n      <th>9</th>\n      <td>1</td>\n      <td>6</td>\n      <td>1</td>\n      <td>하성운</td>\n      <td>남자</td>\n      <td>85.4</td>\n      <td>78.8</td>\n    </tr>\n    <tr>\n      <th>10</th>\n      <td>1</td>\n      <td>6</td>\n      <td>2</td>\n      <td>태연</td>\n      <td>여자</td>\n      <td>88.8</td>\n      <td>81.0</td>\n    </tr>\n    <tr>\n      <th>11</th>\n      <td>1</td>\n      <td>6</td>\n      <td>3</td>\n      <td>차은우</td>\n      <td>남자</td>\n      <td>90.0</td>\n      <td>89.9</td>\n    </tr>\n  </tbody>\n</table>\n</div>",
      "text/plain": "    학년  반  번호    이름  성별    국어    수학\n0    1  3   1    지민  남자  95.3  88.8\n1    1  3   2  지드래곤  남자  91.9  79.3\n2    1  3   3  강다니엘  남자  74.8  90.0\n3    1  4   1     뷔  남자  88.8   NaN\n4    1  4   2    화사  여자  88.1  87.6\n5    1  4   3    정국  남자  90.0   NaN\n6    1  5   1    민현  남자  78.5  77.8\n7    1  5   2    소연  여자  83.2  75.2\n8    1  5   3     진  남자  93.3  88.4\n9    1  6   1   하성운  남자  85.4  78.8\n10   1  6   2    태연  여자  88.8  81.0\n11   1  6   3   차은우  남자  90.0  89.9"
     },
     "execution_count": 2,
     "metadata": {},
     "output_type": "execute_result"
    }
   ],
   "source": [
    "# 'http://bit.ly/student-score-2' URL로부터 csv 파일 불러오기 (첫번째 DataFrame)\n",
    "d = pd.read_csv('http://bit.ly/student-score-2')\n",
    "d"
   ]
  },
  {
   "cell_type": "markdown",
   "metadata": {},
   "source": [
    "## 13-2. 결측값 확인하기"
   ]
  },
  {
   "cell_type": "code",
   "execution_count": 3,
   "metadata": {},
   "outputs": [
    {
     "data": {
      "text/plain": "학년    0\n반     0\n번호    0\n이름    0\n성별    0\n국어    0\n수학    2\ndtype: int64"
     },
     "execution_count": 3,
     "metadata": {},
     "output_type": "execute_result"
    }
   ],
   "source": [
    "# 결측값 갯수세기 (isnull() 이용)\n",
    "d.isnull().sum()"
   ]
  },
  {
   "cell_type": "code",
   "execution_count": 4,
   "metadata": {},
   "outputs": [
    {
     "data": {
      "text/html": "<div>\n<style scoped>\n    .dataframe tbody tr th:only-of-type {\n        vertical-align: middle;\n    }\n\n    .dataframe tbody tr th {\n        vertical-align: top;\n    }\n\n    .dataframe thead th {\n        text-align: right;\n    }\n</style>\n<table border=\"1\" class=\"dataframe\">\n  <thead>\n    <tr style=\"text-align: right;\">\n      <th></th>\n      <th>학년</th>\n      <th>반</th>\n      <th>번호</th>\n      <th>이름</th>\n      <th>성별</th>\n      <th>국어</th>\n      <th>수학</th>\n    </tr>\n  </thead>\n  <tbody>\n    <tr>\n      <th>3</th>\n      <td>1</td>\n      <td>4</td>\n      <td>1</td>\n      <td>뷔</td>\n      <td>남자</td>\n      <td>88.8</td>\n      <td>NaN</td>\n    </tr>\n    <tr>\n      <th>5</th>\n      <td>1</td>\n      <td>4</td>\n      <td>3</td>\n      <td>정국</td>\n      <td>남자</td>\n      <td>90.0</td>\n      <td>NaN</td>\n    </tr>\n  </tbody>\n</table>\n</div>",
      "text/plain": "   학년  반  번호  이름  성별    국어  수학\n3   1  4   1   뷔  남자  88.8 NaN\n5   1  4   3  정국  남자  90.0 NaN"
     },
     "execution_count": 4,
     "metadata": {},
     "output_type": "execute_result"
    }
   ],
   "source": [
    "# 수학 점수에 결측값이 있는 행데이터 보기\n",
    "d.loc[d['수학'].isnull()]"
   ]
  },
  {
   "cell_type": "markdown",
   "metadata": {},
   "source": [
    "## 13-3. 결측값 처리하기"
   ]
  },
  {
   "cell_type": "code",
   "execution_count": 5,
   "metadata": {},
   "outputs": [
    {
     "data": {
      "text/plain": "83.7"
     },
     "execution_count": 5,
     "metadata": {},
     "output_type": "execute_result"
    }
   ],
   "source": [
    "# 수학 점수 평균구하기 (소숫점 첫째자리까지)\n",
    "math_mean_score = round(d['수학'].mean(), 1)\n",
    "math_mean_score"
   ]
  },
  {
   "cell_type": "code",
   "execution_count": 6,
   "metadata": {},
   "outputs": [
    {
     "data": {
      "text/html": "<div>\n<style scoped>\n    .dataframe tbody tr th:only-of-type {\n        vertical-align: middle;\n    }\n\n    .dataframe tbody tr th {\n        vertical-align: top;\n    }\n\n    .dataframe thead th {\n        text-align: right;\n    }\n</style>\n<table border=\"1\" class=\"dataframe\">\n  <thead>\n    <tr style=\"text-align: right;\">\n      <th></th>\n      <th>학년</th>\n      <th>반</th>\n      <th>번호</th>\n      <th>이름</th>\n      <th>성별</th>\n      <th>국어</th>\n      <th>수학</th>\n    </tr>\n  </thead>\n  <tbody>\n    <tr>\n      <th>0</th>\n      <td>1</td>\n      <td>3</td>\n      <td>1</td>\n      <td>지민</td>\n      <td>남자</td>\n      <td>95.3</td>\n      <td>88.8</td>\n    </tr>\n    <tr>\n      <th>1</th>\n      <td>1</td>\n      <td>3</td>\n      <td>2</td>\n      <td>지드래곤</td>\n      <td>남자</td>\n      <td>91.9</td>\n      <td>79.3</td>\n    </tr>\n    <tr>\n      <th>2</th>\n      <td>1</td>\n      <td>3</td>\n      <td>3</td>\n      <td>강다니엘</td>\n      <td>남자</td>\n      <td>74.8</td>\n      <td>90.0</td>\n    </tr>\n    <tr>\n      <th>3</th>\n      <td>1</td>\n      <td>4</td>\n      <td>1</td>\n      <td>뷔</td>\n      <td>남자</td>\n      <td>88.8</td>\n      <td>83.7</td>\n    </tr>\n    <tr>\n      <th>4</th>\n      <td>1</td>\n      <td>4</td>\n      <td>2</td>\n      <td>화사</td>\n      <td>여자</td>\n      <td>88.1</td>\n      <td>87.6</td>\n    </tr>\n    <tr>\n      <th>5</th>\n      <td>1</td>\n      <td>4</td>\n      <td>3</td>\n      <td>정국</td>\n      <td>남자</td>\n      <td>90.0</td>\n      <td>83.7</td>\n    </tr>\n    <tr>\n      <th>6</th>\n      <td>1</td>\n      <td>5</td>\n      <td>1</td>\n      <td>민현</td>\n      <td>남자</td>\n      <td>78.5</td>\n      <td>77.8</td>\n    </tr>\n    <tr>\n      <th>7</th>\n      <td>1</td>\n      <td>5</td>\n      <td>2</td>\n      <td>소연</td>\n      <td>여자</td>\n      <td>83.2</td>\n      <td>75.2</td>\n    </tr>\n    <tr>\n      <th>8</th>\n      <td>1</td>\n      <td>5</td>\n      <td>3</td>\n      <td>진</td>\n      <td>남자</td>\n      <td>93.3</td>\n      <td>88.4</td>\n    </tr>\n    <tr>\n      <th>9</th>\n      <td>1</td>\n      <td>6</td>\n      <td>1</td>\n      <td>하성운</td>\n      <td>남자</td>\n      <td>85.4</td>\n      <td>78.8</td>\n    </tr>\n    <tr>\n      <th>10</th>\n      <td>1</td>\n      <td>6</td>\n      <td>2</td>\n      <td>태연</td>\n      <td>여자</td>\n      <td>88.8</td>\n      <td>81.0</td>\n    </tr>\n    <tr>\n      <th>11</th>\n      <td>1</td>\n      <td>6</td>\n      <td>3</td>\n      <td>차은우</td>\n      <td>남자</td>\n      <td>90.0</td>\n      <td>89.9</td>\n    </tr>\n  </tbody>\n</table>\n</div>",
      "text/plain": "    학년  반  번호    이름  성별    국어    수학\n0    1  3   1    지민  남자  95.3  88.8\n1    1  3   2  지드래곤  남자  91.9  79.3\n2    1  3   3  강다니엘  남자  74.8  90.0\n3    1  4   1     뷔  남자  88.8  83.7\n4    1  4   2    화사  여자  88.1  87.6\n5    1  4   3    정국  남자  90.0  83.7\n6    1  5   1    민현  남자  78.5  77.8\n7    1  5   2    소연  여자  83.2  75.2\n8    1  5   3     진  남자  93.3  88.4\n9    1  6   1   하성운  남자  85.4  78.8\n10   1  6   2    태연  여자  88.8  81.0\n11   1  6   3   차은우  남자  90.0  89.9"
     },
     "execution_count": 6,
     "metadata": {},
     "output_type": "execute_result"
    }
   ],
   "source": [
    "# 수학 점수의 결측값을 평균값으로 채우기\n",
    "d.loc[d['수학'].isnull(), '수학'] = math_mean_score\n",
    "d"
   ]
  },
  {
   "cell_type": "code",
   "execution_count": 7,
   "metadata": {},
   "outputs": [
    {
     "data": {
      "text/plain": "학년    0\n반     0\n번호    0\n이름    0\n성별    0\n국어    0\n수학    0\ndtype: int64"
     },
     "execution_count": 7,
     "metadata": {},
     "output_type": "execute_result"
    }
   ],
   "source": [
    "# 결측값 갯수세기 (isnull() 이용)\n",
    "d.isnull().sum()"
   ]
  },
  {
   "cell_type": "markdown",
   "metadata": {},
   "source": [
    "## 13-4. 자료형 변환하기"
   ]
  },
  {
   "cell_type": "code",
   "execution_count": 8,
   "metadata": {},
   "outputs": [
    {
     "data": {
      "text/html": "<div>\n<style scoped>\n    .dataframe tbody tr th:only-of-type {\n        vertical-align: middle;\n    }\n\n    .dataframe tbody tr th {\n        vertical-align: top;\n    }\n\n    .dataframe thead th {\n        text-align: right;\n    }\n</style>\n<table border=\"1\" class=\"dataframe\">\n  <thead>\n    <tr style=\"text-align: right;\">\n      <th></th>\n      <th>학년</th>\n      <th>반</th>\n      <th>번호</th>\n      <th>이름</th>\n      <th>성별</th>\n      <th>국어</th>\n      <th>수학</th>\n    </tr>\n  </thead>\n  <tbody>\n    <tr>\n      <th>0</th>\n      <td>1</td>\n      <td>3</td>\n      <td>1</td>\n      <td>지민</td>\n      <td>남자</td>\n      <td>95</td>\n      <td>88</td>\n    </tr>\n    <tr>\n      <th>1</th>\n      <td>1</td>\n      <td>3</td>\n      <td>2</td>\n      <td>지드래곤</td>\n      <td>남자</td>\n      <td>91</td>\n      <td>79</td>\n    </tr>\n    <tr>\n      <th>2</th>\n      <td>1</td>\n      <td>3</td>\n      <td>3</td>\n      <td>강다니엘</td>\n      <td>남자</td>\n      <td>74</td>\n      <td>90</td>\n    </tr>\n    <tr>\n      <th>3</th>\n      <td>1</td>\n      <td>4</td>\n      <td>1</td>\n      <td>뷔</td>\n      <td>남자</td>\n      <td>88</td>\n      <td>83</td>\n    </tr>\n    <tr>\n      <th>4</th>\n      <td>1</td>\n      <td>4</td>\n      <td>2</td>\n      <td>화사</td>\n      <td>여자</td>\n      <td>88</td>\n      <td>87</td>\n    </tr>\n    <tr>\n      <th>5</th>\n      <td>1</td>\n      <td>4</td>\n      <td>3</td>\n      <td>정국</td>\n      <td>남자</td>\n      <td>90</td>\n      <td>83</td>\n    </tr>\n    <tr>\n      <th>6</th>\n      <td>1</td>\n      <td>5</td>\n      <td>1</td>\n      <td>민현</td>\n      <td>남자</td>\n      <td>78</td>\n      <td>77</td>\n    </tr>\n    <tr>\n      <th>7</th>\n      <td>1</td>\n      <td>5</td>\n      <td>2</td>\n      <td>소연</td>\n      <td>여자</td>\n      <td>83</td>\n      <td>75</td>\n    </tr>\n    <tr>\n      <th>8</th>\n      <td>1</td>\n      <td>5</td>\n      <td>3</td>\n      <td>진</td>\n      <td>남자</td>\n      <td>93</td>\n      <td>88</td>\n    </tr>\n    <tr>\n      <th>9</th>\n      <td>1</td>\n      <td>6</td>\n      <td>1</td>\n      <td>하성운</td>\n      <td>남자</td>\n      <td>85</td>\n      <td>78</td>\n    </tr>\n    <tr>\n      <th>10</th>\n      <td>1</td>\n      <td>6</td>\n      <td>2</td>\n      <td>태연</td>\n      <td>여자</td>\n      <td>88</td>\n      <td>81</td>\n    </tr>\n    <tr>\n      <th>11</th>\n      <td>1</td>\n      <td>6</td>\n      <td>3</td>\n      <td>차은우</td>\n      <td>남자</td>\n      <td>90</td>\n      <td>89</td>\n    </tr>\n  </tbody>\n</table>\n</div>",
      "text/plain": "    학년  반  번호    이름  성별  국어  수학\n0    1  3   1    지민  남자  95  88\n1    1  3   2  지드래곤  남자  91  79\n2    1  3   3  강다니엘  남자  74  90\n3    1  4   1     뷔  남자  88  83\n4    1  4   2    화사  여자  88  87\n5    1  4   3    정국  남자  90  83\n6    1  5   1    민현  남자  78  77\n7    1  5   2    소연  여자  83  75\n8    1  5   3     진  남자  93  88\n9    1  6   1   하성운  남자  85  78\n10   1  6   2    태연  여자  88  81\n11   1  6   3   차은우  남자  90  89"
     },
     "execution_count": 8,
     "metadata": {},
     "output_type": "execute_result"
    }
   ],
   "source": [
    "# 국어, 수학 컬럼의 자료형을 float -> int로 변환하기\n",
    "d['국어'] = d['국어'].astype(int)\n",
    "d['수학'] = d['수학'].astype(int)\n",
    "d"
   ]
  },
  {
   "cell_type": "markdown",
   "metadata": {},
   "source": [
    "## 13-5. DataFrame 합치기"
   ]
  },
  {
   "cell_type": "code",
   "execution_count": 9,
   "metadata": {},
   "outputs": [
    {
     "data": {
      "text/html": "<div>\n<style scoped>\n    .dataframe tbody tr th:only-of-type {\n        vertical-align: middle;\n    }\n\n    .dataframe tbody tr th {\n        vertical-align: top;\n    }\n\n    .dataframe thead th {\n        text-align: right;\n    }\n</style>\n<table border=\"1\" class=\"dataframe\">\n  <thead>\n    <tr style=\"text-align: right;\">\n      <th></th>\n      <th>이름</th>\n      <th>영어</th>\n      <th>IT</th>\n    </tr>\n  </thead>\n  <tbody>\n    <tr>\n      <th>0</th>\n      <td>지민</td>\n      <td>79</td>\n      <td>100</td>\n    </tr>\n    <tr>\n      <th>1</th>\n      <td>지드래곤</td>\n      <td>80</td>\n      <td>95</td>\n    </tr>\n    <tr>\n      <th>2</th>\n      <td>강다니엘</td>\n      <td>88</td>\n      <td>91</td>\n    </tr>\n    <tr>\n      <th>3</th>\n      <td>뷔</td>\n      <td>90</td>\n      <td>89</td>\n    </tr>\n    <tr>\n      <th>4</th>\n      <td>화사</td>\n      <td>89</td>\n      <td>90</td>\n    </tr>\n    <tr>\n      <th>5</th>\n      <td>정국</td>\n      <td>85</td>\n      <td>88</td>\n    </tr>\n    <tr>\n      <th>6</th>\n      <td>민현</td>\n      <td>80</td>\n      <td>81</td>\n    </tr>\n    <tr>\n      <th>7</th>\n      <td>소연</td>\n      <td>81</td>\n      <td>88</td>\n    </tr>\n    <tr>\n      <th>8</th>\n      <td>진</td>\n      <td>88</td>\n      <td>80</td>\n    </tr>\n    <tr>\n      <th>9</th>\n      <td>하성운</td>\n      <td>70</td>\n      <td>80</td>\n    </tr>\n    <tr>\n      <th>10</th>\n      <td>태연</td>\n      <td>79</td>\n      <td>85</td>\n    </tr>\n    <tr>\n      <th>11</th>\n      <td>차은우</td>\n      <td>85</td>\n      <td>99</td>\n    </tr>\n  </tbody>\n</table>\n</div>",
      "text/plain": "      이름  영어   IT\n0     지민  79  100\n1   지드래곤  80   95\n2   강다니엘  88   91\n3      뷔  90   89\n4     화사  89   90\n5     정국  85   88\n6     민현  80   81\n7     소연  81   88\n8      진  88   80\n9    하성운  70   80\n10    태연  79   85\n11   차은우  85   99"
     },
     "execution_count": 9,
     "metadata": {},
     "output_type": "execute_result"
    }
   ],
   "source": [
    "# 'http://bit.ly/student-score-3' URL로부터 csv 파일 불러오기 (두번째 DataFrame)\n",
    "d2 = pd.read_csv('http://bit.ly/student-score-3')\n",
    "d2"
   ]
  },
  {
   "cell_type": "code",
   "execution_count": 10,
   "metadata": {},
   "outputs": [
    {
     "data": {
      "text/html": "<div>\n<style scoped>\n    .dataframe tbody tr th:only-of-type {\n        vertical-align: middle;\n    }\n\n    .dataframe tbody tr th {\n        vertical-align: top;\n    }\n\n    .dataframe thead th {\n        text-align: right;\n    }\n</style>\n<table border=\"1\" class=\"dataframe\">\n  <thead>\n    <tr style=\"text-align: right;\">\n      <th></th>\n      <th>학년</th>\n      <th>반</th>\n      <th>번호</th>\n      <th>이름</th>\n      <th>성별</th>\n      <th>국어</th>\n      <th>수학</th>\n      <th>이름</th>\n      <th>영어</th>\n      <th>IT</th>\n    </tr>\n  </thead>\n  <tbody>\n    <tr>\n      <th>0</th>\n      <td>1</td>\n      <td>3</td>\n      <td>1</td>\n      <td>지민</td>\n      <td>남자</td>\n      <td>95</td>\n      <td>88</td>\n      <td>지민</td>\n      <td>79</td>\n      <td>100</td>\n    </tr>\n    <tr>\n      <th>1</th>\n      <td>1</td>\n      <td>3</td>\n      <td>2</td>\n      <td>지드래곤</td>\n      <td>남자</td>\n      <td>91</td>\n      <td>79</td>\n      <td>지드래곤</td>\n      <td>80</td>\n      <td>95</td>\n    </tr>\n    <tr>\n      <th>2</th>\n      <td>1</td>\n      <td>3</td>\n      <td>3</td>\n      <td>강다니엘</td>\n      <td>남자</td>\n      <td>74</td>\n      <td>90</td>\n      <td>강다니엘</td>\n      <td>88</td>\n      <td>91</td>\n    </tr>\n    <tr>\n      <th>3</th>\n      <td>1</td>\n      <td>4</td>\n      <td>1</td>\n      <td>뷔</td>\n      <td>남자</td>\n      <td>88</td>\n      <td>83</td>\n      <td>뷔</td>\n      <td>90</td>\n      <td>89</td>\n    </tr>\n    <tr>\n      <th>4</th>\n      <td>1</td>\n      <td>4</td>\n      <td>2</td>\n      <td>화사</td>\n      <td>여자</td>\n      <td>88</td>\n      <td>87</td>\n      <td>화사</td>\n      <td>89</td>\n      <td>90</td>\n    </tr>\n    <tr>\n      <th>5</th>\n      <td>1</td>\n      <td>4</td>\n      <td>3</td>\n      <td>정국</td>\n      <td>남자</td>\n      <td>90</td>\n      <td>83</td>\n      <td>정국</td>\n      <td>85</td>\n      <td>88</td>\n    </tr>\n    <tr>\n      <th>6</th>\n      <td>1</td>\n      <td>5</td>\n      <td>1</td>\n      <td>민현</td>\n      <td>남자</td>\n      <td>78</td>\n      <td>77</td>\n      <td>민현</td>\n      <td>80</td>\n      <td>81</td>\n    </tr>\n    <tr>\n      <th>7</th>\n      <td>1</td>\n      <td>5</td>\n      <td>2</td>\n      <td>소연</td>\n      <td>여자</td>\n      <td>83</td>\n      <td>75</td>\n      <td>소연</td>\n      <td>81</td>\n      <td>88</td>\n    </tr>\n    <tr>\n      <th>8</th>\n      <td>1</td>\n      <td>5</td>\n      <td>3</td>\n      <td>진</td>\n      <td>남자</td>\n      <td>93</td>\n      <td>88</td>\n      <td>진</td>\n      <td>88</td>\n      <td>80</td>\n    </tr>\n    <tr>\n      <th>9</th>\n      <td>1</td>\n      <td>6</td>\n      <td>1</td>\n      <td>하성운</td>\n      <td>남자</td>\n      <td>85</td>\n      <td>78</td>\n      <td>하성운</td>\n      <td>70</td>\n      <td>80</td>\n    </tr>\n    <tr>\n      <th>10</th>\n      <td>1</td>\n      <td>6</td>\n      <td>2</td>\n      <td>태연</td>\n      <td>여자</td>\n      <td>88</td>\n      <td>81</td>\n      <td>태연</td>\n      <td>79</td>\n      <td>85</td>\n    </tr>\n    <tr>\n      <th>11</th>\n      <td>1</td>\n      <td>6</td>\n      <td>3</td>\n      <td>차은우</td>\n      <td>남자</td>\n      <td>90</td>\n      <td>89</td>\n      <td>차은우</td>\n      <td>85</td>\n      <td>99</td>\n    </tr>\n  </tbody>\n</table>\n</div>",
      "text/plain": "    학년  반  번호    이름  성별  국어  수학    이름  영어   IT\n0    1  3   1    지민  남자  95  88    지민  79  100\n1    1  3   2  지드래곤  남자  91  79  지드래곤  80   95\n2    1  3   3  강다니엘  남자  74  90  강다니엘  88   91\n3    1  4   1     뷔  남자  88  83     뷔  90   89\n4    1  4   2    화사  여자  88  87    화사  89   90\n5    1  4   3    정국  남자  90  83    정국  85   88\n6    1  5   1    민현  남자  78  77    민현  80   81\n7    1  5   2    소연  여자  83  75    소연  81   88\n8    1  5   3     진  남자  93  88     진  88   80\n9    1  6   1   하성운  남자  85  78   하성운  70   80\n10   1  6   2    태연  여자  88  81    태연  79   85\n11   1  6   3   차은우  남자  90  89   차은우  85   99"
     },
     "execution_count": 10,
     "metadata": {},
     "output_type": "execute_result"
    }
   ],
   "source": [
    "# 두개의 DataFrame을 열방향으로 합치기 (concat() 사용)\n",
    "pd.concat([d, d2], axis=1)"
   ]
  },
  {
   "cell_type": "markdown",
   "metadata": {},
   "source": [
    "## 13-6. DataFrame 데이터 삭제하기"
   ]
  },
  {
   "cell_type": "code",
   "execution_count": 11,
   "metadata": {},
   "outputs": [
    {
     "data": {
      "text/html": "<div>\n<style scoped>\n    .dataframe tbody tr th:only-of-type {\n        vertical-align: middle;\n    }\n\n    .dataframe tbody tr th {\n        vertical-align: top;\n    }\n\n    .dataframe thead th {\n        text-align: right;\n    }\n</style>\n<table border=\"1\" class=\"dataframe\">\n  <thead>\n    <tr style=\"text-align: right;\">\n      <th></th>\n      <th>학년</th>\n      <th>반</th>\n      <th>번호</th>\n      <th>이름</th>\n      <th>성별</th>\n      <th>국어</th>\n      <th>수학</th>\n    </tr>\n  </thead>\n  <tbody>\n    <tr>\n      <th>0</th>\n      <td>1</td>\n      <td>3</td>\n      <td>1</td>\n      <td>지민</td>\n      <td>남자</td>\n      <td>95</td>\n      <td>88</td>\n    </tr>\n    <tr>\n      <th>2</th>\n      <td>1</td>\n      <td>3</td>\n      <td>3</td>\n      <td>강다니엘</td>\n      <td>남자</td>\n      <td>74</td>\n      <td>90</td>\n    </tr>\n    <tr>\n      <th>3</th>\n      <td>1</td>\n      <td>4</td>\n      <td>1</td>\n      <td>뷔</td>\n      <td>남자</td>\n      <td>88</td>\n      <td>83</td>\n    </tr>\n    <tr>\n      <th>4</th>\n      <td>1</td>\n      <td>4</td>\n      <td>2</td>\n      <td>화사</td>\n      <td>여자</td>\n      <td>88</td>\n      <td>87</td>\n    </tr>\n    <tr>\n      <th>5</th>\n      <td>1</td>\n      <td>4</td>\n      <td>3</td>\n      <td>정국</td>\n      <td>남자</td>\n      <td>90</td>\n      <td>83</td>\n    </tr>\n    <tr>\n      <th>6</th>\n      <td>1</td>\n      <td>5</td>\n      <td>1</td>\n      <td>민현</td>\n      <td>남자</td>\n      <td>78</td>\n      <td>77</td>\n    </tr>\n    <tr>\n      <th>7</th>\n      <td>1</td>\n      <td>5</td>\n      <td>2</td>\n      <td>소연</td>\n      <td>여자</td>\n      <td>83</td>\n      <td>75</td>\n    </tr>\n    <tr>\n      <th>8</th>\n      <td>1</td>\n      <td>5</td>\n      <td>3</td>\n      <td>진</td>\n      <td>남자</td>\n      <td>93</td>\n      <td>88</td>\n    </tr>\n    <tr>\n      <th>9</th>\n      <td>1</td>\n      <td>6</td>\n      <td>1</td>\n      <td>하성운</td>\n      <td>남자</td>\n      <td>85</td>\n      <td>78</td>\n    </tr>\n    <tr>\n      <th>10</th>\n      <td>1</td>\n      <td>6</td>\n      <td>2</td>\n      <td>태연</td>\n      <td>여자</td>\n      <td>88</td>\n      <td>81</td>\n    </tr>\n    <tr>\n      <th>11</th>\n      <td>1</td>\n      <td>6</td>\n      <td>3</td>\n      <td>차은우</td>\n      <td>남자</td>\n      <td>90</td>\n      <td>89</td>\n    </tr>\n  </tbody>\n</table>\n</div>",
      "text/plain": "    학년  반  번호    이름  성별  국어  수학\n0    1  3   1    지민  남자  95  88\n2    1  3   3  강다니엘  남자  74  90\n3    1  4   1     뷔  남자  88  83\n4    1  4   2    화사  여자  88  87\n5    1  4   3    정국  남자  90  83\n6    1  5   1    민현  남자  78  77\n7    1  5   2    소연  여자  83  75\n8    1  5   3     진  남자  93  88\n9    1  6   1   하성운  남자  85  78\n10   1  6   2    태연  여자  88  81\n11   1  6   3   차은우  남자  90  89"
     },
     "execution_count": 11,
     "metadata": {},
     "output_type": "execute_result"
    }
   ],
   "source": [
    "# 첫번째 DataFrame에서 지드래곤 삭제하기\n",
    "d = d.drop(1)\n",
    "d"
   ]
  },
  {
   "cell_type": "code",
   "execution_count": 12,
   "metadata": {},
   "outputs": [
    {
     "data": {
      "text/html": "<div>\n<style scoped>\n    .dataframe tbody tr th:only-of-type {\n        vertical-align: middle;\n    }\n\n    .dataframe tbody tr th {\n        vertical-align: top;\n    }\n\n    .dataframe thead th {\n        text-align: right;\n    }\n</style>\n<table border=\"1\" class=\"dataframe\">\n  <thead>\n    <tr style=\"text-align: right;\">\n      <th></th>\n      <th>학년</th>\n      <th>반</th>\n      <th>번호</th>\n      <th>이름</th>\n      <th>성별</th>\n      <th>국어</th>\n      <th>수학</th>\n    </tr>\n  </thead>\n  <tbody>\n    <tr>\n      <th>0</th>\n      <td>1</td>\n      <td>3</td>\n      <td>1</td>\n      <td>지민</td>\n      <td>남자</td>\n      <td>95</td>\n      <td>88</td>\n    </tr>\n    <tr>\n      <th>1</th>\n      <td>1</td>\n      <td>3</td>\n      <td>3</td>\n      <td>강다니엘</td>\n      <td>남자</td>\n      <td>74</td>\n      <td>90</td>\n    </tr>\n    <tr>\n      <th>2</th>\n      <td>1</td>\n      <td>4</td>\n      <td>1</td>\n      <td>뷔</td>\n      <td>남자</td>\n      <td>88</td>\n      <td>83</td>\n    </tr>\n    <tr>\n      <th>3</th>\n      <td>1</td>\n      <td>4</td>\n      <td>2</td>\n      <td>화사</td>\n      <td>여자</td>\n      <td>88</td>\n      <td>87</td>\n    </tr>\n    <tr>\n      <th>4</th>\n      <td>1</td>\n      <td>4</td>\n      <td>3</td>\n      <td>정국</td>\n      <td>남자</td>\n      <td>90</td>\n      <td>83</td>\n    </tr>\n    <tr>\n      <th>5</th>\n      <td>1</td>\n      <td>5</td>\n      <td>1</td>\n      <td>민현</td>\n      <td>남자</td>\n      <td>78</td>\n      <td>77</td>\n    </tr>\n    <tr>\n      <th>6</th>\n      <td>1</td>\n      <td>5</td>\n      <td>2</td>\n      <td>소연</td>\n      <td>여자</td>\n      <td>83</td>\n      <td>75</td>\n    </tr>\n    <tr>\n      <th>7</th>\n      <td>1</td>\n      <td>5</td>\n      <td>3</td>\n      <td>진</td>\n      <td>남자</td>\n      <td>93</td>\n      <td>88</td>\n    </tr>\n    <tr>\n      <th>8</th>\n      <td>1</td>\n      <td>6</td>\n      <td>1</td>\n      <td>하성운</td>\n      <td>남자</td>\n      <td>85</td>\n      <td>78</td>\n    </tr>\n    <tr>\n      <th>9</th>\n      <td>1</td>\n      <td>6</td>\n      <td>2</td>\n      <td>태연</td>\n      <td>여자</td>\n      <td>88</td>\n      <td>81</td>\n    </tr>\n    <tr>\n      <th>10</th>\n      <td>1</td>\n      <td>6</td>\n      <td>3</td>\n      <td>차은우</td>\n      <td>남자</td>\n      <td>90</td>\n      <td>89</td>\n    </tr>\n  </tbody>\n</table>\n</div>",
      "text/plain": "    학년  반  번호    이름  성별  국어  수학\n0    1  3   1    지민  남자  95  88\n1    1  3   3  강다니엘  남자  74  90\n2    1  4   1     뷔  남자  88  83\n3    1  4   2    화사  여자  88  87\n4    1  4   3    정국  남자  90  83\n5    1  5   1    민현  남자  78  77\n6    1  5   2    소연  여자  83  75\n7    1  5   3     진  남자  93  88\n8    1  6   1   하성운  남자  85  78\n9    1  6   2    태연  여자  88  81\n10   1  6   3   차은우  남자  90  89"
     },
     "execution_count": 12,
     "metadata": {},
     "output_type": "execute_result"
    }
   ],
   "source": [
    "# 첫번째 DataFrame index reset하기 (reset_index() 이용하기)\n",
    "d = d.reset_index(drop=True)\n",
    "d"
   ]
  },
  {
   "cell_type": "code",
   "execution_count": 13,
   "metadata": {},
   "outputs": [
    {
     "data": {
      "text/html": "<div>\n<style scoped>\n    .dataframe tbody tr th:only-of-type {\n        vertical-align: middle;\n    }\n\n    .dataframe tbody tr th {\n        vertical-align: top;\n    }\n\n    .dataframe thead th {\n        text-align: right;\n    }\n</style>\n<table border=\"1\" class=\"dataframe\">\n  <thead>\n    <tr style=\"text-align: right;\">\n      <th></th>\n      <th>이름</th>\n      <th>영어</th>\n      <th>IT</th>\n    </tr>\n  </thead>\n  <tbody>\n    <tr>\n      <th>0</th>\n      <td>지민</td>\n      <td>79</td>\n      <td>100</td>\n    </tr>\n    <tr>\n      <th>1</th>\n      <td>지드래곤</td>\n      <td>80</td>\n      <td>95</td>\n    </tr>\n    <tr>\n      <th>2</th>\n      <td>강다니엘</td>\n      <td>88</td>\n      <td>91</td>\n    </tr>\n    <tr>\n      <th>4</th>\n      <td>화사</td>\n      <td>89</td>\n      <td>90</td>\n    </tr>\n    <tr>\n      <th>6</th>\n      <td>민현</td>\n      <td>80</td>\n      <td>81</td>\n    </tr>\n    <tr>\n      <th>7</th>\n      <td>소연</td>\n      <td>81</td>\n      <td>88</td>\n    </tr>\n    <tr>\n      <th>8</th>\n      <td>진</td>\n      <td>88</td>\n      <td>80</td>\n    </tr>\n    <tr>\n      <th>9</th>\n      <td>하성운</td>\n      <td>70</td>\n      <td>80</td>\n    </tr>\n    <tr>\n      <th>10</th>\n      <td>태연</td>\n      <td>79</td>\n      <td>85</td>\n    </tr>\n    <tr>\n      <th>11</th>\n      <td>차은우</td>\n      <td>85</td>\n      <td>99</td>\n    </tr>\n  </tbody>\n</table>\n</div>",
      "text/plain": "      이름  영어   IT\n0     지민  79  100\n1   지드래곤  80   95\n2   강다니엘  88   91\n4     화사  89   90\n6     민현  80   81\n7     소연  81   88\n8      진  88   80\n9    하성운  70   80\n10    태연  79   85\n11   차은우  85   99"
     },
     "execution_count": 13,
     "metadata": {},
     "output_type": "execute_result"
    }
   ],
   "source": [
    "# 두번째 DataFrame에서 뷔, 정국 삭제하기\n",
    "d2 = d2.drop([3, 5])\n",
    "d2"
   ]
  },
  {
   "cell_type": "code",
   "execution_count": 14,
   "metadata": {},
   "outputs": [
    {
     "data": {
      "text/html": "<div>\n<style scoped>\n    .dataframe tbody tr th:only-of-type {\n        vertical-align: middle;\n    }\n\n    .dataframe tbody tr th {\n        vertical-align: top;\n    }\n\n    .dataframe thead th {\n        text-align: right;\n    }\n</style>\n<table border=\"1\" class=\"dataframe\">\n  <thead>\n    <tr style=\"text-align: right;\">\n      <th></th>\n      <th>이름</th>\n      <th>영어</th>\n      <th>IT</th>\n    </tr>\n  </thead>\n  <tbody>\n    <tr>\n      <th>0</th>\n      <td>지민</td>\n      <td>79</td>\n      <td>100</td>\n    </tr>\n    <tr>\n      <th>1</th>\n      <td>지드래곤</td>\n      <td>80</td>\n      <td>95</td>\n    </tr>\n    <tr>\n      <th>2</th>\n      <td>강다니엘</td>\n      <td>88</td>\n      <td>91</td>\n    </tr>\n    <tr>\n      <th>3</th>\n      <td>화사</td>\n      <td>89</td>\n      <td>90</td>\n    </tr>\n    <tr>\n      <th>4</th>\n      <td>민현</td>\n      <td>80</td>\n      <td>81</td>\n    </tr>\n    <tr>\n      <th>5</th>\n      <td>소연</td>\n      <td>81</td>\n      <td>88</td>\n    </tr>\n    <tr>\n      <th>6</th>\n      <td>진</td>\n      <td>88</td>\n      <td>80</td>\n    </tr>\n    <tr>\n      <th>7</th>\n      <td>하성운</td>\n      <td>70</td>\n      <td>80</td>\n    </tr>\n    <tr>\n      <th>8</th>\n      <td>태연</td>\n      <td>79</td>\n      <td>85</td>\n    </tr>\n    <tr>\n      <th>9</th>\n      <td>차은우</td>\n      <td>85</td>\n      <td>99</td>\n    </tr>\n  </tbody>\n</table>\n</div>",
      "text/plain": "     이름  영어   IT\n0    지민  79  100\n1  지드래곤  80   95\n2  강다니엘  88   91\n3    화사  89   90\n4    민현  80   81\n5    소연  81   88\n6     진  88   80\n7   하성운  70   80\n8    태연  79   85\n9   차은우  85   99"
     },
     "execution_count": 14,
     "metadata": {},
     "output_type": "execute_result"
    }
   ],
   "source": [
    "# 두번째 DataFrame index reset하기 (reset_index() 이용하기)\n",
    "d2 = d2.reset_index(drop=True)\n",
    "d2"
   ]
  },
  {
   "cell_type": "markdown",
   "metadata": {},
   "source": [
    "## 13-7. DataFrame 병합하기"
   ]
  },
  {
   "cell_type": "code",
   "execution_count": 15,
   "metadata": {},
   "outputs": [
    {
     "data": {
      "text/html": "<div>\n<style scoped>\n    .dataframe tbody tr th:only-of-type {\n        vertical-align: middle;\n    }\n\n    .dataframe tbody tr th {\n        vertical-align: top;\n    }\n\n    .dataframe thead th {\n        text-align: right;\n    }\n</style>\n<table border=\"1\" class=\"dataframe\">\n  <thead>\n    <tr style=\"text-align: right;\">\n      <th></th>\n      <th>학년</th>\n      <th>반</th>\n      <th>번호</th>\n      <th>이름</th>\n      <th>성별</th>\n      <th>국어</th>\n      <th>수학</th>\n      <th>영어</th>\n      <th>IT</th>\n    </tr>\n  </thead>\n  <tbody>\n    <tr>\n      <th>0</th>\n      <td>1</td>\n      <td>3</td>\n      <td>1</td>\n      <td>지민</td>\n      <td>남자</td>\n      <td>95</td>\n      <td>88</td>\n      <td>79.0</td>\n      <td>100.0</td>\n    </tr>\n    <tr>\n      <th>1</th>\n      <td>1</td>\n      <td>3</td>\n      <td>3</td>\n      <td>강다니엘</td>\n      <td>남자</td>\n      <td>74</td>\n      <td>90</td>\n      <td>88.0</td>\n      <td>91.0</td>\n    </tr>\n    <tr>\n      <th>2</th>\n      <td>1</td>\n      <td>4</td>\n      <td>1</td>\n      <td>뷔</td>\n      <td>남자</td>\n      <td>88</td>\n      <td>83</td>\n      <td>NaN</td>\n      <td>NaN</td>\n    </tr>\n    <tr>\n      <th>3</th>\n      <td>1</td>\n      <td>4</td>\n      <td>2</td>\n      <td>화사</td>\n      <td>여자</td>\n      <td>88</td>\n      <td>87</td>\n      <td>89.0</td>\n      <td>90.0</td>\n    </tr>\n    <tr>\n      <th>4</th>\n      <td>1</td>\n      <td>4</td>\n      <td>3</td>\n      <td>정국</td>\n      <td>남자</td>\n      <td>90</td>\n      <td>83</td>\n      <td>NaN</td>\n      <td>NaN</td>\n    </tr>\n    <tr>\n      <th>5</th>\n      <td>1</td>\n      <td>5</td>\n      <td>1</td>\n      <td>민현</td>\n      <td>남자</td>\n      <td>78</td>\n      <td>77</td>\n      <td>80.0</td>\n      <td>81.0</td>\n    </tr>\n    <tr>\n      <th>6</th>\n      <td>1</td>\n      <td>5</td>\n      <td>2</td>\n      <td>소연</td>\n      <td>여자</td>\n      <td>83</td>\n      <td>75</td>\n      <td>81.0</td>\n      <td>88.0</td>\n    </tr>\n    <tr>\n      <th>7</th>\n      <td>1</td>\n      <td>5</td>\n      <td>3</td>\n      <td>진</td>\n      <td>남자</td>\n      <td>93</td>\n      <td>88</td>\n      <td>88.0</td>\n      <td>80.0</td>\n    </tr>\n    <tr>\n      <th>8</th>\n      <td>1</td>\n      <td>6</td>\n      <td>1</td>\n      <td>하성운</td>\n      <td>남자</td>\n      <td>85</td>\n      <td>78</td>\n      <td>70.0</td>\n      <td>80.0</td>\n    </tr>\n    <tr>\n      <th>9</th>\n      <td>1</td>\n      <td>6</td>\n      <td>2</td>\n      <td>태연</td>\n      <td>여자</td>\n      <td>88</td>\n      <td>81</td>\n      <td>79.0</td>\n      <td>85.0</td>\n    </tr>\n    <tr>\n      <th>10</th>\n      <td>1</td>\n      <td>6</td>\n      <td>3</td>\n      <td>차은우</td>\n      <td>남자</td>\n      <td>90</td>\n      <td>89</td>\n      <td>85.0</td>\n      <td>99.0</td>\n    </tr>\n  </tbody>\n</table>\n</div>",
      "text/plain": "    학년  반  번호    이름  성별  국어  수학    영어     IT\n0    1  3   1    지민  남자  95  88  79.0  100.0\n1    1  3   3  강다니엘  남자  74  90  88.0   91.0\n2    1  4   1     뷔  남자  88  83   NaN    NaN\n3    1  4   2    화사  여자  88  87  89.0   90.0\n4    1  4   3    정국  남자  90  83   NaN    NaN\n5    1  5   1    민현  남자  78  77  80.0   81.0\n6    1  5   2    소연  여자  83  75  81.0   88.0\n7    1  5   3     진  남자  93  88  88.0   80.0\n8    1  6   1   하성운  남자  85  78  70.0   80.0\n9    1  6   2    태연  여자  88  81  79.0   85.0\n10   1  6   3   차은우  남자  90  89  85.0   99.0"
     },
     "execution_count": 15,
     "metadata": {},
     "output_type": "execute_result"
    }
   ],
   "source": [
    "# 두개의 DataFrame을 '이름' 기준으로 left 방식으로 merge하기\n",
    "pd.merge(d, d2, how='left', on='이름')"
   ]
  },
  {
   "cell_type": "code",
   "execution_count": 16,
   "metadata": {},
   "outputs": [
    {
     "data": {
      "text/html": "<div>\n<style scoped>\n    .dataframe tbody tr th:only-of-type {\n        vertical-align: middle;\n    }\n\n    .dataframe tbody tr th {\n        vertical-align: top;\n    }\n\n    .dataframe thead th {\n        text-align: right;\n    }\n</style>\n<table border=\"1\" class=\"dataframe\">\n  <thead>\n    <tr style=\"text-align: right;\">\n      <th></th>\n      <th>학년</th>\n      <th>반</th>\n      <th>번호</th>\n      <th>이름</th>\n      <th>성별</th>\n      <th>국어</th>\n      <th>수학</th>\n      <th>영어</th>\n      <th>IT</th>\n    </tr>\n  </thead>\n  <tbody>\n    <tr>\n      <th>0</th>\n      <td>1.0</td>\n      <td>3.0</td>\n      <td>1.0</td>\n      <td>지민</td>\n      <td>남자</td>\n      <td>95.0</td>\n      <td>88.0</td>\n      <td>79</td>\n      <td>100</td>\n    </tr>\n    <tr>\n      <th>1</th>\n      <td>NaN</td>\n      <td>NaN</td>\n      <td>NaN</td>\n      <td>지드래곤</td>\n      <td>NaN</td>\n      <td>NaN</td>\n      <td>NaN</td>\n      <td>80</td>\n      <td>95</td>\n    </tr>\n    <tr>\n      <th>2</th>\n      <td>1.0</td>\n      <td>3.0</td>\n      <td>3.0</td>\n      <td>강다니엘</td>\n      <td>남자</td>\n      <td>74.0</td>\n      <td>90.0</td>\n      <td>88</td>\n      <td>91</td>\n    </tr>\n    <tr>\n      <th>3</th>\n      <td>1.0</td>\n      <td>4.0</td>\n      <td>2.0</td>\n      <td>화사</td>\n      <td>여자</td>\n      <td>88.0</td>\n      <td>87.0</td>\n      <td>89</td>\n      <td>90</td>\n    </tr>\n    <tr>\n      <th>4</th>\n      <td>1.0</td>\n      <td>5.0</td>\n      <td>1.0</td>\n      <td>민현</td>\n      <td>남자</td>\n      <td>78.0</td>\n      <td>77.0</td>\n      <td>80</td>\n      <td>81</td>\n    </tr>\n    <tr>\n      <th>5</th>\n      <td>1.0</td>\n      <td>5.0</td>\n      <td>2.0</td>\n      <td>소연</td>\n      <td>여자</td>\n      <td>83.0</td>\n      <td>75.0</td>\n      <td>81</td>\n      <td>88</td>\n    </tr>\n    <tr>\n      <th>6</th>\n      <td>1.0</td>\n      <td>5.0</td>\n      <td>3.0</td>\n      <td>진</td>\n      <td>남자</td>\n      <td>93.0</td>\n      <td>88.0</td>\n      <td>88</td>\n      <td>80</td>\n    </tr>\n    <tr>\n      <th>7</th>\n      <td>1.0</td>\n      <td>6.0</td>\n      <td>1.0</td>\n      <td>하성운</td>\n      <td>남자</td>\n      <td>85.0</td>\n      <td>78.0</td>\n      <td>70</td>\n      <td>80</td>\n    </tr>\n    <tr>\n      <th>8</th>\n      <td>1.0</td>\n      <td>6.0</td>\n      <td>2.0</td>\n      <td>태연</td>\n      <td>여자</td>\n      <td>88.0</td>\n      <td>81.0</td>\n      <td>79</td>\n      <td>85</td>\n    </tr>\n    <tr>\n      <th>9</th>\n      <td>1.0</td>\n      <td>6.0</td>\n      <td>3.0</td>\n      <td>차은우</td>\n      <td>남자</td>\n      <td>90.0</td>\n      <td>89.0</td>\n      <td>85</td>\n      <td>99</td>\n    </tr>\n  </tbody>\n</table>\n</div>",
      "text/plain": "    학년    반   번호    이름   성별    국어    수학  영어   IT\n0  1.0  3.0  1.0    지민   남자  95.0  88.0  79  100\n1  NaN  NaN  NaN  지드래곤  NaN   NaN   NaN  80   95\n2  1.0  3.0  3.0  강다니엘   남자  74.0  90.0  88   91\n3  1.0  4.0  2.0    화사   여자  88.0  87.0  89   90\n4  1.0  5.0  1.0    민현   남자  78.0  77.0  80   81\n5  1.0  5.0  2.0    소연   여자  83.0  75.0  81   88\n6  1.0  5.0  3.0     진   남자  93.0  88.0  88   80\n7  1.0  6.0  1.0   하성운   남자  85.0  78.0  70   80\n8  1.0  6.0  2.0    태연   여자  88.0  81.0  79   85\n9  1.0  6.0  3.0   차은우   남자  90.0  89.0  85   99"
     },
     "execution_count": 16,
     "metadata": {},
     "output_type": "execute_result"
    }
   ],
   "source": [
    "# 두개의 DataFrame을 '이름' 기준으로 right 방식으로 merge하기\n",
    "pd.merge(d, d2, how='right', on='이름')"
   ]
  },
  {
   "cell_type": "code",
   "execution_count": 17,
   "metadata": {},
   "outputs": [
    {
     "data": {
      "text/html": "<div>\n<style scoped>\n    .dataframe tbody tr th:only-of-type {\n        vertical-align: middle;\n    }\n\n    .dataframe tbody tr th {\n        vertical-align: top;\n    }\n\n    .dataframe thead th {\n        text-align: right;\n    }\n</style>\n<table border=\"1\" class=\"dataframe\">\n  <thead>\n    <tr style=\"text-align: right;\">\n      <th></th>\n      <th>학년</th>\n      <th>반</th>\n      <th>번호</th>\n      <th>이름</th>\n      <th>성별</th>\n      <th>국어</th>\n      <th>수학</th>\n      <th>영어</th>\n      <th>IT</th>\n    </tr>\n  </thead>\n  <tbody>\n    <tr>\n      <th>0</th>\n      <td>1</td>\n      <td>3</td>\n      <td>1</td>\n      <td>지민</td>\n      <td>남자</td>\n      <td>95</td>\n      <td>88</td>\n      <td>79</td>\n      <td>100</td>\n    </tr>\n    <tr>\n      <th>1</th>\n      <td>1</td>\n      <td>3</td>\n      <td>3</td>\n      <td>강다니엘</td>\n      <td>남자</td>\n      <td>74</td>\n      <td>90</td>\n      <td>88</td>\n      <td>91</td>\n    </tr>\n    <tr>\n      <th>2</th>\n      <td>1</td>\n      <td>4</td>\n      <td>2</td>\n      <td>화사</td>\n      <td>여자</td>\n      <td>88</td>\n      <td>87</td>\n      <td>89</td>\n      <td>90</td>\n    </tr>\n    <tr>\n      <th>3</th>\n      <td>1</td>\n      <td>5</td>\n      <td>1</td>\n      <td>민현</td>\n      <td>남자</td>\n      <td>78</td>\n      <td>77</td>\n      <td>80</td>\n      <td>81</td>\n    </tr>\n    <tr>\n      <th>4</th>\n      <td>1</td>\n      <td>5</td>\n      <td>2</td>\n      <td>소연</td>\n      <td>여자</td>\n      <td>83</td>\n      <td>75</td>\n      <td>81</td>\n      <td>88</td>\n    </tr>\n    <tr>\n      <th>5</th>\n      <td>1</td>\n      <td>5</td>\n      <td>3</td>\n      <td>진</td>\n      <td>남자</td>\n      <td>93</td>\n      <td>88</td>\n      <td>88</td>\n      <td>80</td>\n    </tr>\n    <tr>\n      <th>6</th>\n      <td>1</td>\n      <td>6</td>\n      <td>1</td>\n      <td>하성운</td>\n      <td>남자</td>\n      <td>85</td>\n      <td>78</td>\n      <td>70</td>\n      <td>80</td>\n    </tr>\n    <tr>\n      <th>7</th>\n      <td>1</td>\n      <td>6</td>\n      <td>2</td>\n      <td>태연</td>\n      <td>여자</td>\n      <td>88</td>\n      <td>81</td>\n      <td>79</td>\n      <td>85</td>\n    </tr>\n    <tr>\n      <th>8</th>\n      <td>1</td>\n      <td>6</td>\n      <td>3</td>\n      <td>차은우</td>\n      <td>남자</td>\n      <td>90</td>\n      <td>89</td>\n      <td>85</td>\n      <td>99</td>\n    </tr>\n  </tbody>\n</table>\n</div>",
      "text/plain": "   학년  반  번호    이름  성별  국어  수학  영어   IT\n0   1  3   1    지민  남자  95  88  79  100\n1   1  3   3  강다니엘  남자  74  90  88   91\n2   1  4   2    화사  여자  88  87  89   90\n3   1  5   1    민현  남자  78  77  80   81\n4   1  5   2    소연  여자  83  75  81   88\n5   1  5   3     진  남자  93  88  88   80\n6   1  6   1   하성운  남자  85  78  70   80\n7   1  6   2    태연  여자  88  81  79   85\n8   1  6   3   차은우  남자  90  89  85   99"
     },
     "execution_count": 17,
     "metadata": {},
     "output_type": "execute_result"
    }
   ],
   "source": [
    "# 두개의 DataFrame을 '이름' 기준으로 inner 방식으로 merge하기\n",
    "pd.merge(d, d2, how='inner', on='이름')"
   ]
  },
  {
   "cell_type": "code",
   "execution_count": 18,
   "metadata": {},
   "outputs": [
    {
     "data": {
      "text/html": "<div>\n<style scoped>\n    .dataframe tbody tr th:only-of-type {\n        vertical-align: middle;\n    }\n\n    .dataframe tbody tr th {\n        vertical-align: top;\n    }\n\n    .dataframe thead th {\n        text-align: right;\n    }\n</style>\n<table border=\"1\" class=\"dataframe\">\n  <thead>\n    <tr style=\"text-align: right;\">\n      <th></th>\n      <th>학년</th>\n      <th>반</th>\n      <th>번호</th>\n      <th>이름</th>\n      <th>성별</th>\n      <th>국어</th>\n      <th>수학</th>\n      <th>영어</th>\n      <th>IT</th>\n    </tr>\n  </thead>\n  <tbody>\n    <tr>\n      <th>0</th>\n      <td>1.0</td>\n      <td>3.0</td>\n      <td>1.0</td>\n      <td>지민</td>\n      <td>남자</td>\n      <td>95.0</td>\n      <td>88.0</td>\n      <td>79.0</td>\n      <td>100.0</td>\n    </tr>\n    <tr>\n      <th>1</th>\n      <td>1.0</td>\n      <td>3.0</td>\n      <td>3.0</td>\n      <td>강다니엘</td>\n      <td>남자</td>\n      <td>74.0</td>\n      <td>90.0</td>\n      <td>88.0</td>\n      <td>91.0</td>\n    </tr>\n    <tr>\n      <th>2</th>\n      <td>1.0</td>\n      <td>4.0</td>\n      <td>1.0</td>\n      <td>뷔</td>\n      <td>남자</td>\n      <td>88.0</td>\n      <td>83.0</td>\n      <td>NaN</td>\n      <td>NaN</td>\n    </tr>\n    <tr>\n      <th>3</th>\n      <td>1.0</td>\n      <td>4.0</td>\n      <td>2.0</td>\n      <td>화사</td>\n      <td>여자</td>\n      <td>88.0</td>\n      <td>87.0</td>\n      <td>89.0</td>\n      <td>90.0</td>\n    </tr>\n    <tr>\n      <th>4</th>\n      <td>1.0</td>\n      <td>4.0</td>\n      <td>3.0</td>\n      <td>정국</td>\n      <td>남자</td>\n      <td>90.0</td>\n      <td>83.0</td>\n      <td>NaN</td>\n      <td>NaN</td>\n    </tr>\n    <tr>\n      <th>5</th>\n      <td>1.0</td>\n      <td>5.0</td>\n      <td>1.0</td>\n      <td>민현</td>\n      <td>남자</td>\n      <td>78.0</td>\n      <td>77.0</td>\n      <td>80.0</td>\n      <td>81.0</td>\n    </tr>\n    <tr>\n      <th>6</th>\n      <td>1.0</td>\n      <td>5.0</td>\n      <td>2.0</td>\n      <td>소연</td>\n      <td>여자</td>\n      <td>83.0</td>\n      <td>75.0</td>\n      <td>81.0</td>\n      <td>88.0</td>\n    </tr>\n    <tr>\n      <th>7</th>\n      <td>1.0</td>\n      <td>5.0</td>\n      <td>3.0</td>\n      <td>진</td>\n      <td>남자</td>\n      <td>93.0</td>\n      <td>88.0</td>\n      <td>88.0</td>\n      <td>80.0</td>\n    </tr>\n    <tr>\n      <th>8</th>\n      <td>1.0</td>\n      <td>6.0</td>\n      <td>1.0</td>\n      <td>하성운</td>\n      <td>남자</td>\n      <td>85.0</td>\n      <td>78.0</td>\n      <td>70.0</td>\n      <td>80.0</td>\n    </tr>\n    <tr>\n      <th>9</th>\n      <td>1.0</td>\n      <td>6.0</td>\n      <td>2.0</td>\n      <td>태연</td>\n      <td>여자</td>\n      <td>88.0</td>\n      <td>81.0</td>\n      <td>79.0</td>\n      <td>85.0</td>\n    </tr>\n    <tr>\n      <th>10</th>\n      <td>1.0</td>\n      <td>6.0</td>\n      <td>3.0</td>\n      <td>차은우</td>\n      <td>남자</td>\n      <td>90.0</td>\n      <td>89.0</td>\n      <td>85.0</td>\n      <td>99.0</td>\n    </tr>\n    <tr>\n      <th>11</th>\n      <td>NaN</td>\n      <td>NaN</td>\n      <td>NaN</td>\n      <td>지드래곤</td>\n      <td>NaN</td>\n      <td>NaN</td>\n      <td>NaN</td>\n      <td>80.0</td>\n      <td>95.0</td>\n    </tr>\n  </tbody>\n</table>\n</div>",
      "text/plain": "     학년    반   번호    이름   성별    국어    수학    영어     IT\n0   1.0  3.0  1.0    지민   남자  95.0  88.0  79.0  100.0\n1   1.0  3.0  3.0  강다니엘   남자  74.0  90.0  88.0   91.0\n2   1.0  4.0  1.0     뷔   남자  88.0  83.0   NaN    NaN\n3   1.0  4.0  2.0    화사   여자  88.0  87.0  89.0   90.0\n4   1.0  4.0  3.0    정국   남자  90.0  83.0   NaN    NaN\n5   1.0  5.0  1.0    민현   남자  78.0  77.0  80.0   81.0\n6   1.0  5.0  2.0    소연   여자  83.0  75.0  81.0   88.0\n7   1.0  5.0  3.0     진   남자  93.0  88.0  88.0   80.0\n8   1.0  6.0  1.0   하성운   남자  85.0  78.0  70.0   80.0\n9   1.0  6.0  2.0    태연   여자  88.0  81.0  79.0   85.0\n10  1.0  6.0  3.0   차은우   남자  90.0  89.0  85.0   99.0\n11  NaN  NaN  NaN  지드래곤  NaN   NaN   NaN  80.0   95.0"
     },
     "execution_count": 18,
     "metadata": {},
     "output_type": "execute_result"
    }
   ],
   "source": [
    "# 두개의 DataFrame을 '이름' 기준으로 outer 방식으로 merge하기\n",
    "pd.merge(d, d2, how='outer', on='이름')"
   ]
  },
  {
   "cell_type": "markdown",
   "metadata": {},
   "source": [
    "## 13-8. 데이터 변환하기\n",
    "* 90점 이상: 'A', 80점 이상: 'B', 70점 이상: 'C', 그외: 'D' 부여하기\n",
    "* 예) 국어점수가 95점인 경우 [국어등급] 컬럼에 'A' 넣기"
   ]
  },
  {
   "cell_type": "code",
   "execution_count": 19,
   "metadata": {},
   "outputs": [],
   "source": [
    "# Apply 함수 작성하기\n",
    "def apply_grade(score):\n",
    "  if score >= 90:\n",
    "    return 'A'\n",
    "  if score >= 80:\n",
    "    return 'B'\n",
    "  if score >= 70:\n",
    "    return 'C'\n",
    "  return 'D'"
   ]
  },
  {
   "cell_type": "code",
   "execution_count": 20,
   "metadata": {},
   "outputs": [
    {
     "data": {
      "text/html": "<div>\n<style scoped>\n    .dataframe tbody tr th:only-of-type {\n        vertical-align: middle;\n    }\n\n    .dataframe tbody tr th {\n        vertical-align: top;\n    }\n\n    .dataframe thead th {\n        text-align: right;\n    }\n</style>\n<table border=\"1\" class=\"dataframe\">\n  <thead>\n    <tr style=\"text-align: right;\">\n      <th></th>\n      <th>학년</th>\n      <th>반</th>\n      <th>번호</th>\n      <th>이름</th>\n      <th>성별</th>\n      <th>국어</th>\n      <th>수학</th>\n      <th>국어등급</th>\n      <th>수학등급</th>\n    </tr>\n  </thead>\n  <tbody>\n    <tr>\n      <th>0</th>\n      <td>1</td>\n      <td>3</td>\n      <td>1</td>\n      <td>지민</td>\n      <td>남자</td>\n      <td>95</td>\n      <td>88</td>\n      <td>A</td>\n      <td>B</td>\n    </tr>\n    <tr>\n      <th>1</th>\n      <td>1</td>\n      <td>3</td>\n      <td>3</td>\n      <td>강다니엘</td>\n      <td>남자</td>\n      <td>74</td>\n      <td>90</td>\n      <td>C</td>\n      <td>A</td>\n    </tr>\n    <tr>\n      <th>2</th>\n      <td>1</td>\n      <td>4</td>\n      <td>1</td>\n      <td>뷔</td>\n      <td>남자</td>\n      <td>88</td>\n      <td>83</td>\n      <td>B</td>\n      <td>B</td>\n    </tr>\n    <tr>\n      <th>3</th>\n      <td>1</td>\n      <td>4</td>\n      <td>2</td>\n      <td>화사</td>\n      <td>여자</td>\n      <td>88</td>\n      <td>87</td>\n      <td>B</td>\n      <td>B</td>\n    </tr>\n    <tr>\n      <th>4</th>\n      <td>1</td>\n      <td>4</td>\n      <td>3</td>\n      <td>정국</td>\n      <td>남자</td>\n      <td>90</td>\n      <td>83</td>\n      <td>A</td>\n      <td>B</td>\n    </tr>\n    <tr>\n      <th>5</th>\n      <td>1</td>\n      <td>5</td>\n      <td>1</td>\n      <td>민현</td>\n      <td>남자</td>\n      <td>78</td>\n      <td>77</td>\n      <td>C</td>\n      <td>C</td>\n    </tr>\n    <tr>\n      <th>6</th>\n      <td>1</td>\n      <td>5</td>\n      <td>2</td>\n      <td>소연</td>\n      <td>여자</td>\n      <td>83</td>\n      <td>75</td>\n      <td>B</td>\n      <td>C</td>\n    </tr>\n    <tr>\n      <th>7</th>\n      <td>1</td>\n      <td>5</td>\n      <td>3</td>\n      <td>진</td>\n      <td>남자</td>\n      <td>93</td>\n      <td>88</td>\n      <td>A</td>\n      <td>B</td>\n    </tr>\n    <tr>\n      <th>8</th>\n      <td>1</td>\n      <td>6</td>\n      <td>1</td>\n      <td>하성운</td>\n      <td>남자</td>\n      <td>85</td>\n      <td>78</td>\n      <td>B</td>\n      <td>C</td>\n    </tr>\n    <tr>\n      <th>9</th>\n      <td>1</td>\n      <td>6</td>\n      <td>2</td>\n      <td>태연</td>\n      <td>여자</td>\n      <td>88</td>\n      <td>81</td>\n      <td>B</td>\n      <td>B</td>\n    </tr>\n    <tr>\n      <th>10</th>\n      <td>1</td>\n      <td>6</td>\n      <td>3</td>\n      <td>차은우</td>\n      <td>남자</td>\n      <td>90</td>\n      <td>89</td>\n      <td>A</td>\n      <td>B</td>\n    </tr>\n  </tbody>\n</table>\n</div>",
      "text/plain": "    학년  반  번호    이름  성별  국어  수학 국어등급 수학등급\n0    1  3   1    지민  남자  95  88    A    B\n1    1  3   3  강다니엘  남자  74  90    C    A\n2    1  4   1     뷔  남자  88  83    B    B\n3    1  4   2    화사  여자  88  87    B    B\n4    1  4   3    정국  남자  90  83    A    B\n5    1  5   1    민현  남자  78  77    C    C\n6    1  5   2    소연  여자  83  75    B    C\n7    1  5   3     진  남자  93  88    A    B\n8    1  6   1   하성운  남자  85  78    B    C\n9    1  6   2    태연  여자  88  81    B    B\n10   1  6   3   차은우  남자  90  89    A    B"
     },
     "execution_count": 20,
     "metadata": {},
     "output_type": "execute_result"
    }
   ],
   "source": [
    "# 첫번째 DataFrame에 국어, 수학 과목의 등급 부여하기\n",
    "d['국어등급'] = d['국어'].apply(apply_grade)\n",
    "d['수학등급'] = d['수학'].apply(apply_grade)\n",
    "d"
   ]
  },
  {
   "cell_type": "code",
   "execution_count": 21,
   "metadata": {},
   "outputs": [
    {
     "data": {
      "text/plain": "B    5\nA    4\nC    2\nName: 국어등급, dtype: int64"
     },
     "execution_count": 21,
     "metadata": {},
     "output_type": "execute_result"
    }
   ],
   "source": [
    "# 국어등급 별 갯수 세기\n",
    "d['국어등급'].value_counts()"
   ]
  },
  {
   "cell_type": "code",
   "execution_count": 22,
   "metadata": {},
   "outputs": [
    {
     "data": {
      "text/plain": "B    7\nC    3\nA    1\nName: 수학등급, dtype: int64"
     },
     "execution_count": 22,
     "metadata": {},
     "output_type": "execute_result"
    }
   ],
   "source": [
    "# 수학등급 별 갯수 세기\n",
    "d['수학등급'].value_counts()"
   ]
  },
  {
   "cell_type": "markdown",
   "metadata": {},
   "source": [
    "## 13-9. 데이터 그룹핑하기"
   ]
  },
  {
   "cell_type": "code",
   "execution_count": 23,
   "metadata": {},
   "outputs": [
    {
     "data": {
      "text/html": "<div>\n<style scoped>\n    .dataframe tbody tr th:only-of-type {\n        vertical-align: middle;\n    }\n\n    .dataframe tbody tr th {\n        vertical-align: top;\n    }\n\n    .dataframe thead tr th {\n        text-align: left;\n    }\n\n    .dataframe thead tr:last-of-type th {\n        text-align: right;\n    }\n</style>\n<table border=\"1\" class=\"dataframe\">\n  <thead>\n    <tr>\n      <th></th>\n      <th colspan=\"2\" halign=\"left\">국어</th>\n      <th colspan=\"2\" halign=\"left\">수학</th>\n    </tr>\n    <tr>\n      <th>성별</th>\n      <th>남자</th>\n      <th>여자</th>\n      <th>남자</th>\n      <th>여자</th>\n    </tr>\n    <tr>\n      <th>반</th>\n      <th></th>\n      <th></th>\n      <th></th>\n      <th></th>\n    </tr>\n  </thead>\n  <tbody>\n    <tr>\n      <th>3</th>\n      <td>84.5</td>\n      <td>NaN</td>\n      <td>89.0</td>\n      <td>NaN</td>\n    </tr>\n    <tr>\n      <th>4</th>\n      <td>89.0</td>\n      <td>88.0</td>\n      <td>83.0</td>\n      <td>87.0</td>\n    </tr>\n    <tr>\n      <th>5</th>\n      <td>85.5</td>\n      <td>83.0</td>\n      <td>82.5</td>\n      <td>75.0</td>\n    </tr>\n    <tr>\n      <th>6</th>\n      <td>87.5</td>\n      <td>88.0</td>\n      <td>83.5</td>\n      <td>81.0</td>\n    </tr>\n  </tbody>\n</table>\n</div>",
      "text/plain": "      국어          수학      \n성별    남자    여자    남자    여자\n반                         \n3   84.5   NaN  89.0   NaN\n4   89.0  88.0  83.0  87.0\n5   85.5  83.0  82.5  75.0\n6   87.5  88.0  83.5  81.0"
     },
     "execution_count": 23,
     "metadata": {},
     "output_type": "execute_result"
    }
   ],
   "source": [
    "# pivot_table을 사용하여 반과 성별에 따른 국어, 수학 평균 구하기\n",
    "pd.pivot_table(d, values=['국어', '수학'], index='반', columns='성별')"
   ]
  },
  {
   "cell_type": "code",
   "execution_count": 24,
   "metadata": {},
   "outputs": [
    {
     "data": {
      "text/html": "<div>\n<style scoped>\n    .dataframe tbody tr th:only-of-type {\n        vertical-align: middle;\n    }\n\n    .dataframe tbody tr th {\n        vertical-align: top;\n    }\n\n    .dataframe thead th {\n        text-align: right;\n    }\n</style>\n<table border=\"1\" class=\"dataframe\">\n  <thead>\n    <tr style=\"text-align: right;\">\n      <th></th>\n      <th></th>\n      <th>국어</th>\n      <th>수학</th>\n    </tr>\n    <tr>\n      <th>반</th>\n      <th>성별</th>\n      <th></th>\n      <th></th>\n    </tr>\n  </thead>\n  <tbody>\n    <tr>\n      <th>3</th>\n      <th>남자</th>\n      <td>84.5</td>\n      <td>89.0</td>\n    </tr>\n    <tr>\n      <th rowspan=\"2\" valign=\"top\">4</th>\n      <th>남자</th>\n      <td>89.0</td>\n      <td>83.0</td>\n    </tr>\n    <tr>\n      <th>여자</th>\n      <td>88.0</td>\n      <td>87.0</td>\n    </tr>\n    <tr>\n      <th rowspan=\"2\" valign=\"top\">5</th>\n      <th>남자</th>\n      <td>85.5</td>\n      <td>82.5</td>\n    </tr>\n    <tr>\n      <th>여자</th>\n      <td>83.0</td>\n      <td>75.0</td>\n    </tr>\n    <tr>\n      <th rowspan=\"2\" valign=\"top\">6</th>\n      <th>남자</th>\n      <td>87.5</td>\n      <td>83.5</td>\n    </tr>\n    <tr>\n      <th>여자</th>\n      <td>88.0</td>\n      <td>81.0</td>\n    </tr>\n  </tbody>\n</table>\n</div>",
      "text/plain": "        국어    수학\n반 성별            \n3 남자  84.5  89.0\n4 남자  89.0  83.0\n  여자  88.0  87.0\n5 남자  85.5  82.5\n  여자  83.0  75.0\n6 남자  87.5  83.5\n  여자  88.0  81.0"
     },
     "execution_count": 24,
     "metadata": {},
     "output_type": "execute_result"
    }
   ],
   "source": [
    "# groupby를 사용하여 반과 성별에 따른 국어, 수학 평균 구하기\n",
    "d.groupby(['반', '성별'])[['국어', '수학']].mean()\n"
   ]
  },
  {
   "cell_type": "code",
   "execution_count": null,
   "metadata": {},
   "outputs": [],
   "source": []
  }
 ],
 "metadata": {
  "kernelspec": {
   "display_name": "Python 3.7.9 64-bit",
   "name": "python379jvsc74a57bd07a3d88c904243d2c3f246166597f86d1c0a39f3d97496d1fe394945d0c6d436d"
  },
  "language_info": {
   "name": "python",
   "version": ""
  },
  "metadata": {
   "interpreter": {
    "hash": "7a3d88c904243d2c3f246166597f86d1c0a39f3d97496d1fe394945d0c6d436d"
   }
  },
  "orig_nbformat": 3
 },
 "nbformat": 4,
 "nbformat_minor": 4
}