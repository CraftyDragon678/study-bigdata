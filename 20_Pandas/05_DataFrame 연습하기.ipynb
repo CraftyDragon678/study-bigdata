{
 "cells": [
  {
   "cell_type": "markdown",
   "metadata": {},
   "source": [
    "# 5. DataFrame 연습하기"
   ]
  },
  {
   "cell_type": "code",
   "execution_count": 1,
   "metadata": {},
   "outputs": [],
   "source": [
    "import pandas as pd\n",
    "import numpy as np"
   ]
  },
  {
   "cell_type": "markdown",
   "metadata": {},
   "source": [
    "## 5-1. 데이터 가져오기"
   ]
  },
  {
   "cell_type": "code",
   "execution_count": 2,
   "metadata": {},
   "outputs": [
    {
     "data": {
      "text/html": "<div>\n<style scoped>\n    .dataframe tbody tr th:only-of-type {\n        vertical-align: middle;\n    }\n\n    .dataframe tbody tr th {\n        vertical-align: top;\n    }\n\n    .dataframe thead th {\n        text-align: right;\n    }\n</style>\n<table border=\"1\" class=\"dataframe\">\n  <thead>\n    <tr style=\"text-align: right;\">\n      <th></th>\n      <th>이름</th>\n      <th>그룹</th>\n      <th>소속사</th>\n      <th>성별</th>\n      <th>생년월일</th>\n      <th>키</th>\n      <th>혈액형</th>\n      <th>브랜드평판지수</th>\n    </tr>\n  </thead>\n  <tbody>\n    <tr>\n      <th>0</th>\n      <td>지민</td>\n      <td>방탄소년단</td>\n      <td>빅히트</td>\n      <td>남자</td>\n      <td>1995/10/13</td>\n      <td>173.6</td>\n      <td>A</td>\n      <td>10523260</td>\n    </tr>\n    <tr>\n      <th>1</th>\n      <td>지드래곤</td>\n      <td>빅뱅</td>\n      <td>YG</td>\n      <td>남자</td>\n      <td>1988/08/18</td>\n      <td>177.0</td>\n      <td>A</td>\n      <td>9916947</td>\n    </tr>\n    <tr>\n      <th>2</th>\n      <td>강다니엘</td>\n      <td>NaN</td>\n      <td>커넥트</td>\n      <td>남자</td>\n      <td>1996/12/10</td>\n      <td>180.0</td>\n      <td>A</td>\n      <td>8273745</td>\n    </tr>\n    <tr>\n      <th>3</th>\n      <td>뷔</td>\n      <td>방탄소년단</td>\n      <td>빅히트</td>\n      <td>남자</td>\n      <td>1995/12/30</td>\n      <td>178.0</td>\n      <td>AB</td>\n      <td>8073501</td>\n    </tr>\n    <tr>\n      <th>4</th>\n      <td>화사</td>\n      <td>마마무</td>\n      <td>RBW</td>\n      <td>여자</td>\n      <td>1995/07/23</td>\n      <td>162.1</td>\n      <td>A</td>\n      <td>7650928</td>\n    </tr>\n    <tr>\n      <th>5</th>\n      <td>정국</td>\n      <td>방탄소년단</td>\n      <td>빅히트</td>\n      <td>남자</td>\n      <td>1997/09/01</td>\n      <td>178.0</td>\n      <td>A</td>\n      <td>5208335</td>\n    </tr>\n    <tr>\n      <th>6</th>\n      <td>민현</td>\n      <td>뉴이스트</td>\n      <td>플레디스</td>\n      <td>남자</td>\n      <td>1995/08/09</td>\n      <td>182.3</td>\n      <td>O</td>\n      <td>4989792</td>\n    </tr>\n    <tr>\n      <th>7</th>\n      <td>소연</td>\n      <td>아이들</td>\n      <td>큐브</td>\n      <td>여자</td>\n      <td>1998/08/26</td>\n      <td>NaN</td>\n      <td>B</td>\n      <td>4668615</td>\n    </tr>\n    <tr>\n      <th>8</th>\n      <td>진</td>\n      <td>방탄소년단</td>\n      <td>빅히트</td>\n      <td>남자</td>\n      <td>1992/12/04</td>\n      <td>179.2</td>\n      <td>O</td>\n      <td>4570308</td>\n    </tr>\n    <tr>\n      <th>9</th>\n      <td>하성운</td>\n      <td>핫샷</td>\n      <td>스타크루이엔티</td>\n      <td>남자</td>\n      <td>1994/03/22</td>\n      <td>167.1</td>\n      <td>A</td>\n      <td>4036489</td>\n    </tr>\n    <tr>\n      <th>10</th>\n      <td>태연</td>\n      <td>소녀시대</td>\n      <td>SM</td>\n      <td>여자</td>\n      <td>1989/03/09</td>\n      <td>NaN</td>\n      <td>A</td>\n      <td>3918661</td>\n    </tr>\n    <tr>\n      <th>11</th>\n      <td>차은우</td>\n      <td>아스트로</td>\n      <td>판타지오</td>\n      <td>남자</td>\n      <td>1997/03/30</td>\n      <td>183.0</td>\n      <td>B</td>\n      <td>3506027</td>\n    </tr>\n    <tr>\n      <th>12</th>\n      <td>백호</td>\n      <td>뉴이스트</td>\n      <td>플레디스</td>\n      <td>남자</td>\n      <td>1995/07/21</td>\n      <td>175.0</td>\n      <td>AB</td>\n      <td>3301654</td>\n    </tr>\n    <tr>\n      <th>13</th>\n      <td>JR</td>\n      <td>뉴이스트</td>\n      <td>플레디스</td>\n      <td>남자</td>\n      <td>1995/06/08</td>\n      <td>176.0</td>\n      <td>O</td>\n      <td>3274137</td>\n    </tr>\n    <tr>\n      <th>14</th>\n      <td>슈가</td>\n      <td>방탄소년단</td>\n      <td>빅히트</td>\n      <td>남자</td>\n      <td>1993/03/09</td>\n      <td>174.0</td>\n      <td>O</td>\n      <td>2925442</td>\n    </tr>\n  </tbody>\n</table>\n</div>",
      "text/plain": "      이름     그룹      소속사  성별        생년월일      키 혈액형   브랜드평판지수\n0     지민  방탄소년단      빅히트  남자  1995/10/13  173.6   A  10523260\n1   지드래곤     빅뱅       YG  남자  1988/08/18  177.0   A   9916947\n2   강다니엘    NaN      커넥트  남자  1996/12/10  180.0   A   8273745\n3      뷔  방탄소년단      빅히트  남자  1995/12/30  178.0  AB   8073501\n4     화사    마마무      RBW  여자  1995/07/23  162.1   A   7650928\n5     정국  방탄소년단      빅히트  남자  1997/09/01  178.0   A   5208335\n6     민현   뉴이스트     플레디스  남자  1995/08/09  182.3   O   4989792\n7     소연    아이들       큐브  여자  1998/08/26    NaN   B   4668615\n8      진  방탄소년단      빅히트  남자  1992/12/04  179.2   O   4570308\n9    하성운     핫샷  스타크루이엔티  남자  1994/03/22  167.1   A   4036489\n10    태연   소녀시대       SM  여자  1989/03/09    NaN   A   3918661\n11   차은우   아스트로     판타지오  남자  1997/03/30  183.0   B   3506027\n12    백호   뉴이스트     플레디스  남자  1995/07/21  175.0  AB   3301654\n13    JR   뉴이스트     플레디스  남자  1995/06/08  176.0   O   3274137\n14    슈가  방탄소년단      빅히트  남자  1993/03/09  174.0   O   2925442"
     },
     "execution_count": 2,
     "metadata": {},
     "output_type": "execute_result"
    }
   ],
   "source": [
    "d = pd.read_csv('../data/korean-idol.csv')\n",
    "d"
   ]
  },
  {
   "cell_type": "markdown",
   "metadata": {},
   "source": [
    "## 5-2. 데이터 살펴보기"
   ]
  },
  {
   "cell_type": "code",
   "execution_count": 4,
   "metadata": {},
   "outputs": [
    {
     "data": {
      "text/plain": "(15, 8)"
     },
     "execution_count": 4,
     "metadata": {},
     "output_type": "execute_result"
    }
   ],
   "source": [
    "d.shape"
   ]
  },
  {
   "cell_type": "code",
   "execution_count": 5,
   "metadata": {},
   "outputs": [
    {
     "data": {
      "text/html": "<div>\n<style scoped>\n    .dataframe tbody tr th:only-of-type {\n        vertical-align: middle;\n    }\n\n    .dataframe tbody tr th {\n        vertical-align: top;\n    }\n\n    .dataframe thead th {\n        text-align: right;\n    }\n</style>\n<table border=\"1\" class=\"dataframe\">\n  <thead>\n    <tr style=\"text-align: right;\">\n      <th></th>\n      <th>이름</th>\n      <th>그룹</th>\n      <th>소속사</th>\n      <th>성별</th>\n      <th>생년월일</th>\n      <th>키</th>\n      <th>혈액형</th>\n      <th>브랜드평판지수</th>\n    </tr>\n  </thead>\n  <tbody>\n    <tr>\n      <th>0</th>\n      <td>지민</td>\n      <td>방탄소년단</td>\n      <td>빅히트</td>\n      <td>남자</td>\n      <td>1995/10/13</td>\n      <td>173.6</td>\n      <td>A</td>\n      <td>10523260</td>\n    </tr>\n    <tr>\n      <th>1</th>\n      <td>지드래곤</td>\n      <td>빅뱅</td>\n      <td>YG</td>\n      <td>남자</td>\n      <td>1988/08/18</td>\n      <td>177.0</td>\n      <td>A</td>\n      <td>9916947</td>\n    </tr>\n    <tr>\n      <th>2</th>\n      <td>강다니엘</td>\n      <td>NaN</td>\n      <td>커넥트</td>\n      <td>남자</td>\n      <td>1996/12/10</td>\n      <td>180.0</td>\n      <td>A</td>\n      <td>8273745</td>\n    </tr>\n    <tr>\n      <th>3</th>\n      <td>뷔</td>\n      <td>방탄소년단</td>\n      <td>빅히트</td>\n      <td>남자</td>\n      <td>1995/12/30</td>\n      <td>178.0</td>\n      <td>AB</td>\n      <td>8073501</td>\n    </tr>\n    <tr>\n      <th>4</th>\n      <td>화사</td>\n      <td>마마무</td>\n      <td>RBW</td>\n      <td>여자</td>\n      <td>1995/07/23</td>\n      <td>162.1</td>\n      <td>A</td>\n      <td>7650928</td>\n    </tr>\n  </tbody>\n</table>\n</div>",
      "text/plain": "     이름     그룹  소속사  성별        생년월일      키 혈액형   브랜드평판지수\n0    지민  방탄소년단  빅히트  남자  1995/10/13  173.6   A  10523260\n1  지드래곤     빅뱅   YG  남자  1988/08/18  177.0   A   9916947\n2  강다니엘    NaN  커넥트  남자  1996/12/10  180.0   A   8273745\n3     뷔  방탄소년단  빅히트  남자  1995/12/30  178.0  AB   8073501\n4    화사    마마무  RBW  여자  1995/07/23  162.1   A   7650928"
     },
     "execution_count": 5,
     "metadata": {},
     "output_type": "execute_result"
    }
   ],
   "source": [
    "d.head()"
   ]
  },
  {
   "cell_type": "code",
   "execution_count": 6,
   "metadata": {},
   "outputs": [
    {
     "data": {
      "text/html": "<div>\n<style scoped>\n    .dataframe tbody tr th:only-of-type {\n        vertical-align: middle;\n    }\n\n    .dataframe tbody tr th {\n        vertical-align: top;\n    }\n\n    .dataframe thead th {\n        text-align: right;\n    }\n</style>\n<table border=\"1\" class=\"dataframe\">\n  <thead>\n    <tr style=\"text-align: right;\">\n      <th></th>\n      <th>이름</th>\n      <th>그룹</th>\n      <th>소속사</th>\n      <th>성별</th>\n      <th>생년월일</th>\n      <th>키</th>\n      <th>혈액형</th>\n      <th>브랜드평판지수</th>\n    </tr>\n  </thead>\n  <tbody>\n    <tr>\n      <th>10</th>\n      <td>태연</td>\n      <td>소녀시대</td>\n      <td>SM</td>\n      <td>여자</td>\n      <td>1989/03/09</td>\n      <td>NaN</td>\n      <td>A</td>\n      <td>3918661</td>\n    </tr>\n    <tr>\n      <th>11</th>\n      <td>차은우</td>\n      <td>아스트로</td>\n      <td>판타지오</td>\n      <td>남자</td>\n      <td>1997/03/30</td>\n      <td>183.0</td>\n      <td>B</td>\n      <td>3506027</td>\n    </tr>\n    <tr>\n      <th>12</th>\n      <td>백호</td>\n      <td>뉴이스트</td>\n      <td>플레디스</td>\n      <td>남자</td>\n      <td>1995/07/21</td>\n      <td>175.0</td>\n      <td>AB</td>\n      <td>3301654</td>\n    </tr>\n    <tr>\n      <th>13</th>\n      <td>JR</td>\n      <td>뉴이스트</td>\n      <td>플레디스</td>\n      <td>남자</td>\n      <td>1995/06/08</td>\n      <td>176.0</td>\n      <td>O</td>\n      <td>3274137</td>\n    </tr>\n    <tr>\n      <th>14</th>\n      <td>슈가</td>\n      <td>방탄소년단</td>\n      <td>빅히트</td>\n      <td>남자</td>\n      <td>1993/03/09</td>\n      <td>174.0</td>\n      <td>O</td>\n      <td>2925442</td>\n    </tr>\n  </tbody>\n</table>\n</div>",
      "text/plain": "     이름     그룹   소속사  성별        생년월일      키 혈액형  브랜드평판지수\n10   태연   소녀시대    SM  여자  1989/03/09    NaN   A  3918661\n11  차은우   아스트로  판타지오  남자  1997/03/30  183.0   B  3506027\n12   백호   뉴이스트  플레디스  남자  1995/07/21  175.0  AB  3301654\n13   JR   뉴이스트  플레디스  남자  1995/06/08  176.0   O  3274137\n14   슈가  방탄소년단   빅히트  남자  1993/03/09  174.0   O  2925442"
     },
     "execution_count": 6,
     "metadata": {},
     "output_type": "execute_result"
    }
   ],
   "source": [
    "d.tail()"
   ]
  },
  {
   "cell_type": "code",
   "execution_count": null,
   "metadata": {},
   "outputs": [],
   "source": [
    "d.info()"
   ]
  },
  {
   "cell_type": "code",
   "execution_count": 7,
   "metadata": {},
   "outputs": [
    {
     "data": {
      "text/html": "<div>\n<style scoped>\n    .dataframe tbody tr th:only-of-type {\n        vertical-align: middle;\n    }\n\n    .dataframe tbody tr th {\n        vertical-align: top;\n    }\n\n    .dataframe thead th {\n        text-align: right;\n    }\n</style>\n<table border=\"1\" class=\"dataframe\">\n  <thead>\n    <tr style=\"text-align: right;\">\n      <th></th>\n      <th>키</th>\n      <th>브랜드평판지수</th>\n    </tr>\n  </thead>\n  <tbody>\n    <tr>\n      <th>count</th>\n      <td>13.000000</td>\n      <td>1.500000e+01</td>\n    </tr>\n    <tr>\n      <th>mean</th>\n      <td>175.792308</td>\n      <td>5.655856e+06</td>\n    </tr>\n    <tr>\n      <th>std</th>\n      <td>5.820576</td>\n      <td>2.539068e+06</td>\n    </tr>\n    <tr>\n      <th>min</th>\n      <td>162.100000</td>\n      <td>2.925442e+06</td>\n    </tr>\n    <tr>\n      <th>25%</th>\n      <td>174.000000</td>\n      <td>3.712344e+06</td>\n    </tr>\n    <tr>\n      <th>50%</th>\n      <td>177.000000</td>\n      <td>4.668615e+06</td>\n    </tr>\n    <tr>\n      <th>75%</th>\n      <td>179.200000</td>\n      <td>7.862214e+06</td>\n    </tr>\n    <tr>\n      <th>max</th>\n      <td>183.000000</td>\n      <td>1.052326e+07</td>\n    </tr>\n  </tbody>\n</table>\n</div>",
      "text/plain": "                키       브랜드평판지수\ncount   13.000000  1.500000e+01\nmean   175.792308  5.655856e+06\nstd      5.820576  2.539068e+06\nmin    162.100000  2.925442e+06\n25%    174.000000  3.712344e+06\n50%    177.000000  4.668615e+06\n75%    179.200000  7.862214e+06\nmax    183.000000  1.052326e+07"
     },
     "execution_count": 7,
     "metadata": {},
     "output_type": "execute_result"
    }
   ],
   "source": [
    "d.describe()"
   ]
  },
  {
   "cell_type": "code",
   "execution_count": 8,
   "metadata": {},
   "outputs": [
    {
     "data": {
      "text/html": "<div>\n<style scoped>\n    .dataframe tbody tr th:only-of-type {\n        vertical-align: middle;\n    }\n\n    .dataframe tbody tr th {\n        vertical-align: top;\n    }\n\n    .dataframe thead th {\n        text-align: right;\n    }\n</style>\n<table border=\"1\" class=\"dataframe\">\n  <thead>\n    <tr style=\"text-align: right;\">\n      <th></th>\n      <th>이름</th>\n      <th>그룹</th>\n      <th>소속사</th>\n      <th>성별</th>\n      <th>생년월일</th>\n      <th>키</th>\n      <th>혈액형</th>\n      <th>브랜드평판지수</th>\n    </tr>\n  </thead>\n  <tbody>\n    <tr>\n      <th>1</th>\n      <td>지민</td>\n      <td>방탄소년단</td>\n      <td>빅히트</td>\n      <td>남자</td>\n      <td>1995/10/13</td>\n      <td>173.6</td>\n      <td>A</td>\n      <td>10523260</td>\n    </tr>\n    <tr>\n      <th>2</th>\n      <td>지드래곤</td>\n      <td>빅뱅</td>\n      <td>YG</td>\n      <td>남자</td>\n      <td>1988/08/18</td>\n      <td>177.0</td>\n      <td>A</td>\n      <td>9916947</td>\n    </tr>\n    <tr>\n      <th>3</th>\n      <td>강다니엘</td>\n      <td>NaN</td>\n      <td>커넥트</td>\n      <td>남자</td>\n      <td>1996/12/10</td>\n      <td>180.0</td>\n      <td>A</td>\n      <td>8273745</td>\n    </tr>\n    <tr>\n      <th>4</th>\n      <td>뷔</td>\n      <td>방탄소년단</td>\n      <td>빅히트</td>\n      <td>남자</td>\n      <td>1995/12/30</td>\n      <td>178.0</td>\n      <td>AB</td>\n      <td>8073501</td>\n    </tr>\n    <tr>\n      <th>5</th>\n      <td>화사</td>\n      <td>마마무</td>\n      <td>RBW</td>\n      <td>여자</td>\n      <td>1995/07/23</td>\n      <td>162.1</td>\n      <td>A</td>\n      <td>7650928</td>\n    </tr>\n    <tr>\n      <th>6</th>\n      <td>정국</td>\n      <td>방탄소년단</td>\n      <td>빅히트</td>\n      <td>남자</td>\n      <td>1997/09/01</td>\n      <td>178.0</td>\n      <td>A</td>\n      <td>5208335</td>\n    </tr>\n    <tr>\n      <th>7</th>\n      <td>민현</td>\n      <td>뉴이스트</td>\n      <td>플레디스</td>\n      <td>남자</td>\n      <td>1995/08/09</td>\n      <td>182.3</td>\n      <td>O</td>\n      <td>4989792</td>\n    </tr>\n    <tr>\n      <th>8</th>\n      <td>소연</td>\n      <td>아이들</td>\n      <td>큐브</td>\n      <td>여자</td>\n      <td>1998/08/26</td>\n      <td>NaN</td>\n      <td>B</td>\n      <td>4668615</td>\n    </tr>\n    <tr>\n      <th>9</th>\n      <td>진</td>\n      <td>방탄소년단</td>\n      <td>빅히트</td>\n      <td>남자</td>\n      <td>1992/12/04</td>\n      <td>179.2</td>\n      <td>O</td>\n      <td>4570308</td>\n    </tr>\n    <tr>\n      <th>10</th>\n      <td>하성운</td>\n      <td>핫샷</td>\n      <td>스타크루이엔티</td>\n      <td>남자</td>\n      <td>1994/03/22</td>\n      <td>167.1</td>\n      <td>A</td>\n      <td>4036489</td>\n    </tr>\n    <tr>\n      <th>11</th>\n      <td>태연</td>\n      <td>소녀시대</td>\n      <td>SM</td>\n      <td>여자</td>\n      <td>1989/03/09</td>\n      <td>NaN</td>\n      <td>A</td>\n      <td>3918661</td>\n    </tr>\n    <tr>\n      <th>12</th>\n      <td>차은우</td>\n      <td>아스트로</td>\n      <td>판타지오</td>\n      <td>남자</td>\n      <td>1997/03/30</td>\n      <td>183.0</td>\n      <td>B</td>\n      <td>3506027</td>\n    </tr>\n    <tr>\n      <th>13</th>\n      <td>백호</td>\n      <td>뉴이스트</td>\n      <td>플레디스</td>\n      <td>남자</td>\n      <td>1995/07/21</td>\n      <td>175.0</td>\n      <td>AB</td>\n      <td>3301654</td>\n    </tr>\n    <tr>\n      <th>14</th>\n      <td>JR</td>\n      <td>뉴이스트</td>\n      <td>플레디스</td>\n      <td>남자</td>\n      <td>1995/06/08</td>\n      <td>176.0</td>\n      <td>O</td>\n      <td>3274137</td>\n    </tr>\n    <tr>\n      <th>15</th>\n      <td>슈가</td>\n      <td>방탄소년단</td>\n      <td>빅히트</td>\n      <td>남자</td>\n      <td>1993/03/09</td>\n      <td>174.0</td>\n      <td>O</td>\n      <td>2925442</td>\n    </tr>\n  </tbody>\n</table>\n</div>",
      "text/plain": "      이름     그룹      소속사  성별        생년월일      키 혈액형   브랜드평판지수\n1     지민  방탄소년단      빅히트  남자  1995/10/13  173.6   A  10523260\n2   지드래곤     빅뱅       YG  남자  1988/08/18  177.0   A   9916947\n3   강다니엘    NaN      커넥트  남자  1996/12/10  180.0   A   8273745\n4      뷔  방탄소년단      빅히트  남자  1995/12/30  178.0  AB   8073501\n5     화사    마마무      RBW  여자  1995/07/23  162.1   A   7650928\n6     정국  방탄소년단      빅히트  남자  1997/09/01  178.0   A   5208335\n7     민현   뉴이스트     플레디스  남자  1995/08/09  182.3   O   4989792\n8     소연    아이들       큐브  여자  1998/08/26    NaN   B   4668615\n9      진  방탄소년단      빅히트  남자  1992/12/04  179.2   O   4570308\n10   하성운     핫샷  스타크루이엔티  남자  1994/03/22  167.1   A   4036489\n11    태연   소녀시대       SM  여자  1989/03/09    NaN   A   3918661\n12   차은우   아스트로     판타지오  남자  1997/03/30  183.0   B   3506027\n13    백호   뉴이스트     플레디스  남자  1995/07/21  175.0  AB   3301654\n14    JR   뉴이스트     플레디스  남자  1995/06/08  176.0   O   3274137\n15    슈가  방탄소년단      빅히트  남자  1993/03/09  174.0   O   2925442"
     },
     "execution_count": 8,
     "metadata": {},
     "output_type": "execute_result"
    }
   ],
   "source": [
    "# 행 인덱스 증가\n",
    "d.index += 1\n",
    "d"
   ]
  },
  {
   "cell_type": "markdown",
   "metadata": {},
   "source": [
    "## 5-3. 데이터 인덱싱, 슬라이싱"
   ]
  },
  {
   "cell_type": "code",
   "execution_count": 9,
   "metadata": {},
   "outputs": [
    {
     "data": {
      "text/plain": "1       지민\n2     지드래곤\n3     강다니엘\n4        뷔\n5       화사\n6       정국\n7       민현\n8       소연\n9        진\n10     하성운\n11      태연\n12     차은우\n13      백호\n14      JR\n15      슈가\nName: 이름, dtype: object"
     },
     "execution_count": 9,
     "metadata": {},
     "output_type": "execute_result"
    }
   ],
   "source": [
    "# 열 인덱싱\n",
    "d['이름']"
   ]
  },
  {
   "cell_type": "code",
   "execution_count": 10,
   "metadata": {},
   "outputs": [
    {
     "data": {
      "text/plain": "1       지민\n2     지드래곤\n3     강다니엘\n4        뷔\n5       화사\n6       정국\n7       민현\n8       소연\n9        진\n10     하성운\n11      태연\n12     차은우\n13      백호\n14      JR\n15      슈가\nName: 이름, dtype: object"
     },
     "execution_count": 10,
     "metadata": {},
     "output_type": "execute_result"
    }
   ],
   "source": [
    "d.이름"
   ]
  },
  {
   "cell_type": "code",
   "execution_count": 11,
   "metadata": {},
   "outputs": [
    {
     "data": {
      "text/plain": "1       지민\n2     지드래곤\n3     강다니엘\n4        뷔\n5       화사\n6       정국\n7       민현\n8       소연\n9        진\n10     하성운\n11      태연\n12     차은우\n13      백호\n14      JR\n15      슈가\nName: 이름, dtype: object"
     },
     "execution_count": 11,
     "metadata": {},
     "output_type": "execute_result"
    }
   ],
   "source": [
    "d.loc[:, '이름'], # d.loc[:]['이름']"
   ]
  },
  {
   "cell_type": "code",
   "execution_count": 12,
   "metadata": {},
   "outputs": [
    {
     "data": {
      "text/plain": "1       지민\n2     지드래곤\n3     강다니엘\n4        뷔\n5       화사\n6       정국\n7       민현\n8       소연\n9        진\n10     하성운\n11      태연\n12     차은우\n13      백호\n14      JR\n15      슈가\nName: 이름, dtype: object"
     },
     "execution_count": 12,
     "metadata": {},
     "output_type": "execute_result"
    }
   ],
   "source": [
    "d.iloc[:, 0]"
   ]
  },
  {
   "cell_type": "code",
   "execution_count": 15,
   "metadata": {},
   "outputs": [
    {
     "data": {
      "text/html": "<div>\n<style scoped>\n    .dataframe tbody tr th:only-of-type {\n        vertical-align: middle;\n    }\n\n    .dataframe tbody tr th {\n        vertical-align: top;\n    }\n\n    .dataframe thead th {\n        text-align: right;\n    }\n</style>\n<table border=\"1\" class=\"dataframe\">\n  <thead>\n    <tr style=\"text-align: right;\">\n      <th></th>\n      <th>이름</th>\n      <th>그룹</th>\n    </tr>\n  </thead>\n  <tbody>\n    <tr>\n      <th>1</th>\n      <td>지민</td>\n      <td>방탄소년단</td>\n    </tr>\n    <tr>\n      <th>2</th>\n      <td>지드래곤</td>\n      <td>빅뱅</td>\n    </tr>\n    <tr>\n      <th>3</th>\n      <td>강다니엘</td>\n      <td>NaN</td>\n    </tr>\n    <tr>\n      <th>4</th>\n      <td>뷔</td>\n      <td>방탄소년단</td>\n    </tr>\n    <tr>\n      <th>5</th>\n      <td>화사</td>\n      <td>마마무</td>\n    </tr>\n    <tr>\n      <th>6</th>\n      <td>정국</td>\n      <td>방탄소년단</td>\n    </tr>\n    <tr>\n      <th>7</th>\n      <td>민현</td>\n      <td>뉴이스트</td>\n    </tr>\n    <tr>\n      <th>8</th>\n      <td>소연</td>\n      <td>아이들</td>\n    </tr>\n    <tr>\n      <th>9</th>\n      <td>진</td>\n      <td>방탄소년단</td>\n    </tr>\n    <tr>\n      <th>10</th>\n      <td>하성운</td>\n      <td>핫샷</td>\n    </tr>\n    <tr>\n      <th>11</th>\n      <td>태연</td>\n      <td>소녀시대</td>\n    </tr>\n    <tr>\n      <th>12</th>\n      <td>차은우</td>\n      <td>아스트로</td>\n    </tr>\n    <tr>\n      <th>13</th>\n      <td>백호</td>\n      <td>뉴이스트</td>\n    </tr>\n    <tr>\n      <th>14</th>\n      <td>JR</td>\n      <td>뉴이스트</td>\n    </tr>\n    <tr>\n      <th>15</th>\n      <td>슈가</td>\n      <td>방탄소년단</td>\n    </tr>\n  </tbody>\n</table>\n</div>",
      "text/plain": "      이름     그룹\n1     지민  방탄소년단\n2   지드래곤     빅뱅\n3   강다니엘    NaN\n4      뷔  방탄소년단\n5     화사    마마무\n6     정국  방탄소년단\n7     민현   뉴이스트\n8     소연    아이들\n9      진  방탄소년단\n10   하성운     핫샷\n11    태연   소녀시대\n12   차은우   아스트로\n13    백호   뉴이스트\n14    JR   뉴이스트\n15    슈가  방탄소년단"
     },
     "execution_count": 15,
     "metadata": {},
     "output_type": "execute_result"
    }
   ],
   "source": [
    "d.iloc[:, 0:2]"
   ]
  },
  {
   "cell_type": "code",
   "execution_count": 14,
   "metadata": {},
   "outputs": [
    {
     "data": {
      "text/html": "<div>\n<style scoped>\n    .dataframe tbody tr th:only-of-type {\n        vertical-align: middle;\n    }\n\n    .dataframe tbody tr th {\n        vertical-align: top;\n    }\n\n    .dataframe thead th {\n        text-align: right;\n    }\n</style>\n<table border=\"1\" class=\"dataframe\">\n  <thead>\n    <tr style=\"text-align: right;\">\n      <th></th>\n      <th>이름</th>\n      <th>그룹</th>\n    </tr>\n  </thead>\n  <tbody>\n    <tr>\n      <th>1</th>\n      <td>지민</td>\n      <td>방탄소년단</td>\n    </tr>\n    <tr>\n      <th>2</th>\n      <td>지드래곤</td>\n      <td>빅뱅</td>\n    </tr>\n    <tr>\n      <th>3</th>\n      <td>강다니엘</td>\n      <td>NaN</td>\n    </tr>\n    <tr>\n      <th>4</th>\n      <td>뷔</td>\n      <td>방탄소년단</td>\n    </tr>\n    <tr>\n      <th>5</th>\n      <td>화사</td>\n      <td>마마무</td>\n    </tr>\n    <tr>\n      <th>6</th>\n      <td>정국</td>\n      <td>방탄소년단</td>\n    </tr>\n    <tr>\n      <th>7</th>\n      <td>민현</td>\n      <td>뉴이스트</td>\n    </tr>\n    <tr>\n      <th>8</th>\n      <td>소연</td>\n      <td>아이들</td>\n    </tr>\n    <tr>\n      <th>9</th>\n      <td>진</td>\n      <td>방탄소년단</td>\n    </tr>\n    <tr>\n      <th>10</th>\n      <td>하성운</td>\n      <td>핫샷</td>\n    </tr>\n    <tr>\n      <th>11</th>\n      <td>태연</td>\n      <td>소녀시대</td>\n    </tr>\n    <tr>\n      <th>12</th>\n      <td>차은우</td>\n      <td>아스트로</td>\n    </tr>\n    <tr>\n      <th>13</th>\n      <td>백호</td>\n      <td>뉴이스트</td>\n    </tr>\n    <tr>\n      <th>14</th>\n      <td>JR</td>\n      <td>뉴이스트</td>\n    </tr>\n    <tr>\n      <th>15</th>\n      <td>슈가</td>\n      <td>방탄소년단</td>\n    </tr>\n  </tbody>\n</table>\n</div>",
      "text/plain": "      이름     그룹\n1     지민  방탄소년단\n2   지드래곤     빅뱅\n3   강다니엘    NaN\n4      뷔  방탄소년단\n5     화사    마마무\n6     정국  방탄소년단\n7     민현   뉴이스트\n8     소연    아이들\n9      진  방탄소년단\n10   하성운     핫샷\n11    태연   소녀시대\n12   차은우   아스트로\n13    백호   뉴이스트\n14    JR   뉴이스트\n15    슈가  방탄소년단"
     },
     "execution_count": 14,
     "metadata": {},
     "output_type": "execute_result"
    }
   ],
   "source": [
    "d[['이름', '그룹']]"
   ]
  },
  {
   "cell_type": "code",
   "execution_count": 16,
   "metadata": {},
   "outputs": [
    {
     "data": {
      "text/plain": "이름                  뷔\n그룹              방탄소년단\n소속사               빅히트\n성별                 남자\n생년월일       1995/12/30\n키               178.0\n혈액형                AB\n브랜드평판지수       8073501\nName: 4, dtype: object"
     },
     "execution_count": 16,
     "metadata": {},
     "output_type": "execute_result"
    }
   ],
   "source": [
    "# 행 인덱싱 (loc, iloc)\n",
    "d.loc[4]"
   ]
  },
  {
   "cell_type": "code",
   "execution_count": 17,
   "metadata": {},
   "outputs": [
    {
     "data": {
      "text/plain": "이름                  뷔\n그룹              방탄소년단\n소속사               빅히트\n성별                 남자\n생년월일       1995/12/30\n키               178.0\n혈액형                AB\n브랜드평판지수       8073501\nName: 4, dtype: object"
     },
     "execution_count": 17,
     "metadata": {},
     "output_type": "execute_result"
    }
   ],
   "source": [
    "d.iloc[3]"
   ]
  },
  {
   "cell_type": "code",
   "execution_count": 18,
   "metadata": {},
   "outputs": [
    {
     "data": {
      "text/html": "<div>\n<style scoped>\n    .dataframe tbody tr th:only-of-type {\n        vertical-align: middle;\n    }\n\n    .dataframe tbody tr th {\n        vertical-align: top;\n    }\n\n    .dataframe thead th {\n        text-align: right;\n    }\n</style>\n<table border=\"1\" class=\"dataframe\">\n  <thead>\n    <tr style=\"text-align: right;\">\n      <th></th>\n      <th>이름</th>\n      <th>그룹</th>\n      <th>소속사</th>\n      <th>성별</th>\n      <th>생년월일</th>\n      <th>키</th>\n      <th>혈액형</th>\n      <th>브랜드평판지수</th>\n    </tr>\n  </thead>\n  <tbody>\n    <tr>\n      <th>4</th>\n      <td>뷔</td>\n      <td>방탄소년단</td>\n      <td>빅히트</td>\n      <td>남자</td>\n      <td>1995/12/30</td>\n      <td>178.0</td>\n      <td>AB</td>\n      <td>8073501</td>\n    </tr>\n    <tr>\n      <th>6</th>\n      <td>정국</td>\n      <td>방탄소년단</td>\n      <td>빅히트</td>\n      <td>남자</td>\n      <td>1997/09/01</td>\n      <td>178.0</td>\n      <td>A</td>\n      <td>5208335</td>\n    </tr>\n  </tbody>\n</table>\n</div>",
      "text/plain": "   이름     그룹  소속사  성별        생년월일      키 혈액형  브랜드평판지수\n4   뷔  방탄소년단  빅히트  남자  1995/12/30  178.0  AB  8073501\n6  정국  방탄소년단  빅히트  남자  1997/09/01  178.0   A  5208335"
     },
     "execution_count": 18,
     "metadata": {},
     "output_type": "execute_result"
    }
   ],
   "source": [
    "d.loc[[4, 6]]"
   ]
  },
  {
   "cell_type": "code",
   "execution_count": 19,
   "metadata": {},
   "outputs": [
    {
     "data": {
      "text/html": "<div>\n<style scoped>\n    .dataframe tbody tr th:only-of-type {\n        vertical-align: middle;\n    }\n\n    .dataframe tbody tr th {\n        vertical-align: top;\n    }\n\n    .dataframe thead th {\n        text-align: right;\n    }\n</style>\n<table border=\"1\" class=\"dataframe\">\n  <thead>\n    <tr style=\"text-align: right;\">\n      <th></th>\n      <th>이름</th>\n      <th>그룹</th>\n      <th>소속사</th>\n      <th>성별</th>\n      <th>생년월일</th>\n      <th>키</th>\n      <th>혈액형</th>\n      <th>브랜드평판지수</th>\n    </tr>\n  </thead>\n  <tbody>\n    <tr>\n      <th>4</th>\n      <td>뷔</td>\n      <td>방탄소년단</td>\n      <td>빅히트</td>\n      <td>남자</td>\n      <td>1995/12/30</td>\n      <td>178.0</td>\n      <td>AB</td>\n      <td>8073501</td>\n    </tr>\n    <tr>\n      <th>6</th>\n      <td>정국</td>\n      <td>방탄소년단</td>\n      <td>빅히트</td>\n      <td>남자</td>\n      <td>1997/09/01</td>\n      <td>178.0</td>\n      <td>A</td>\n      <td>5208335</td>\n    </tr>\n  </tbody>\n</table>\n</div>",
      "text/plain": "   이름     그룹  소속사  성별        생년월일      키 혈액형  브랜드평판지수\n4   뷔  방탄소년단  빅히트  남자  1995/12/30  178.0  AB  8073501\n6  정국  방탄소년단  빅히트  남자  1997/09/01  178.0   A  5208335"
     },
     "execution_count": 19,
     "metadata": {},
     "output_type": "execute_result"
    }
   ],
   "source": [
    "d.iloc[[3, 5]]"
   ]
  },
  {
   "cell_type": "code",
   "execution_count": 24,
   "metadata": {},
   "outputs": [
    {
     "data": {
      "text/html": "<div>\n<style scoped>\n    .dataframe tbody tr th:only-of-type {\n        vertical-align: middle;\n    }\n\n    .dataframe tbody tr th {\n        vertical-align: top;\n    }\n\n    .dataframe thead th {\n        text-align: right;\n    }\n</style>\n<table border=\"1\" class=\"dataframe\">\n  <thead>\n    <tr style=\"text-align: right;\">\n      <th></th>\n      <th>이름</th>\n      <th>그룹</th>\n      <th>소속사</th>\n      <th>성별</th>\n      <th>생년월일</th>\n      <th>키</th>\n      <th>혈액형</th>\n      <th>브랜드평판지수</th>\n    </tr>\n  </thead>\n  <tbody>\n    <tr>\n      <th>4</th>\n      <td>뷔</td>\n      <td>방탄소년단</td>\n      <td>빅히트</td>\n      <td>남자</td>\n      <td>1995/12/30</td>\n      <td>178.0</td>\n      <td>AB</td>\n      <td>8073501</td>\n    </tr>\n    <tr>\n      <th>6</th>\n      <td>정국</td>\n      <td>방탄소년단</td>\n      <td>빅히트</td>\n      <td>남자</td>\n      <td>1997/09/01</td>\n      <td>178.0</td>\n      <td>A</td>\n      <td>5208335</td>\n    </tr>\n  </tbody>\n</table>\n</div>",
      "text/plain": "   이름     그룹  소속사  성별        생년월일      키 혈액형  브랜드평판지수\n4   뷔  방탄소년단  빅히트  남자  1995/12/30  178.0  AB  8073501\n6  정국  방탄소년단  빅히트  남자  1997/09/01  178.0   A  5208335"
     },
     "execution_count": 24,
     "metadata": {},
     "output_type": "execute_result"
    }
   ],
   "source": [
    "d.loc[4:7:2]"
   ]
  },
  {
   "cell_type": "code",
   "execution_count": 25,
   "metadata": {},
   "outputs": [
    {
     "data": {
      "text/html": "<div>\n<style scoped>\n    .dataframe tbody tr th:only-of-type {\n        vertical-align: middle;\n    }\n\n    .dataframe tbody tr th {\n        vertical-align: top;\n    }\n\n    .dataframe thead th {\n        text-align: right;\n    }\n</style>\n<table border=\"1\" class=\"dataframe\">\n  <thead>\n    <tr style=\"text-align: right;\">\n      <th></th>\n      <th>이름</th>\n      <th>그룹</th>\n      <th>소속사</th>\n      <th>성별</th>\n      <th>생년월일</th>\n      <th>키</th>\n      <th>혈액형</th>\n      <th>브랜드평판지수</th>\n    </tr>\n  </thead>\n  <tbody>\n    <tr>\n      <th>4</th>\n      <td>뷔</td>\n      <td>방탄소년단</td>\n      <td>빅히트</td>\n      <td>남자</td>\n      <td>1995/12/30</td>\n      <td>178.0</td>\n      <td>AB</td>\n      <td>8073501</td>\n    </tr>\n    <tr>\n      <th>6</th>\n      <td>정국</td>\n      <td>방탄소년단</td>\n      <td>빅히트</td>\n      <td>남자</td>\n      <td>1997/09/01</td>\n      <td>178.0</td>\n      <td>A</td>\n      <td>5208335</td>\n    </tr>\n  </tbody>\n</table>\n</div>",
      "text/plain": "   이름     그룹  소속사  성별        생년월일      키 혈액형  브랜드평판지수\n4   뷔  방탄소년단  빅히트  남자  1995/12/30  178.0  AB  8073501\n6  정국  방탄소년단  빅히트  남자  1997/09/01  178.0   A  5208335"
     },
     "execution_count": 25,
     "metadata": {},
     "output_type": "execute_result"
    }
   ],
   "source": [
    "d.iloc[3:7:2]"
   ]
  },
  {
   "cell_type": "code",
   "execution_count": 31,
   "metadata": {},
   "outputs": [
    {
     "data": {
      "text/html": "<div>\n<style scoped>\n    .dataframe tbody tr th:only-of-type {\n        vertical-align: middle;\n    }\n\n    .dataframe tbody tr th {\n        vertical-align: top;\n    }\n\n    .dataframe thead th {\n        text-align: right;\n    }\n</style>\n<table border=\"1\" class=\"dataframe\">\n  <thead>\n    <tr style=\"text-align: right;\">\n      <th></th>\n      <th>이름</th>\n      <th>생년월일</th>\n    </tr>\n  </thead>\n  <tbody>\n    <tr>\n      <th>4</th>\n      <td>뷔</td>\n      <td>1995/12/30</td>\n    </tr>\n    <tr>\n      <th>6</th>\n      <td>정국</td>\n      <td>1997/09/01</td>\n    </tr>\n  </tbody>\n</table>\n</div>",
      "text/plain": "   이름        생년월일\n4   뷔  1995/12/30\n6  정국  1997/09/01"
     },
     "execution_count": 31,
     "metadata": {},
     "output_type": "execute_result"
    }
   ],
   "source": [
    "d.loc[[4, 6], ['이름', '생년월일']]"
   ]
  },
  {
   "cell_type": "code",
   "execution_count": null,
   "metadata": {},
   "outputs": [],
   "source": []
  }
 ],
 "metadata": {
  "kernelspec": {
   "display_name": "Python 3.7.9 64-bit",
   "name": "python379jvsc74a57bd07a3d88c904243d2c3f246166597f86d1c0a39f3d97496d1fe394945d0c6d436d"
  },
  "language_info": {
   "codemirror_mode": {
    "name": "ipython",
    "version": 3
   },
   "file_extension": ".py",
   "mimetype": "text/x-python",
   "name": "python",
   "nbconvert_exporter": "python",
   "pygments_lexer": "ipython3",
   "version": "3.7.9"
  },
  "metadata": {
   "interpreter": {
    "hash": "7a3d88c904243d2c3f246166597f86d1c0a39f3d97496d1fe394945d0c6d436d"
   }
  },
  "orig_nbformat": 2
 },
 "nbformat": 4,
 "nbformat_minor": 2
}