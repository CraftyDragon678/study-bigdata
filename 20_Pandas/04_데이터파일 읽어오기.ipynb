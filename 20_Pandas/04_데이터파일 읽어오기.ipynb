{
 "cells": [
  {
   "cell_type": "markdown",
   "metadata": {},
   "source": [
    "# 4. 데이터 파일 읽어오기"
   ]
  },
  {
   "cell_type": "markdown",
   "metadata": {},
   "source": [
    "## 4-1. CSV 파일\n",
    "* Comma Separated Value의 약자, 쉼표로 구분된 데이터 파일\n",
    "* 엑셀보다 CSV 파일이 가볍다."
   ]
  },
  {
   "cell_type": "code",
   "execution_count": 2,
   "metadata": {},
   "outputs": [],
   "source": [
    "import numpy as np\n",
    "import pandas as pd"
   ]
  },
  {
   "cell_type": "code",
   "execution_count": 3,
   "metadata": {},
   "outputs": [
    {
     "data": {
      "text/html": "<div>\n<style scoped>\n    .dataframe tbody tr th:only-of-type {\n        vertical-align: middle;\n    }\n\n    .dataframe tbody tr th {\n        vertical-align: top;\n    }\n\n    .dataframe thead th {\n        text-align: right;\n    }\n</style>\n<table border=\"1\" class=\"dataframe\">\n  <thead>\n    <tr style=\"text-align: right;\">\n      <th></th>\n      <th>이름</th>\n      <th>그룹</th>\n      <th>소속사</th>\n      <th>성별</th>\n      <th>생년월일</th>\n      <th>키</th>\n      <th>혈액형</th>\n      <th>브랜드평판지수</th>\n    </tr>\n  </thead>\n  <tbody>\n    <tr>\n      <th>0</th>\n      <td>지민</td>\n      <td>방탄소년단</td>\n      <td>빅히트</td>\n      <td>남자</td>\n      <td>1995-10-13</td>\n      <td>173.6</td>\n      <td>A</td>\n      <td>10523260</td>\n    </tr>\n    <tr>\n      <th>1</th>\n      <td>지드래곤</td>\n      <td>빅뱅</td>\n      <td>YG</td>\n      <td>남자</td>\n      <td>1988-08-18</td>\n      <td>177.0</td>\n      <td>A</td>\n      <td>9916947</td>\n    </tr>\n    <tr>\n      <th>2</th>\n      <td>강다니엘</td>\n      <td>NaN</td>\n      <td>커넥트</td>\n      <td>남자</td>\n      <td>1996-12-10</td>\n      <td>180.0</td>\n      <td>A</td>\n      <td>8273745</td>\n    </tr>\n    <tr>\n      <th>3</th>\n      <td>뷔</td>\n      <td>방탄소년단</td>\n      <td>빅히트</td>\n      <td>남자</td>\n      <td>1995-12-30</td>\n      <td>178.0</td>\n      <td>AB</td>\n      <td>8073501</td>\n    </tr>\n    <tr>\n      <th>4</th>\n      <td>화사</td>\n      <td>마마무</td>\n      <td>RBW</td>\n      <td>여자</td>\n      <td>1995-07-23</td>\n      <td>162.1</td>\n      <td>A</td>\n      <td>7650928</td>\n    </tr>\n    <tr>\n      <th>5</th>\n      <td>정국</td>\n      <td>방탄소년단</td>\n      <td>빅히트</td>\n      <td>남자</td>\n      <td>1997-09-01</td>\n      <td>178.0</td>\n      <td>A</td>\n      <td>5208335</td>\n    </tr>\n    <tr>\n      <th>6</th>\n      <td>민현</td>\n      <td>뉴이스트</td>\n      <td>플레디스</td>\n      <td>남자</td>\n      <td>1995-08-09</td>\n      <td>182.3</td>\n      <td>O</td>\n      <td>4989792</td>\n    </tr>\n    <tr>\n      <th>7</th>\n      <td>소연</td>\n      <td>아이들</td>\n      <td>큐브</td>\n      <td>여자</td>\n      <td>1998-08-26</td>\n      <td>NaN</td>\n      <td>B</td>\n      <td>4668615</td>\n    </tr>\n    <tr>\n      <th>8</th>\n      <td>진</td>\n      <td>방탄소년단</td>\n      <td>빅히트</td>\n      <td>남자</td>\n      <td>1992-12-04</td>\n      <td>179.2</td>\n      <td>O</td>\n      <td>4570308</td>\n    </tr>\n    <tr>\n      <th>9</th>\n      <td>하성운</td>\n      <td>핫샷</td>\n      <td>스타크루이엔티</td>\n      <td>남자</td>\n      <td>1994-03-22</td>\n      <td>167.1</td>\n      <td>A</td>\n      <td>4036489</td>\n    </tr>\n    <tr>\n      <th>10</th>\n      <td>태연</td>\n      <td>소녀시대</td>\n      <td>SM</td>\n      <td>여자</td>\n      <td>1989-03-09</td>\n      <td>NaN</td>\n      <td>A</td>\n      <td>3918661</td>\n    </tr>\n    <tr>\n      <th>11</th>\n      <td>차은우</td>\n      <td>아스트로</td>\n      <td>판타지오</td>\n      <td>남자</td>\n      <td>1997-03-30</td>\n      <td>183.0</td>\n      <td>B</td>\n      <td>3506027</td>\n    </tr>\n    <tr>\n      <th>12</th>\n      <td>백호</td>\n      <td>뉴이스트</td>\n      <td>플레디스</td>\n      <td>남자</td>\n      <td>1995-07-21</td>\n      <td>175.0</td>\n      <td>AB</td>\n      <td>3301654</td>\n    </tr>\n    <tr>\n      <th>13</th>\n      <td>JR</td>\n      <td>뉴이스트</td>\n      <td>플레디스</td>\n      <td>남자</td>\n      <td>1995-06-08</td>\n      <td>176.0</td>\n      <td>O</td>\n      <td>3274137</td>\n    </tr>\n    <tr>\n      <th>14</th>\n      <td>슈가</td>\n      <td>방탄소년단</td>\n      <td>빅히트</td>\n      <td>남자</td>\n      <td>1993-03-09</td>\n      <td>174.0</td>\n      <td>O</td>\n      <td>2925442</td>\n    </tr>\n  </tbody>\n</table>\n</div>",
      "text/plain": "      이름     그룹      소속사  성별        생년월일      키 혈액형   브랜드평판지수\n0     지민  방탄소년단      빅히트  남자  1995-10-13  173.6   A  10523260\n1   지드래곤     빅뱅       YG  남자  1988-08-18  177.0   A   9916947\n2   강다니엘    NaN      커넥트  남자  1996-12-10  180.0   A   8273745\n3      뷔  방탄소년단      빅히트  남자  1995-12-30  178.0  AB   8073501\n4     화사    마마무      RBW  여자  1995-07-23  162.1   A   7650928\n5     정국  방탄소년단      빅히트  남자  1997-09-01  178.0   A   5208335\n6     민현   뉴이스트     플레디스  남자  1995-08-09  182.3   O   4989792\n7     소연    아이들       큐브  여자  1998-08-26    NaN   B   4668615\n8      진  방탄소년단      빅히트  남자  1992-12-04  179.2   O   4570308\n9    하성운     핫샷  스타크루이엔티  남자  1994-03-22  167.1   A   4036489\n10    태연   소녀시대       SM  여자  1989-03-09    NaN   A   3918661\n11   차은우   아스트로     판타지오  남자  1997-03-30  183.0   B   3506027\n12    백호   뉴이스트     플레디스  남자  1995-07-21  175.0  AB   3301654\n13    JR   뉴이스트     플레디스  남자  1995-06-08  176.0   O   3274137\n14    슈가  방탄소년단      빅히트  남자  1993-03-09  174.0   O   2925442"
     },
     "execution_count": 3,
     "metadata": {},
     "output_type": "execute_result"
    }
   ],
   "source": [
    "# 1. URL로부터 파일 읽어오기\n",
    "d = pd.read_csv('http://bit.ly/ds-korean-idol')\n",
    "d"
   ]
  },
  {
   "cell_type": "code",
   "execution_count": 4,
   "metadata": {},
   "outputs": [
    {
     "data": {
      "text/html": "<div>\n<style scoped>\n    .dataframe tbody tr th:only-of-type {\n        vertical-align: middle;\n    }\n\n    .dataframe tbody tr th {\n        vertical-align: top;\n    }\n\n    .dataframe thead th {\n        text-align: right;\n    }\n</style>\n<table border=\"1\" class=\"dataframe\">\n  <thead>\n    <tr style=\"text-align: right;\">\n      <th></th>\n      <th>이름</th>\n      <th>그룹</th>\n      <th>소속사</th>\n      <th>성별</th>\n      <th>생년월일</th>\n      <th>키</th>\n      <th>혈액형</th>\n      <th>브랜드평판지수</th>\n    </tr>\n  </thead>\n  <tbody>\n    <tr>\n      <th>0</th>\n      <td>지민</td>\n      <td>방탄소년단</td>\n      <td>빅히트</td>\n      <td>남자</td>\n      <td>1995/10/13</td>\n      <td>173.6</td>\n      <td>A</td>\n      <td>10523260</td>\n    </tr>\n    <tr>\n      <th>1</th>\n      <td>지드래곤</td>\n      <td>빅뱅</td>\n      <td>YG</td>\n      <td>남자</td>\n      <td>1988/08/18</td>\n      <td>177.0</td>\n      <td>A</td>\n      <td>9916947</td>\n    </tr>\n    <tr>\n      <th>2</th>\n      <td>강다니엘</td>\n      <td>NaN</td>\n      <td>커넥트</td>\n      <td>남자</td>\n      <td>1996/12/10</td>\n      <td>180.0</td>\n      <td>A</td>\n      <td>8273745</td>\n    </tr>\n    <tr>\n      <th>3</th>\n      <td>뷔</td>\n      <td>방탄소년단</td>\n      <td>빅히트</td>\n      <td>남자</td>\n      <td>1995/12/30</td>\n      <td>178.0</td>\n      <td>AB</td>\n      <td>8073501</td>\n    </tr>\n    <tr>\n      <th>4</th>\n      <td>화사</td>\n      <td>마마무</td>\n      <td>RBW</td>\n      <td>여자</td>\n      <td>1995/07/23</td>\n      <td>162.1</td>\n      <td>A</td>\n      <td>7650928</td>\n    </tr>\n    <tr>\n      <th>5</th>\n      <td>정국</td>\n      <td>방탄소년단</td>\n      <td>빅히트</td>\n      <td>남자</td>\n      <td>1997/09/01</td>\n      <td>178.0</td>\n      <td>A</td>\n      <td>5208335</td>\n    </tr>\n    <tr>\n      <th>6</th>\n      <td>민현</td>\n      <td>뉴이스트</td>\n      <td>플레디스</td>\n      <td>남자</td>\n      <td>1995/08/09</td>\n      <td>182.3</td>\n      <td>O</td>\n      <td>4989792</td>\n    </tr>\n    <tr>\n      <th>7</th>\n      <td>소연</td>\n      <td>아이들</td>\n      <td>큐브</td>\n      <td>여자</td>\n      <td>1998/08/26</td>\n      <td>NaN</td>\n      <td>B</td>\n      <td>4668615</td>\n    </tr>\n    <tr>\n      <th>8</th>\n      <td>진</td>\n      <td>방탄소년단</td>\n      <td>빅히트</td>\n      <td>남자</td>\n      <td>1992/12/04</td>\n      <td>179.2</td>\n      <td>O</td>\n      <td>4570308</td>\n    </tr>\n    <tr>\n      <th>9</th>\n      <td>하성운</td>\n      <td>핫샷</td>\n      <td>스타크루이엔티</td>\n      <td>남자</td>\n      <td>1994/03/22</td>\n      <td>167.1</td>\n      <td>A</td>\n      <td>4036489</td>\n    </tr>\n    <tr>\n      <th>10</th>\n      <td>태연</td>\n      <td>소녀시대</td>\n      <td>SM</td>\n      <td>여자</td>\n      <td>1989/03/09</td>\n      <td>NaN</td>\n      <td>A</td>\n      <td>3918661</td>\n    </tr>\n    <tr>\n      <th>11</th>\n      <td>차은우</td>\n      <td>아스트로</td>\n      <td>판타지오</td>\n      <td>남자</td>\n      <td>1997/03/30</td>\n      <td>183.0</td>\n      <td>B</td>\n      <td>3506027</td>\n    </tr>\n    <tr>\n      <th>12</th>\n      <td>백호</td>\n      <td>뉴이스트</td>\n      <td>플레디스</td>\n      <td>남자</td>\n      <td>1995/07/21</td>\n      <td>175.0</td>\n      <td>AB</td>\n      <td>3301654</td>\n    </tr>\n    <tr>\n      <th>13</th>\n      <td>JR</td>\n      <td>뉴이스트</td>\n      <td>플레디스</td>\n      <td>남자</td>\n      <td>1995/06/08</td>\n      <td>176.0</td>\n      <td>O</td>\n      <td>3274137</td>\n    </tr>\n    <tr>\n      <th>14</th>\n      <td>슈가</td>\n      <td>방탄소년단</td>\n      <td>빅히트</td>\n      <td>남자</td>\n      <td>1993/03/09</td>\n      <td>174.0</td>\n      <td>O</td>\n      <td>2925442</td>\n    </tr>\n  </tbody>\n</table>\n</div>",
      "text/plain": "      이름     그룹      소속사  성별        생년월일      키 혈액형   브랜드평판지수\n0     지민  방탄소년단      빅히트  남자  1995/10/13  173.6   A  10523260\n1   지드래곤     빅뱅       YG  남자  1988/08/18  177.0   A   9916947\n2   강다니엘    NaN      커넥트  남자  1996/12/10  180.0   A   8273745\n3      뷔  방탄소년단      빅히트  남자  1995/12/30  178.0  AB   8073501\n4     화사    마마무      RBW  여자  1995/07/23  162.1   A   7650928\n5     정국  방탄소년단      빅히트  남자  1997/09/01  178.0   A   5208335\n6     민현   뉴이스트     플레디스  남자  1995/08/09  182.3   O   4989792\n7     소연    아이들       큐브  여자  1998/08/26    NaN   B   4668615\n8      진  방탄소년단      빅히트  남자  1992/12/04  179.2   O   4570308\n9    하성운     핫샷  스타크루이엔티  남자  1994/03/22  167.1   A   4036489\n10    태연   소녀시대       SM  여자  1989/03/09    NaN   A   3918661\n11   차은우   아스트로     판타지오  남자  1997/03/30  183.0   B   3506027\n12    백호   뉴이스트     플레디스  남자  1995/07/21  175.0  AB   3301654\n13    JR   뉴이스트     플레디스  남자  1995/06/08  176.0   O   3274137\n14    슈가  방탄소년단      빅히트  남자  1993/03/09  174.0   O   2925442"
     },
     "execution_count": 4,
     "metadata": {},
     "output_type": "execute_result"
    }
   ],
   "source": [
    "# 2. 로컬에 있는 CSV 파일 읽어오기\n",
    "d2 = pd.read_csv('../data/korean-idol.csv')\n",
    "d2"
   ]
  },
  {
   "cell_type": "code",
   "execution_count": 5,
   "metadata": {},
   "outputs": [
    {
     "data": {
      "text/html": "<div>\n<style scoped>\n    .dataframe tbody tr th:only-of-type {\n        vertical-align: middle;\n    }\n\n    .dataframe tbody tr th {\n        vertical-align: top;\n    }\n\n    .dataframe thead th {\n        text-align: right;\n    }\n</style>\n<table border=\"1\" class=\"dataframe\">\n  <thead>\n    <tr style=\"text-align: right;\">\n      <th></th>\n      <th>이름</th>\n      <th>그룹</th>\n      <th>소속사</th>\n      <th>성별</th>\n      <th>생년월일</th>\n      <th>키</th>\n      <th>혈액형</th>\n      <th>브랜드평판지수</th>\n    </tr>\n  </thead>\n  <tbody>\n    <tr>\n      <th>0</th>\n      <td>지민</td>\n      <td>방탄소년단</td>\n      <td>빅히트</td>\n      <td>남자</td>\n      <td>1995-10-13</td>\n      <td>173.6</td>\n      <td>A</td>\n      <td>10523260</td>\n    </tr>\n    <tr>\n      <th>1</th>\n      <td>지드래곤</td>\n      <td>빅뱅</td>\n      <td>YG</td>\n      <td>남자</td>\n      <td>1988-08-18</td>\n      <td>177.0</td>\n      <td>A</td>\n      <td>9916947</td>\n    </tr>\n    <tr>\n      <th>2</th>\n      <td>강다니엘</td>\n      <td>NaN</td>\n      <td>커넥트</td>\n      <td>남자</td>\n      <td>1996-12-10</td>\n      <td>180.0</td>\n      <td>A</td>\n      <td>8273745</td>\n    </tr>\n    <tr>\n      <th>3</th>\n      <td>뷔</td>\n      <td>방탄소년단</td>\n      <td>빅히트</td>\n      <td>남자</td>\n      <td>1995-12-30</td>\n      <td>178.0</td>\n      <td>AB</td>\n      <td>8073501</td>\n    </tr>\n    <tr>\n      <th>4</th>\n      <td>화사</td>\n      <td>마마무</td>\n      <td>RBW</td>\n      <td>여자</td>\n      <td>1995-07-23</td>\n      <td>162.1</td>\n      <td>A</td>\n      <td>7650928</td>\n    </tr>\n    <tr>\n      <th>5</th>\n      <td>정국</td>\n      <td>방탄소년단</td>\n      <td>빅히트</td>\n      <td>남자</td>\n      <td>1997-09-01</td>\n      <td>178.0</td>\n      <td>A</td>\n      <td>5208335</td>\n    </tr>\n    <tr>\n      <th>6</th>\n      <td>민현</td>\n      <td>뉴이스트</td>\n      <td>플레디스</td>\n      <td>남자</td>\n      <td>1995-08-09</td>\n      <td>182.3</td>\n      <td>O</td>\n      <td>4989792</td>\n    </tr>\n    <tr>\n      <th>7</th>\n      <td>소연</td>\n      <td>아이들</td>\n      <td>큐브</td>\n      <td>여자</td>\n      <td>1998-08-26</td>\n      <td>NaN</td>\n      <td>B</td>\n      <td>4668615</td>\n    </tr>\n    <tr>\n      <th>8</th>\n      <td>진</td>\n      <td>방탄소년단</td>\n      <td>빅히트</td>\n      <td>남자</td>\n      <td>1992-12-04</td>\n      <td>179.2</td>\n      <td>O</td>\n      <td>4570308</td>\n    </tr>\n    <tr>\n      <th>9</th>\n      <td>하성운</td>\n      <td>핫샷</td>\n      <td>스타크루이엔티</td>\n      <td>남자</td>\n      <td>1994-03-22</td>\n      <td>167.1</td>\n      <td>A</td>\n      <td>4036489</td>\n    </tr>\n    <tr>\n      <th>10</th>\n      <td>태연</td>\n      <td>소녀시대</td>\n      <td>SM</td>\n      <td>여자</td>\n      <td>1989-03-09</td>\n      <td>NaN</td>\n      <td>A</td>\n      <td>3918661</td>\n    </tr>\n    <tr>\n      <th>11</th>\n      <td>차은우</td>\n      <td>아스트로</td>\n      <td>판타지오</td>\n      <td>남자</td>\n      <td>1997-03-30</td>\n      <td>183.0</td>\n      <td>B</td>\n      <td>3506027</td>\n    </tr>\n    <tr>\n      <th>12</th>\n      <td>백호</td>\n      <td>뉴이스트</td>\n      <td>플레디스</td>\n      <td>남자</td>\n      <td>1995-07-21</td>\n      <td>175.0</td>\n      <td>AB</td>\n      <td>3301654</td>\n    </tr>\n    <tr>\n      <th>13</th>\n      <td>JR</td>\n      <td>뉴이스트</td>\n      <td>플레디스</td>\n      <td>남자</td>\n      <td>1995-06-08</td>\n      <td>176.0</td>\n      <td>O</td>\n      <td>3274137</td>\n    </tr>\n    <tr>\n      <th>14</th>\n      <td>슈가</td>\n      <td>방탄소년단</td>\n      <td>빅히트</td>\n      <td>남자</td>\n      <td>1993-03-09</td>\n      <td>174.0</td>\n      <td>O</td>\n      <td>2925442</td>\n    </tr>\n  </tbody>\n</table>\n</div>",
      "text/plain": "      이름     그룹      소속사  성별       생년월일      키 혈액형   브랜드평판지수\n0     지민  방탄소년단      빅히트  남자 1995-10-13  173.6   A  10523260\n1   지드래곤     빅뱅       YG  남자 1988-08-18  177.0   A   9916947\n2   강다니엘    NaN      커넥트  남자 1996-12-10  180.0   A   8273745\n3      뷔  방탄소년단      빅히트  남자 1995-12-30  178.0  AB   8073501\n4     화사    마마무      RBW  여자 1995-07-23  162.1   A   7650928\n5     정국  방탄소년단      빅히트  남자 1997-09-01  178.0   A   5208335\n6     민현   뉴이스트     플레디스  남자 1995-08-09  182.3   O   4989792\n7     소연    아이들       큐브  여자 1998-08-26    NaN   B   4668615\n8      진  방탄소년단      빅히트  남자 1992-12-04  179.2   O   4570308\n9    하성운     핫샷  스타크루이엔티  남자 1994-03-22  167.1   A   4036489\n10    태연   소녀시대       SM  여자 1989-03-09    NaN   A   3918661\n11   차은우   아스트로     판타지오  남자 1997-03-30  183.0   B   3506027\n12    백호   뉴이스트     플레디스  남자 1995-07-21  175.0  AB   3301654\n13    JR   뉴이스트     플레디스  남자 1995-06-08  176.0   O   3274137\n14    슈가  방탄소년단      빅히트  남자 1993-03-09  174.0   O   2925442"
     },
     "execution_count": 5,
     "metadata": {},
     "output_type": "execute_result"
    }
   ],
   "source": [
    "# 3. 엑셀 파일 읽어오기\n",
    "d3 = pd.read_excel('../data/korean-idol.xlsx')\n",
    "d3"
   ]
  },
  {
   "cell_type": "code",
   "execution_count": 1,
   "metadata": {},
   "outputs": [
    {
     "name": "stdout",
     "output_type": "stream",
     "text": [
      "Collecting kaggle\n",
      "  Downloading kaggle-1.5.12.tar.gz (58 kB)\n",
      "\u001b[K     |████████████████████████████████| 58 kB 1.2 MB/s \n",
      "\u001b[?25hRequirement already satisfied: six>=1.10 in /usr/local/lib/python3.7/site-packages (from kaggle) (1.15.0)\n",
      "Requirement already satisfied: certifi in /usr/local/lib/python3.7/site-packages (from kaggle) (2020.6.20)\n",
      "Requirement already satisfied: python-dateutil in /usr/local/lib/python3.7/site-packages (from kaggle) (2.8.1)\n",
      "Requirement already satisfied: requests in /usr/local/lib/python3.7/site-packages (from kaggle) (2.22.0)\n",
      "Collecting tqdm\n",
      "  Downloading tqdm-4.60.0-py2.py3-none-any.whl (75 kB)\n",
      "\u001b[K     |████████████████████████████████| 75 kB 3.9 MB/s \n",
      "\u001b[?25hCollecting python-slugify\n",
      "  Downloading python-slugify-4.0.1.tar.gz (11 kB)\n",
      "Requirement already satisfied: urllib3 in /usr/local/lib/python3.7/site-packages (from kaggle) (1.25.10)\n",
      "Collecting text-unidecode>=1.3\n",
      "  Downloading text_unidecode-1.3-py2.py3-none-any.whl (78 kB)\n",
      "\u001b[K     |████████████████████████████████| 78 kB 4.9 MB/s \n",
      "\u001b[?25hRequirement already satisfied: chardet<3.1.0,>=3.0.2 in /usr/local/lib/python3.7/site-packages (from requests->kaggle) (3.0.4)\n",
      "Requirement already satisfied: idna<2.9,>=2.5 in /usr/local/lib/python3.7/site-packages (from requests->kaggle) (2.8)\n",
      "Building wheels for collected packages: kaggle, python-slugify\n",
      "  Building wheel for kaggle (setup.py) ... \u001b[?25ldone\n",
      "\u001b[?25h  Created wheel for kaggle: filename=kaggle-1.5.12-py3-none-any.whl size=73053 sha256=ee43d0beffd1dab835a1b2a051416beab4efc352cde41e367c59decb4b022fc4\n",
      "  Stored in directory: /Users/craftydragon678/Library/Caches/pip/wheels/62/d6/58/5853130f941e75b2177d281eb7e44b4a98ed46dd155f556dc5\n",
      "  Building wheel for python-slugify (setup.py) ... \u001b[?25ldone\n",
      "\u001b[?25h  Created wheel for python-slugify: filename=python_slugify-4.0.1-py2.py3-none-any.whl size=6767 sha256=120cd19714042670786556161ce9dda5cba27e7ab68f8686d82d0e499a6a4fad\n",
      "  Stored in directory: /Users/craftydragon678/Library/Caches/pip/wheels/48/1b/6f/5c1cfab22eacbe0095fc619786da6571b55253653c71324b5c\n",
      "Successfully built kaggle python-slugify\n",
      "Installing collected packages: text-unidecode, tqdm, python-slugify, kaggle\n",
      "Successfully installed kaggle-1.5.12 python-slugify-4.0.1 text-unidecode-1.3 tqdm-4.60.0\n"
     ]
    }
   ],
   "source": [
    "# 4. kaggle에서 가져오기 (Mac : pip install --user kaggle)\n",
    "!pip install kaggle"
   ]
  },
  {
   "cell_type": "code",
   "execution_count": 8,
   "metadata": {},
   "outputs": [
    {
     "name": "stdout",
     "output_type": "stream",
     "text": [
      "Kaggle API 1.5.12\n"
     ]
    }
   ],
   "source": [
    "# kaggle version 확인\n",
    "# kaggle account > crate new api token > kaggle.json 파일을 ~/.kaggle/kaggle.json\n",
    "!kaggle --version"
   ]
  },
  {
   "cell_type": "code",
   "execution_count": 13,
   "metadata": {},
   "outputs": [
    {
     "name": "stdout",
     "output_type": "stream",
     "text": [
      "Downloading titanic.zip to ../data\n",
      "  0%|                                               | 0.00/34.1k [00:00<?, ?B/s]\n",
      "100%|██████████████████████████████████████| 34.1k/34.1k [00:00<00:00, 8.29MB/s]\n",
      "Archive:  ../data/titanic.zip\n",
      "  inflating: ../data/titanic/gender_submission.csv  \n",
      "  inflating: ../data/titanic/test.csv  \n",
      "  inflating: ../data/titanic/train.csv  \n"
     ]
    }
   ],
   "source": [
    "!kaggle competitions download -c titanic -p ../data\n",
    "!unzip ../data/titanic.zip -d ../data/titanic"
   ]
  },
  {
   "cell_type": "code",
   "execution_count": 15,
   "metadata": {},
   "outputs": [
    {
     "name": "stdout",
     "output_type": "stream",
     "text": [
      "corona-virus-report.zip: Skipping, found more recently modified local copy (use --force to force download)\n",
      "Archive:  ../data/corona-virus-report.zip\n",
      "  inflating: ../data/corona-virus-report/country_wise_latest.csv  \n",
      "  inflating: ../data/corona-virus-report/covid_19_clean_complete.csv  \n",
      "  inflating: ../data/corona-virus-report/day_wise.csv  \n",
      "  inflating: ../data/corona-virus-report/full_grouped.csv  \n",
      "  inflating: ../data/corona-virus-report/usa_county_wise.csv  \n",
      "  inflating: ../data/corona-virus-report/worldometer_data.csv  \n"
     ]
    }
   ],
   "source": [
    "!kaggle d download -d imdevskp/corona-virus-report -p ../data\n",
    "!unzip ../data/corona-virus-report.zip -d ../data/corona-virus-report"
   ]
  }
 ],
 "metadata": {
  "kernelspec": {
   "display_name": "Python 3.7.9 64-bit",
   "name": "python379jvsc74a57bd07a3d88c904243d2c3f246166597f86d1c0a39f3d97496d1fe394945d0c6d436d"
  },
  "language_info": {
   "codemirror_mode": {
    "name": "ipython",
    "version": 3
   },
   "file_extension": ".py",
   "mimetype": "text/x-python",
   "name": "python",
   "nbconvert_exporter": "python",
   "pygments_lexer": "ipython3",
   "version": "3.7.9"
  },
  "metadata": {
   "interpreter": {
    "hash": "7a3d88c904243d2c3f246166597f86d1c0a39f3d97496d1fe394945d0c6d436d"
   }
  },
  "orig_nbformat": 2
 },
 "nbformat": 4,
 "nbformat_minor": 2
}