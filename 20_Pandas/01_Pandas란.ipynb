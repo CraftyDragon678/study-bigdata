{
 "cells": [
  {
   "cell_type": "markdown",
   "metadata": {},
   "source": [
    "# 1. Pandas란?\n",
    "\n",
    "* Pandas는 파이썬을 활용한 데이터분석용 라이브러리이다.\n",
    "* numpy를 기반으로 만들어지고, 효율적인 데이터구조를 제공함\n",
    "* 1차원 배열 형태: Series, 2차원 배열 형태: DataFrame\n",
    "* https://pandas.pydata.org/\n",
    "* Pandas Cheat Sheet"
   ]
  },
  {
   "cell_type": "raw",
   "metadata": {},
   "source": []
  }
 ],
 "metadata": {
  "kernelspec": {
   "display_name": "Python 3",
   "name": "python3"
  },
  "language_info": {
   "name": "python",
   "version": ""
  },
  "orig_nbformat": 2
 },
 "nbformat": 4,
 "nbformat_minor": 2
}