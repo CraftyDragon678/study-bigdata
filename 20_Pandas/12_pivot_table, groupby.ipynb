{
 "cells": [
  {
   "cell_type": "markdown",
   "metadata": {},
   "source": [
    "# 12. pivot_table, Groupby 사용하기"
   ]
  },
  {
   "cell_type": "code",
   "execution_count": 1,
   "metadata": {},
   "outputs": [],
   "source": [
    "import pandas as pd\n",
    "import numpy as np"
   ]
  },
  {
   "cell_type": "code",
   "execution_count": 2,
   "metadata": {},
   "outputs": [
    {
     "data": {
      "text/html": "<div>\n<style scoped>\n    .dataframe tbody tr th:only-of-type {\n        vertical-align: middle;\n    }\n\n    .dataframe tbody tr th {\n        vertical-align: top;\n    }\n\n    .dataframe thead th {\n        text-align: right;\n    }\n</style>\n<table border=\"1\" class=\"dataframe\">\n  <thead>\n    <tr style=\"text-align: right;\">\n      <th></th>\n      <th>이름</th>\n      <th>그룹</th>\n      <th>소속사</th>\n      <th>성별</th>\n      <th>생년월일</th>\n      <th>키</th>\n      <th>혈액형</th>\n      <th>브랜드평판지수</th>\n    </tr>\n  </thead>\n  <tbody>\n    <tr>\n      <th>0</th>\n      <td>지민</td>\n      <td>방탄소년단</td>\n      <td>빅히트</td>\n      <td>남자</td>\n      <td>1995-10-13</td>\n      <td>173.6</td>\n      <td>A</td>\n      <td>10523260</td>\n    </tr>\n    <tr>\n      <th>1</th>\n      <td>지드래곤</td>\n      <td>빅뱅</td>\n      <td>YG</td>\n      <td>남자</td>\n      <td>1988-08-18</td>\n      <td>177.0</td>\n      <td>A</td>\n      <td>9916947</td>\n    </tr>\n    <tr>\n      <th>2</th>\n      <td>강다니엘</td>\n      <td>NaN</td>\n      <td>커넥트</td>\n      <td>남자</td>\n      <td>1996-12-10</td>\n      <td>180.0</td>\n      <td>A</td>\n      <td>8273745</td>\n    </tr>\n    <tr>\n      <th>3</th>\n      <td>뷔</td>\n      <td>방탄소년단</td>\n      <td>빅히트</td>\n      <td>남자</td>\n      <td>1995-12-30</td>\n      <td>178.0</td>\n      <td>AB</td>\n      <td>8073501</td>\n    </tr>\n    <tr>\n      <th>4</th>\n      <td>화사</td>\n      <td>마마무</td>\n      <td>RBW</td>\n      <td>여자</td>\n      <td>1995-07-23</td>\n      <td>162.1</td>\n      <td>A</td>\n      <td>7650928</td>\n    </tr>\n  </tbody>\n</table>\n</div>",
      "text/plain": "     이름     그룹  소속사  성별        생년월일      키 혈액형   브랜드평판지수\n0    지민  방탄소년단  빅히트  남자  1995-10-13  173.6   A  10523260\n1  지드래곤     빅뱅   YG  남자  1988-08-18  177.0   A   9916947\n2  강다니엘    NaN  커넥트  남자  1996-12-10  180.0   A   8273745\n3     뷔  방탄소년단  빅히트  남자  1995-12-30  178.0  AB   8073501\n4    화사    마마무  RBW  여자  1995-07-23  162.1   A   7650928"
     },
     "execution_count": 2,
     "metadata": {},
     "output_type": "execute_result"
    }
   ],
   "source": [
    "d = pd.read_csv('../data/korean-idol.csv')\n",
    "d.head()"
   ]
  },
  {
   "cell_type": "markdown",
   "metadata": {},
   "source": [
    "## 12-1. pivot_table\n",
    "* 엑셀의 피봇테이블과 동일함\n",
    "* 열들 중에서 행 인덱스, 열 인덱스로 사용할 열을 기준으로 데이터를 그룹핑해서 보여줌\n",
    "* 예) 연도별로 남녀 출생자수 합계 구하기"
   ]
  },
  {
   "cell_type": "code",
   "execution_count": 3,
   "metadata": {},
   "outputs": [
    {
     "data": {
      "text/html": "<div>\n<style scoped>\n    .dataframe tbody tr th:only-of-type {\n        vertical-align: middle;\n    }\n\n    .dataframe tbody tr th {\n        vertical-align: top;\n    }\n\n    .dataframe thead th {\n        text-align: right;\n    }\n</style>\n<table border=\"1\" class=\"dataframe\">\n  <thead>\n    <tr style=\"text-align: right;\">\n      <th>성별</th>\n      <th>남자</th>\n      <th>여자</th>\n    </tr>\n    <tr>\n      <th>그룹</th>\n      <th></th>\n      <th></th>\n    </tr>\n  </thead>\n  <tbody>\n    <tr>\n      <th>뉴이스트</th>\n      <td>177.766667</td>\n      <td>NaN</td>\n    </tr>\n    <tr>\n      <th>마마무</th>\n      <td>NaN</td>\n      <td>162.1</td>\n    </tr>\n    <tr>\n      <th>방탄소년단</th>\n      <td>176.560000</td>\n      <td>NaN</td>\n    </tr>\n    <tr>\n      <th>빅뱅</th>\n      <td>177.000000</td>\n      <td>NaN</td>\n    </tr>\n    <tr>\n      <th>아스트로</th>\n      <td>183.000000</td>\n      <td>NaN</td>\n    </tr>\n    <tr>\n      <th>핫샷</th>\n      <td>167.100000</td>\n      <td>NaN</td>\n    </tr>\n  </tbody>\n</table>\n</div>",
      "text/plain": "성별             남자     여자\n그룹                      \n뉴이스트   177.766667    NaN\n마마무           NaN  162.1\n방탄소년단  176.560000    NaN\n빅뱅     177.000000    NaN\n아스트로   183.000000    NaN\n핫샷     167.100000    NaN"
     },
     "execution_count": 3,
     "metadata": {},
     "output_type": "execute_result"
    }
   ],
   "source": [
    "# 그룹과 성별에 따른 키 평균 구하기\n",
    "# 행 인덱스 : 그룹\n",
    "# 열 인덱스 : 성별\n",
    "# 값 : 키의 평균\n",
    "pd.pivot_table(d, index='그룹', columns='성별', values='키', aggfunc=np.mean)"
   ]
  },
  {
   "cell_type": "code",
   "execution_count": 4,
   "metadata": {},
   "outputs": [
    {
     "data": {
      "text/plain": "176.56"
     },
     "execution_count": 4,
     "metadata": {},
     "output_type": "execute_result"
    }
   ],
   "source": [
    "d.loc[d['그룹'] == '방탄소년단', '키'].mean()"
   ]
  },
  {
   "cell_type": "code",
   "execution_count": 5,
   "metadata": {},
   "outputs": [
    {
     "data": {
      "text/html": "<div>\n<style scoped>\n    .dataframe tbody tr th:only-of-type {\n        vertical-align: middle;\n    }\n\n    .dataframe tbody tr th {\n        vertical-align: top;\n    }\n\n    .dataframe thead th {\n        text-align: right;\n    }\n</style>\n<table border=\"1\" class=\"dataframe\">\n  <thead>\n    <tr style=\"text-align: right;\">\n      <th>혈액형</th>\n      <th>A</th>\n      <th>AB</th>\n      <th>B</th>\n      <th>O</th>\n    </tr>\n    <tr>\n      <th>그룹</th>\n      <th></th>\n      <th></th>\n      <th></th>\n      <th></th>\n    </tr>\n  </thead>\n  <tbody>\n    <tr>\n      <th>뉴이스트</th>\n      <td>NaN</td>\n      <td>3301654.0</td>\n      <td>NaN</td>\n      <td>4131964.5</td>\n    </tr>\n    <tr>\n      <th>마마무</th>\n      <td>7650928.0</td>\n      <td>NaN</td>\n      <td>NaN</td>\n      <td>NaN</td>\n    </tr>\n    <tr>\n      <th>방탄소년단</th>\n      <td>7865797.5</td>\n      <td>8073501.0</td>\n      <td>NaN</td>\n      <td>3747875.0</td>\n    </tr>\n    <tr>\n      <th>빅뱅</th>\n      <td>9916947.0</td>\n      <td>NaN</td>\n      <td>NaN</td>\n      <td>NaN</td>\n    </tr>\n    <tr>\n      <th>소녀시대</th>\n      <td>3918661.0</td>\n      <td>NaN</td>\n      <td>NaN</td>\n      <td>NaN</td>\n    </tr>\n    <tr>\n      <th>아스트로</th>\n      <td>NaN</td>\n      <td>NaN</td>\n      <td>3506027.0</td>\n      <td>NaN</td>\n    </tr>\n    <tr>\n      <th>아이들</th>\n      <td>NaN</td>\n      <td>NaN</td>\n      <td>4668615.0</td>\n      <td>NaN</td>\n    </tr>\n    <tr>\n      <th>핫샷</th>\n      <td>4036489.0</td>\n      <td>NaN</td>\n      <td>NaN</td>\n      <td>NaN</td>\n    </tr>\n  </tbody>\n</table>\n</div>",
      "text/plain": "혈액형            A         AB          B          O\n그룹                                               \n뉴이스트         NaN  3301654.0        NaN  4131964.5\n마마무    7650928.0        NaN        NaN        NaN\n방탄소년단  7865797.5  8073501.0        NaN  3747875.0\n빅뱅     9916947.0        NaN        NaN        NaN\n소녀시대   3918661.0        NaN        NaN        NaN\n아스트로         NaN        NaN  3506027.0        NaN\n아이들          NaN        NaN  4668615.0        NaN\n핫샷     4036489.0        NaN        NaN        NaN"
     },
     "execution_count": 5,
     "metadata": {},
     "output_type": "execute_result"
    }
   ],
   "source": [
    "# 그룹과 혈액형에 따른 브랜드평판지수의 평균 구하기\n",
    "pd.pivot_table(d, index='그룹', columns='혈액형', values='브랜드평판지수')"
   ]
  },
  {
   "cell_type": "code",
   "execution_count": 6,
   "metadata": {},
   "outputs": [
    {
     "data": {
      "text/plain": "7865797.5"
     },
     "execution_count": 6,
     "metadata": {},
     "output_type": "execute_result"
    }
   ],
   "source": [
    "d.loc[(d['그룹'] == '방탄소년단') & (d['혈액형'] == 'A'), '브랜드평판지수'].mean()"
   ]
  },
  {
   "cell_type": "code",
   "execution_count": 7,
   "metadata": {},
   "outputs": [
    {
     "data": {
      "text/html": "<div>\n<style scoped>\n    .dataframe tbody tr th:only-of-type {\n        vertical-align: middle;\n    }\n\n    .dataframe tbody tr th {\n        vertical-align: top;\n    }\n\n    .dataframe thead th {\n        text-align: right;\n    }\n</style>\n<table border=\"1\" class=\"dataframe\">\n  <thead>\n    <tr style=\"text-align: right;\">\n      <th></th>\n      <th>성별</th>\n      <th>남자</th>\n      <th>여자</th>\n    </tr>\n    <tr>\n      <th>그룹</th>\n      <th>혈액형</th>\n      <th></th>\n      <th></th>\n    </tr>\n  </thead>\n  <tbody>\n    <tr>\n      <th rowspan=\"2\" valign=\"top\">뉴이스트</th>\n      <th>AB</th>\n      <td>3301654.0</td>\n      <td>NaN</td>\n    </tr>\n    <tr>\n      <th>O</th>\n      <td>4131964.5</td>\n      <td>NaN</td>\n    </tr>\n    <tr>\n      <th>마마무</th>\n      <th>A</th>\n      <td>NaN</td>\n      <td>7650928.0</td>\n    </tr>\n    <tr>\n      <th rowspan=\"3\" valign=\"top\">방탄소년단</th>\n      <th>A</th>\n      <td>7865797.5</td>\n      <td>NaN</td>\n    </tr>\n    <tr>\n      <th>AB</th>\n      <td>8073501.0</td>\n      <td>NaN</td>\n    </tr>\n    <tr>\n      <th>O</th>\n      <td>3747875.0</td>\n      <td>NaN</td>\n    </tr>\n    <tr>\n      <th>빅뱅</th>\n      <th>A</th>\n      <td>9916947.0</td>\n      <td>NaN</td>\n    </tr>\n    <tr>\n      <th>소녀시대</th>\n      <th>A</th>\n      <td>NaN</td>\n      <td>3918661.0</td>\n    </tr>\n    <tr>\n      <th>아스트로</th>\n      <th>B</th>\n      <td>3506027.0</td>\n      <td>NaN</td>\n    </tr>\n    <tr>\n      <th>아이들</th>\n      <th>B</th>\n      <td>NaN</td>\n      <td>4668615.0</td>\n    </tr>\n    <tr>\n      <th>핫샷</th>\n      <th>A</th>\n      <td>4036489.0</td>\n      <td>NaN</td>\n    </tr>\n  </tbody>\n</table>\n</div>",
      "text/plain": "성별                남자         여자\n그룹    혈액형                      \n뉴이스트  AB   3301654.0        NaN\n      O    4131964.5        NaN\n마마무   A          NaN  7650928.0\n방탄소년단 A    7865797.5        NaN\n      AB   8073501.0        NaN\n      O    3747875.0        NaN\n빅뱅    A    9916947.0        NaN\n소녀시대  A          NaN  3918661.0\n아스트로  B    3506027.0        NaN\n아이들   B          NaN  4668615.0\n핫샷    A    4036489.0        NaN"
     },
     "execution_count": 7,
     "metadata": {},
     "output_type": "execute_result"
    }
   ],
   "source": [
    "# Multi-index 만들기\n",
    "# 그룹내 혈액형과 성별에 따른 브랜드평판지수 평균 구하기\n",
    "pd.pivot_table(d, index=['그룹', '혈액형'], columns='성별', values='브랜드평판지수')"
   ]
  },
  {
   "cell_type": "markdown",
   "metadata": {},
   "source": [
    "## 12-2. groupby\n",
    "* groupby(['그룹핑열']).aggfunc()\n",
    "* groupby(['그룹핑열'])['추출열'].aggfunc()\n",
    "* privot_table과 groupby는 보여지는 방식이 다름"
   ]
  },
  {
   "cell_type": "code",
   "execution_count": 8,
   "metadata": {},
   "outputs": [
    {
     "data": {
      "text/html": "<div>\n<style scoped>\n    .dataframe tbody tr th:only-of-type {\n        vertical-align: middle;\n    }\n\n    .dataframe tbody tr th {\n        vertical-align: top;\n    }\n\n    .dataframe thead th {\n        text-align: right;\n    }\n</style>\n<table border=\"1\" class=\"dataframe\">\n  <thead>\n    <tr style=\"text-align: right;\">\n      <th></th>\n      <th>키</th>\n      <th>브랜드평판지수</th>\n    </tr>\n    <tr>\n      <th>그룹</th>\n      <th></th>\n      <th></th>\n    </tr>\n  </thead>\n  <tbody>\n    <tr>\n      <th>뉴이스트</th>\n      <td>177.766667</td>\n      <td>3.855194e+06</td>\n    </tr>\n    <tr>\n      <th>마마무</th>\n      <td>162.100000</td>\n      <td>7.650928e+06</td>\n    </tr>\n    <tr>\n      <th>방탄소년단</th>\n      <td>176.560000</td>\n      <td>6.260169e+06</td>\n    </tr>\n    <tr>\n      <th>빅뱅</th>\n      <td>177.000000</td>\n      <td>9.916947e+06</td>\n    </tr>\n    <tr>\n      <th>소녀시대</th>\n      <td>NaN</td>\n      <td>3.918661e+06</td>\n    </tr>\n    <tr>\n      <th>아스트로</th>\n      <td>183.000000</td>\n      <td>3.506027e+06</td>\n    </tr>\n    <tr>\n      <th>아이들</th>\n      <td>NaN</td>\n      <td>4.668615e+06</td>\n    </tr>\n    <tr>\n      <th>핫샷</th>\n      <td>167.100000</td>\n      <td>4.036489e+06</td>\n    </tr>\n  </tbody>\n</table>\n</div>",
      "text/plain": "                키       브랜드평판지수\n그룹                             \n뉴이스트   177.766667  3.855194e+06\n마마무    162.100000  7.650928e+06\n방탄소년단  176.560000  6.260169e+06\n빅뱅     177.000000  9.916947e+06\n소녀시대          NaN  3.918661e+06\n아스트로   183.000000  3.506027e+06\n아이들           NaN  4.668615e+06\n핫샷     167.100000  4.036489e+06"
     },
     "execution_count": 8,
     "metadata": {},
     "output_type": "execute_result"
    }
   ],
   "source": [
    "d.groupby('그룹').mean()"
   ]
  },
  {
   "cell_type": "code",
   "execution_count": 9,
   "metadata": {},
   "outputs": [
    {
     "data": {
      "text/plain": "그룹\n뉴이스트     177.766667\n마마무      162.100000\n방탄소년단    176.560000\n빅뱅       177.000000\n소녀시대            NaN\n아스트로     183.000000\n아이들             NaN\n핫샷       167.100000\nName: 키, dtype: float64"
     },
     "execution_count": 9,
     "metadata": {},
     "output_type": "execute_result"
    }
   ],
   "source": [
    "d.groupby('그룹')['키'].mean()"
   ]
  },
  {
   "cell_type": "code",
   "execution_count": 10,
   "metadata": {},
   "outputs": [
    {
     "data": {
      "text/html": "<div>\n<style scoped>\n    .dataframe tbody tr th:only-of-type {\n        vertical-align: middle;\n    }\n\n    .dataframe tbody tr th {\n        vertical-align: top;\n    }\n\n    .dataframe thead th {\n        text-align: right;\n    }\n</style>\n<table border=\"1\" class=\"dataframe\">\n  <thead>\n    <tr style=\"text-align: right;\">\n      <th></th>\n      <th>키</th>\n    </tr>\n    <tr>\n      <th>그룹</th>\n      <th></th>\n    </tr>\n  </thead>\n  <tbody>\n    <tr>\n      <th>뉴이스트</th>\n      <td>177.766667</td>\n    </tr>\n    <tr>\n      <th>마마무</th>\n      <td>162.100000</td>\n    </tr>\n    <tr>\n      <th>방탄소년단</th>\n      <td>176.560000</td>\n    </tr>\n    <tr>\n      <th>빅뱅</th>\n      <td>177.000000</td>\n    </tr>\n    <tr>\n      <th>소녀시대</th>\n      <td>NaN</td>\n    </tr>\n    <tr>\n      <th>아스트로</th>\n      <td>183.000000</td>\n    </tr>\n    <tr>\n      <th>아이들</th>\n      <td>NaN</td>\n    </tr>\n    <tr>\n      <th>핫샷</th>\n      <td>167.100000</td>\n    </tr>\n  </tbody>\n</table>\n</div>",
      "text/plain": "                키\n그룹               \n뉴이스트   177.766667\n마마무    162.100000\n방탄소년단  176.560000\n빅뱅     177.000000\n소녀시대          NaN\n아스트로   183.000000\n아이들           NaN\n핫샷     167.100000"
     },
     "execution_count": 10,
     "metadata": {},
     "output_type": "execute_result"
    }
   ],
   "source": [
    "pd.DataFrame(d.groupby('그룹')['키'].mean())"
   ]
  },
  {
   "cell_type": "code",
   "execution_count": 12,
   "metadata": {},
   "outputs": [
    {
     "data": {
      "text/html": "<div>\n<style scoped>\n    .dataframe tbody tr th:only-of-type {\n        vertical-align: middle;\n    }\n\n    .dataframe tbody tr th {\n        vertical-align: top;\n    }\n\n    .dataframe thead th {\n        text-align: right;\n    }\n</style>\n<table border=\"1\" class=\"dataframe\">\n  <thead>\n    <tr style=\"text-align: right;\">\n      <th></th>\n      <th></th>\n      <th>키</th>\n    </tr>\n    <tr>\n      <th>그룹</th>\n      <th>성별</th>\n      <th></th>\n    </tr>\n  </thead>\n  <tbody>\n    <tr>\n      <th>뉴이스트</th>\n      <th>남자</th>\n      <td>177.766667</td>\n    </tr>\n    <tr>\n      <th>마마무</th>\n      <th>여자</th>\n      <td>162.100000</td>\n    </tr>\n    <tr>\n      <th>방탄소년단</th>\n      <th>남자</th>\n      <td>176.560000</td>\n    </tr>\n    <tr>\n      <th>빅뱅</th>\n      <th>남자</th>\n      <td>177.000000</td>\n    </tr>\n    <tr>\n      <th>소녀시대</th>\n      <th>여자</th>\n      <td>NaN</td>\n    </tr>\n    <tr>\n      <th>아스트로</th>\n      <th>남자</th>\n      <td>183.000000</td>\n    </tr>\n    <tr>\n      <th>아이들</th>\n      <th>여자</th>\n      <td>NaN</td>\n    </tr>\n    <tr>\n      <th>핫샷</th>\n      <th>남자</th>\n      <td>167.100000</td>\n    </tr>\n  </tbody>\n</table>\n</div>",
      "text/plain": "                   키\n그룹    성별            \n뉴이스트  남자  177.766667\n마마무   여자  162.100000\n방탄소년단 남자  176.560000\n빅뱅    남자  177.000000\n소녀시대  여자         NaN\n아스트로  남자  183.000000\n아이들   여자         NaN\n핫샷    남자  167.100000"
     },
     "execution_count": 12,
     "metadata": {},
     "output_type": "execute_result"
    }
   ],
   "source": [
    "# 그룹과 성별에 따른 키 평균 구하기\n",
    "pd.DataFrame(d.groupby(['그룹', '성별'])['키'].mean())"
   ]
  },
  {
   "cell_type": "code",
   "execution_count": 13,
   "metadata": {},
   "outputs": [
    {
     "data": {
      "text/html": "<div>\n<style scoped>\n    .dataframe tbody tr th:only-of-type {\n        vertical-align: middle;\n    }\n\n    .dataframe tbody tr th {\n        vertical-align: top;\n    }\n\n    .dataframe thead th {\n        text-align: right;\n    }\n</style>\n<table border=\"1\" class=\"dataframe\">\n  <thead>\n    <tr style=\"text-align: right;\">\n      <th></th>\n      <th></th>\n      <th>브랜드평판지수</th>\n    </tr>\n    <tr>\n      <th>그룹</th>\n      <th>혈액형</th>\n      <th></th>\n    </tr>\n  </thead>\n  <tbody>\n    <tr>\n      <th rowspan=\"2\" valign=\"top\">뉴이스트</th>\n      <th>AB</th>\n      <td>3301654.0</td>\n    </tr>\n    <tr>\n      <th>O</th>\n      <td>4131964.5</td>\n    </tr>\n    <tr>\n      <th>마마무</th>\n      <th>A</th>\n      <td>7650928.0</td>\n    </tr>\n    <tr>\n      <th rowspan=\"3\" valign=\"top\">방탄소년단</th>\n      <th>A</th>\n      <td>7865797.5</td>\n    </tr>\n    <tr>\n      <th>AB</th>\n      <td>8073501.0</td>\n    </tr>\n    <tr>\n      <th>O</th>\n      <td>3747875.0</td>\n    </tr>\n    <tr>\n      <th>빅뱅</th>\n      <th>A</th>\n      <td>9916947.0</td>\n    </tr>\n    <tr>\n      <th>소녀시대</th>\n      <th>A</th>\n      <td>3918661.0</td>\n    </tr>\n    <tr>\n      <th>아스트로</th>\n      <th>B</th>\n      <td>3506027.0</td>\n    </tr>\n    <tr>\n      <th>아이들</th>\n      <th>B</th>\n      <td>4668615.0</td>\n    </tr>\n    <tr>\n      <th>핫샷</th>\n      <th>A</th>\n      <td>4036489.0</td>\n    </tr>\n  </tbody>\n</table>\n</div>",
      "text/plain": "             브랜드평판지수\n그룹    혈액형           \n뉴이스트  AB   3301654.0\n      O    4131964.5\n마마무   A    7650928.0\n방탄소년단 A    7865797.5\n      AB   8073501.0\n      O    3747875.0\n빅뱅    A    9916947.0\n소녀시대  A    3918661.0\n아스트로  B    3506027.0\n아이들   B    4668615.0\n핫샷    A    4036489.0"
     },
     "execution_count": 13,
     "metadata": {},
     "output_type": "execute_result"
    }
   ],
   "source": [
    "# 그룹과 혈액형에 따른 브랜드평판지수의 평균 구하기\n",
    "pd.DataFrame(d.groupby(['그룹', '혈액형'])['브랜드평판지수'].mean())"
   ]
  },
  {
   "cell_type": "code",
   "execution_count": 14,
   "metadata": {},
   "outputs": [
    {
     "data": {
      "text/html": "<div>\n<style scoped>\n    .dataframe tbody tr th:only-of-type {\n        vertical-align: middle;\n    }\n\n    .dataframe tbody tr th {\n        vertical-align: top;\n    }\n\n    .dataframe thead th {\n        text-align: right;\n    }\n</style>\n<table border=\"1\" class=\"dataframe\">\n  <thead>\n    <tr style=\"text-align: right;\">\n      <th></th>\n      <th></th>\n      <th></th>\n      <th>브랜드평판지수</th>\n    </tr>\n    <tr>\n      <th>그룹</th>\n      <th>혈액형</th>\n      <th>성별</th>\n      <th></th>\n    </tr>\n  </thead>\n  <tbody>\n    <tr>\n      <th rowspan=\"2\" valign=\"top\">뉴이스트</th>\n      <th>AB</th>\n      <th>남자</th>\n      <td>3301654.0</td>\n    </tr>\n    <tr>\n      <th>O</th>\n      <th>남자</th>\n      <td>4131964.5</td>\n    </tr>\n    <tr>\n      <th>마마무</th>\n      <th>A</th>\n      <th>여자</th>\n      <td>7650928.0</td>\n    </tr>\n    <tr>\n      <th rowspan=\"3\" valign=\"top\">방탄소년단</th>\n      <th>A</th>\n      <th>남자</th>\n      <td>7865797.5</td>\n    </tr>\n    <tr>\n      <th>AB</th>\n      <th>남자</th>\n      <td>8073501.0</td>\n    </tr>\n    <tr>\n      <th>O</th>\n      <th>남자</th>\n      <td>3747875.0</td>\n    </tr>\n    <tr>\n      <th>빅뱅</th>\n      <th>A</th>\n      <th>남자</th>\n      <td>9916947.0</td>\n    </tr>\n    <tr>\n      <th>소녀시대</th>\n      <th>A</th>\n      <th>여자</th>\n      <td>3918661.0</td>\n    </tr>\n    <tr>\n      <th>아스트로</th>\n      <th>B</th>\n      <th>남자</th>\n      <td>3506027.0</td>\n    </tr>\n    <tr>\n      <th>아이들</th>\n      <th>B</th>\n      <th>여자</th>\n      <td>4668615.0</td>\n    </tr>\n    <tr>\n      <th>핫샷</th>\n      <th>A</th>\n      <th>남자</th>\n      <td>4036489.0</td>\n    </tr>\n  </tbody>\n</table>\n</div>",
      "text/plain": "                브랜드평판지수\n그룹    혈액형 성별           \n뉴이스트  AB  남자  3301654.0\n      O   남자  4131964.5\n마마무   A   여자  7650928.0\n방탄소년단 A   남자  7865797.5\n      AB  남자  8073501.0\n      O   남자  3747875.0\n빅뱅    A   남자  9916947.0\n소녀시대  A   여자  3918661.0\n아스트로  B   남자  3506027.0\n아이들   B   여자  4668615.0\n핫샷    A   남자  4036489.0"
     },
     "execution_count": 14,
     "metadata": {},
     "output_type": "execute_result"
    }
   ],
   "source": [
    "# 그룹내 혈액형과 성별에 따른 브랜드평판지수 평균 구하기\n",
    "pd.DataFrame(d.groupby(['그룹', '혈액형', '성별'])['브랜드평판지수'].mean())"
   ]
  }
 ],
 "metadata": {
  "kernelspec": {
   "display_name": "Python 3.7.9 64-bit",
   "name": "python379jvsc74a57bd07a3d88c904243d2c3f246166597f86d1c0a39f3d97496d1fe394945d0c6d436d"
  },
  "language_info": {
   "codemirror_mode": {
    "name": "ipython",
    "version": 3
   },
   "file_extension": ".py",
   "mimetype": "text/x-python",
   "name": "python",
   "nbconvert_exporter": "python",
   "pygments_lexer": "ipython3",
   "version": "3.7.9"
  },
  "metadata": {
   "interpreter": {
    "hash": "7a3d88c904243d2c3f246166597f86d1c0a39f3d97496d1fe394945d0c6d436d"
   }
  },
  "orig_nbformat": 3
 },
 "nbformat": 4,
 "nbformat_minor": 2
}