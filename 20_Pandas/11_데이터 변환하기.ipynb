{
 "cells": [
  {
   "cell_type": "markdown",
   "metadata": {},
   "source": [
    "# 11. 데이터 변환하기"
   ]
  },
  {
   "cell_type": "code",
   "execution_count": 28,
   "metadata": {},
   "outputs": [],
   "source": [
    "import numpy as np\n",
    "import pandas as pd"
   ]
  },
  {
   "cell_type": "code",
   "execution_count": 29,
   "metadata": {},
   "outputs": [
    {
     "data": {
      "text/html": "<div>\n<style scoped>\n    .dataframe tbody tr th:only-of-type {\n        vertical-align: middle;\n    }\n\n    .dataframe tbody tr th {\n        vertical-align: top;\n    }\n\n    .dataframe thead th {\n        text-align: right;\n    }\n</style>\n<table border=\"1\" class=\"dataframe\">\n  <thead>\n    <tr style=\"text-align: right;\">\n      <th></th>\n      <th>이름</th>\n      <th>그룹</th>\n      <th>소속사</th>\n      <th>성별</th>\n      <th>생년월일</th>\n      <th>키</th>\n      <th>혈액형</th>\n      <th>브랜드평판지수</th>\n    </tr>\n  </thead>\n  <tbody>\n    <tr>\n      <th>0</th>\n      <td>지민</td>\n      <td>방탄소년단</td>\n      <td>빅히트</td>\n      <td>남자</td>\n      <td>1995-10-13</td>\n      <td>173.6</td>\n      <td>A</td>\n      <td>10523260</td>\n    </tr>\n    <tr>\n      <th>1</th>\n      <td>지드래곤</td>\n      <td>빅뱅</td>\n      <td>YG</td>\n      <td>남자</td>\n      <td>1988-08-18</td>\n      <td>177.0</td>\n      <td>A</td>\n      <td>9916947</td>\n    </tr>\n    <tr>\n      <th>2</th>\n      <td>강다니엘</td>\n      <td>NaN</td>\n      <td>커넥트</td>\n      <td>남자</td>\n      <td>1996-12-10</td>\n      <td>180.0</td>\n      <td>A</td>\n      <td>8273745</td>\n    </tr>\n    <tr>\n      <th>3</th>\n      <td>뷔</td>\n      <td>방탄소년단</td>\n      <td>빅히트</td>\n      <td>남자</td>\n      <td>1995-12-30</td>\n      <td>178.0</td>\n      <td>AB</td>\n      <td>8073501</td>\n    </tr>\n    <tr>\n      <th>4</th>\n      <td>화사</td>\n      <td>마마무</td>\n      <td>RBW</td>\n      <td>여자</td>\n      <td>1995-07-23</td>\n      <td>162.1</td>\n      <td>A</td>\n      <td>7650928</td>\n    </tr>\n    <tr>\n      <th>5</th>\n      <td>정국</td>\n      <td>방탄소년단</td>\n      <td>빅히트</td>\n      <td>남자</td>\n      <td>1997-09-01</td>\n      <td>178.0</td>\n      <td>A</td>\n      <td>5208335</td>\n    </tr>\n    <tr>\n      <th>6</th>\n      <td>민현</td>\n      <td>뉴이스트</td>\n      <td>플레디스</td>\n      <td>남자</td>\n      <td>1995-08-09</td>\n      <td>182.3</td>\n      <td>O</td>\n      <td>4989792</td>\n    </tr>\n    <tr>\n      <th>7</th>\n      <td>소연</td>\n      <td>아이들</td>\n      <td>큐브</td>\n      <td>여자</td>\n      <td>1998-08-26</td>\n      <td>NaN</td>\n      <td>B</td>\n      <td>4668615</td>\n    </tr>\n    <tr>\n      <th>8</th>\n      <td>진</td>\n      <td>방탄소년단</td>\n      <td>빅히트</td>\n      <td>남자</td>\n      <td>1992-12-04</td>\n      <td>179.2</td>\n      <td>O</td>\n      <td>4570308</td>\n    </tr>\n    <tr>\n      <th>9</th>\n      <td>하성운</td>\n      <td>핫샷</td>\n      <td>스타크루이엔티</td>\n      <td>남자</td>\n      <td>1994-03-22</td>\n      <td>167.1</td>\n      <td>A</td>\n      <td>4036489</td>\n    </tr>\n    <tr>\n      <th>10</th>\n      <td>태연</td>\n      <td>소녀시대</td>\n      <td>SM</td>\n      <td>여자</td>\n      <td>1989-03-09</td>\n      <td>NaN</td>\n      <td>A</td>\n      <td>3918661</td>\n    </tr>\n    <tr>\n      <th>11</th>\n      <td>차은우</td>\n      <td>아스트로</td>\n      <td>판타지오</td>\n      <td>남자</td>\n      <td>1997-03-30</td>\n      <td>183.0</td>\n      <td>B</td>\n      <td>3506027</td>\n    </tr>\n    <tr>\n      <th>12</th>\n      <td>백호</td>\n      <td>뉴이스트</td>\n      <td>플레디스</td>\n      <td>남자</td>\n      <td>1995-07-21</td>\n      <td>175.0</td>\n      <td>AB</td>\n      <td>3301654</td>\n    </tr>\n    <tr>\n      <th>13</th>\n      <td>JR</td>\n      <td>뉴이스트</td>\n      <td>플레디스</td>\n      <td>남자</td>\n      <td>1995-06-08</td>\n      <td>176.0</td>\n      <td>O</td>\n      <td>3274137</td>\n    </tr>\n    <tr>\n      <th>14</th>\n      <td>슈가</td>\n      <td>방탄소년단</td>\n      <td>빅히트</td>\n      <td>남자</td>\n      <td>1993-03-09</td>\n      <td>174.0</td>\n      <td>O</td>\n      <td>2925442</td>\n    </tr>\n  </tbody>\n</table>\n</div>",
      "text/plain": "      이름     그룹      소속사  성별        생년월일      키 혈액형   브랜드평판지수\n0     지민  방탄소년단      빅히트  남자  1995-10-13  173.6   A  10523260\n1   지드래곤     빅뱅       YG  남자  1988-08-18  177.0   A   9916947\n2   강다니엘    NaN      커넥트  남자  1996-12-10  180.0   A   8273745\n3      뷔  방탄소년단      빅히트  남자  1995-12-30  178.0  AB   8073501\n4     화사    마마무      RBW  여자  1995-07-23  162.1   A   7650928\n5     정국  방탄소년단      빅히트  남자  1997-09-01  178.0   A   5208335\n6     민현   뉴이스트     플레디스  남자  1995-08-09  182.3   O   4989792\n7     소연    아이들       큐브  여자  1998-08-26    NaN   B   4668615\n8      진  방탄소년단      빅히트  남자  1992-12-04  179.2   O   4570308\n9    하성운     핫샷  스타크루이엔티  남자  1994-03-22  167.1   A   4036489\n10    태연   소녀시대       SM  여자  1989-03-09    NaN   A   3918661\n11   차은우   아스트로     판타지오  남자  1997-03-30  183.0   B   3506027\n12    백호   뉴이스트     플레디스  남자  1995-07-21  175.0  AB   3301654\n13    JR   뉴이스트     플레디스  남자  1995-06-08  176.0   O   3274137\n14    슈가  방탄소년단      빅히트  남자  1993-03-09  174.0   O   2925442"
     },
     "execution_count": 29,
     "metadata": {},
     "output_type": "execute_result"
    }
   ],
   "source": [
    "d = pd.read_csv('../data/korean-idol.csv')\n",
    "d"
   ]
  },
  {
   "cell_type": "markdown",
   "metadata": {},
   "source": [
    "## 11-1. 성별 데이터 변환하기\n",
    "* 남자 = 0, 여자 = 1"
   ]
  },
  {
   "cell_type": "code",
   "execution_count": 30,
   "metadata": {},
   "outputs": [
    {
     "data": {
      "text/html": "<div>\n<style scoped>\n    .dataframe tbody tr th:only-of-type {\n        vertical-align: middle;\n    }\n\n    .dataframe tbody tr th {\n        vertical-align: top;\n    }\n\n    .dataframe thead th {\n        text-align: right;\n    }\n</style>\n<table border=\"1\" class=\"dataframe\">\n  <thead>\n    <tr style=\"text-align: right;\">\n      <th></th>\n      <th>이름</th>\n      <th>그룹</th>\n      <th>소속사</th>\n      <th>성별</th>\n      <th>생년월일</th>\n      <th>키</th>\n      <th>혈액형</th>\n      <th>브랜드평판지수</th>\n      <th>성별2</th>\n    </tr>\n  </thead>\n  <tbody>\n    <tr>\n      <th>0</th>\n      <td>지민</td>\n      <td>방탄소년단</td>\n      <td>빅히트</td>\n      <td>남자</td>\n      <td>1995-10-13</td>\n      <td>173.6</td>\n      <td>A</td>\n      <td>10523260</td>\n      <td>0.0</td>\n    </tr>\n    <tr>\n      <th>1</th>\n      <td>지드래곤</td>\n      <td>빅뱅</td>\n      <td>YG</td>\n      <td>남자</td>\n      <td>1988-08-18</td>\n      <td>177.0</td>\n      <td>A</td>\n      <td>9916947</td>\n      <td>0.0</td>\n    </tr>\n    <tr>\n      <th>2</th>\n      <td>강다니엘</td>\n      <td>NaN</td>\n      <td>커넥트</td>\n      <td>남자</td>\n      <td>1996-12-10</td>\n      <td>180.0</td>\n      <td>A</td>\n      <td>8273745</td>\n      <td>0.0</td>\n    </tr>\n    <tr>\n      <th>3</th>\n      <td>뷔</td>\n      <td>방탄소년단</td>\n      <td>빅히트</td>\n      <td>남자</td>\n      <td>1995-12-30</td>\n      <td>178.0</td>\n      <td>AB</td>\n      <td>8073501</td>\n      <td>0.0</td>\n    </tr>\n    <tr>\n      <th>4</th>\n      <td>화사</td>\n      <td>마마무</td>\n      <td>RBW</td>\n      <td>여자</td>\n      <td>1995-07-23</td>\n      <td>162.1</td>\n      <td>A</td>\n      <td>7650928</td>\n      <td>1.0</td>\n    </tr>\n    <tr>\n      <th>5</th>\n      <td>정국</td>\n      <td>방탄소년단</td>\n      <td>빅히트</td>\n      <td>남자</td>\n      <td>1997-09-01</td>\n      <td>178.0</td>\n      <td>A</td>\n      <td>5208335</td>\n      <td>0.0</td>\n    </tr>\n    <tr>\n      <th>6</th>\n      <td>민현</td>\n      <td>뉴이스트</td>\n      <td>플레디스</td>\n      <td>남자</td>\n      <td>1995-08-09</td>\n      <td>182.3</td>\n      <td>O</td>\n      <td>4989792</td>\n      <td>0.0</td>\n    </tr>\n    <tr>\n      <th>7</th>\n      <td>소연</td>\n      <td>아이들</td>\n      <td>큐브</td>\n      <td>여자</td>\n      <td>1998-08-26</td>\n      <td>NaN</td>\n      <td>B</td>\n      <td>4668615</td>\n      <td>1.0</td>\n    </tr>\n    <tr>\n      <th>8</th>\n      <td>진</td>\n      <td>방탄소년단</td>\n      <td>빅히트</td>\n      <td>남자</td>\n      <td>1992-12-04</td>\n      <td>179.2</td>\n      <td>O</td>\n      <td>4570308</td>\n      <td>0.0</td>\n    </tr>\n    <tr>\n      <th>9</th>\n      <td>하성운</td>\n      <td>핫샷</td>\n      <td>스타크루이엔티</td>\n      <td>남자</td>\n      <td>1994-03-22</td>\n      <td>167.1</td>\n      <td>A</td>\n      <td>4036489</td>\n      <td>0.0</td>\n    </tr>\n    <tr>\n      <th>10</th>\n      <td>태연</td>\n      <td>소녀시대</td>\n      <td>SM</td>\n      <td>여자</td>\n      <td>1989-03-09</td>\n      <td>NaN</td>\n      <td>A</td>\n      <td>3918661</td>\n      <td>1.0</td>\n    </tr>\n    <tr>\n      <th>11</th>\n      <td>차은우</td>\n      <td>아스트로</td>\n      <td>판타지오</td>\n      <td>남자</td>\n      <td>1997-03-30</td>\n      <td>183.0</td>\n      <td>B</td>\n      <td>3506027</td>\n      <td>0.0</td>\n    </tr>\n    <tr>\n      <th>12</th>\n      <td>백호</td>\n      <td>뉴이스트</td>\n      <td>플레디스</td>\n      <td>남자</td>\n      <td>1995-07-21</td>\n      <td>175.0</td>\n      <td>AB</td>\n      <td>3301654</td>\n      <td>0.0</td>\n    </tr>\n    <tr>\n      <th>13</th>\n      <td>JR</td>\n      <td>뉴이스트</td>\n      <td>플레디스</td>\n      <td>남자</td>\n      <td>1995-06-08</td>\n      <td>176.0</td>\n      <td>O</td>\n      <td>3274137</td>\n      <td>0.0</td>\n    </tr>\n    <tr>\n      <th>14</th>\n      <td>슈가</td>\n      <td>방탄소년단</td>\n      <td>빅히트</td>\n      <td>남자</td>\n      <td>1993-03-09</td>\n      <td>174.0</td>\n      <td>O</td>\n      <td>2925442</td>\n      <td>0.0</td>\n    </tr>\n  </tbody>\n</table>\n</div>",
      "text/plain": "      이름     그룹      소속사  성별        생년월일      키 혈액형   브랜드평판지수  성별2\n0     지민  방탄소년단      빅히트  남자  1995-10-13  173.6   A  10523260  0.0\n1   지드래곤     빅뱅       YG  남자  1988-08-18  177.0   A   9916947  0.0\n2   강다니엘    NaN      커넥트  남자  1996-12-10  180.0   A   8273745  0.0\n3      뷔  방탄소년단      빅히트  남자  1995-12-30  178.0  AB   8073501  0.0\n4     화사    마마무      RBW  여자  1995-07-23  162.1   A   7650928  1.0\n5     정국  방탄소년단      빅히트  남자  1997-09-01  178.0   A   5208335  0.0\n6     민현   뉴이스트     플레디스  남자  1995-08-09  182.3   O   4989792  0.0\n7     소연    아이들       큐브  여자  1998-08-26    NaN   B   4668615  1.0\n8      진  방탄소년단      빅히트  남자  1992-12-04  179.2   O   4570308  0.0\n9    하성운     핫샷  스타크루이엔티  남자  1994-03-22  167.1   A   4036489  0.0\n10    태연   소녀시대       SM  여자  1989-03-09    NaN   A   3918661  1.0\n11   차은우   아스트로     판타지오  남자  1997-03-30  183.0   B   3506027  0.0\n12    백호   뉴이스트     플레디스  남자  1995-07-21  175.0  AB   3301654  0.0\n13    JR   뉴이스트     플레디스  남자  1995-06-08  176.0   O   3274137  0.0\n14    슈가  방탄소년단      빅히트  남자  1993-03-09  174.0   O   2925442  0.0"
     },
     "execution_count": 30,
     "metadata": {},
     "output_type": "execute_result"
    }
   ],
   "source": [
    "d.loc[d['성별'] == '남자', '성별2'] = 0\n",
    "d.loc[d['성별'] == '여자', '성별2'] = 1\n",
    "d"
   ]
  },
  {
   "cell_type": "code",
   "execution_count": 31,
   "metadata": {},
   "outputs": [
    {
     "data": {
      "text/html": "<div>\n<style scoped>\n    .dataframe tbody tr th:only-of-type {\n        vertical-align: middle;\n    }\n\n    .dataframe tbody tr th {\n        vertical-align: top;\n    }\n\n    .dataframe thead th {\n        text-align: right;\n    }\n</style>\n<table border=\"1\" class=\"dataframe\">\n  <thead>\n    <tr style=\"text-align: right;\">\n      <th></th>\n      <th>이름</th>\n      <th>그룹</th>\n      <th>소속사</th>\n      <th>성별</th>\n      <th>생년월일</th>\n      <th>키</th>\n      <th>혈액형</th>\n      <th>브랜드평판지수</th>\n      <th>성별2</th>\n      <th>성별3</th>\n    </tr>\n  </thead>\n  <tbody>\n    <tr>\n      <th>0</th>\n      <td>지민</td>\n      <td>방탄소년단</td>\n      <td>빅히트</td>\n      <td>남자</td>\n      <td>1995-10-13</td>\n      <td>173.6</td>\n      <td>A</td>\n      <td>10523260</td>\n      <td>0.0</td>\n      <td>0</td>\n    </tr>\n    <tr>\n      <th>1</th>\n      <td>지드래곤</td>\n      <td>빅뱅</td>\n      <td>YG</td>\n      <td>남자</td>\n      <td>1988-08-18</td>\n      <td>177.0</td>\n      <td>A</td>\n      <td>9916947</td>\n      <td>0.0</td>\n      <td>0</td>\n    </tr>\n    <tr>\n      <th>2</th>\n      <td>강다니엘</td>\n      <td>NaN</td>\n      <td>커넥트</td>\n      <td>남자</td>\n      <td>1996-12-10</td>\n      <td>180.0</td>\n      <td>A</td>\n      <td>8273745</td>\n      <td>0.0</td>\n      <td>0</td>\n    </tr>\n    <tr>\n      <th>3</th>\n      <td>뷔</td>\n      <td>방탄소년단</td>\n      <td>빅히트</td>\n      <td>남자</td>\n      <td>1995-12-30</td>\n      <td>178.0</td>\n      <td>AB</td>\n      <td>8073501</td>\n      <td>0.0</td>\n      <td>0</td>\n    </tr>\n    <tr>\n      <th>4</th>\n      <td>화사</td>\n      <td>마마무</td>\n      <td>RBW</td>\n      <td>여자</td>\n      <td>1995-07-23</td>\n      <td>162.1</td>\n      <td>A</td>\n      <td>7650928</td>\n      <td>1.0</td>\n      <td>1</td>\n    </tr>\n    <tr>\n      <th>5</th>\n      <td>정국</td>\n      <td>방탄소년단</td>\n      <td>빅히트</td>\n      <td>남자</td>\n      <td>1997-09-01</td>\n      <td>178.0</td>\n      <td>A</td>\n      <td>5208335</td>\n      <td>0.0</td>\n      <td>0</td>\n    </tr>\n    <tr>\n      <th>6</th>\n      <td>민현</td>\n      <td>뉴이스트</td>\n      <td>플레디스</td>\n      <td>남자</td>\n      <td>1995-08-09</td>\n      <td>182.3</td>\n      <td>O</td>\n      <td>4989792</td>\n      <td>0.0</td>\n      <td>0</td>\n    </tr>\n    <tr>\n      <th>7</th>\n      <td>소연</td>\n      <td>아이들</td>\n      <td>큐브</td>\n      <td>여자</td>\n      <td>1998-08-26</td>\n      <td>NaN</td>\n      <td>B</td>\n      <td>4668615</td>\n      <td>1.0</td>\n      <td>1</td>\n    </tr>\n    <tr>\n      <th>8</th>\n      <td>진</td>\n      <td>방탄소년단</td>\n      <td>빅히트</td>\n      <td>남자</td>\n      <td>1992-12-04</td>\n      <td>179.2</td>\n      <td>O</td>\n      <td>4570308</td>\n      <td>0.0</td>\n      <td>0</td>\n    </tr>\n    <tr>\n      <th>9</th>\n      <td>하성운</td>\n      <td>핫샷</td>\n      <td>스타크루이엔티</td>\n      <td>남자</td>\n      <td>1994-03-22</td>\n      <td>167.1</td>\n      <td>A</td>\n      <td>4036489</td>\n      <td>0.0</td>\n      <td>0</td>\n    </tr>\n    <tr>\n      <th>10</th>\n      <td>태연</td>\n      <td>소녀시대</td>\n      <td>SM</td>\n      <td>여자</td>\n      <td>1989-03-09</td>\n      <td>NaN</td>\n      <td>A</td>\n      <td>3918661</td>\n      <td>1.0</td>\n      <td>1</td>\n    </tr>\n    <tr>\n      <th>11</th>\n      <td>차은우</td>\n      <td>아스트로</td>\n      <td>판타지오</td>\n      <td>남자</td>\n      <td>1997-03-30</td>\n      <td>183.0</td>\n      <td>B</td>\n      <td>3506027</td>\n      <td>0.0</td>\n      <td>0</td>\n    </tr>\n    <tr>\n      <th>12</th>\n      <td>백호</td>\n      <td>뉴이스트</td>\n      <td>플레디스</td>\n      <td>남자</td>\n      <td>1995-07-21</td>\n      <td>175.0</td>\n      <td>AB</td>\n      <td>3301654</td>\n      <td>0.0</td>\n      <td>0</td>\n    </tr>\n    <tr>\n      <th>13</th>\n      <td>JR</td>\n      <td>뉴이스트</td>\n      <td>플레디스</td>\n      <td>남자</td>\n      <td>1995-06-08</td>\n      <td>176.0</td>\n      <td>O</td>\n      <td>3274137</td>\n      <td>0.0</td>\n      <td>0</td>\n    </tr>\n    <tr>\n      <th>14</th>\n      <td>슈가</td>\n      <td>방탄소년단</td>\n      <td>빅히트</td>\n      <td>남자</td>\n      <td>1993-03-09</td>\n      <td>174.0</td>\n      <td>O</td>\n      <td>2925442</td>\n      <td>0.0</td>\n      <td>0</td>\n    </tr>\n  </tbody>\n</table>\n</div>",
      "text/plain": "      이름     그룹      소속사  성별        생년월일      키 혈액형   브랜드평판지수  성별2  성별3\n0     지민  방탄소년단      빅히트  남자  1995-10-13  173.6   A  10523260  0.0    0\n1   지드래곤     빅뱅       YG  남자  1988-08-18  177.0   A   9916947  0.0    0\n2   강다니엘    NaN      커넥트  남자  1996-12-10  180.0   A   8273745  0.0    0\n3      뷔  방탄소년단      빅히트  남자  1995-12-30  178.0  AB   8073501  0.0    0\n4     화사    마마무      RBW  여자  1995-07-23  162.1   A   7650928  1.0    1\n5     정국  방탄소년단      빅히트  남자  1997-09-01  178.0   A   5208335  0.0    0\n6     민현   뉴이스트     플레디스  남자  1995-08-09  182.3   O   4989792  0.0    0\n7     소연    아이들       큐브  여자  1998-08-26    NaN   B   4668615  1.0    1\n8      진  방탄소년단      빅히트  남자  1992-12-04  179.2   O   4570308  0.0    0\n9    하성운     핫샷  스타크루이엔티  남자  1994-03-22  167.1   A   4036489  0.0    0\n10    태연   소녀시대       SM  여자  1989-03-09    NaN   A   3918661  1.0    1\n11   차은우   아스트로     판타지오  남자  1997-03-30  183.0   B   3506027  0.0    0\n12    백호   뉴이스트     플레디스  남자  1995-07-21  175.0  AB   3301654  0.0    0\n13    JR   뉴이스트     플레디스  남자  1995-06-08  176.0   O   3274137  0.0    0\n14    슈가  방탄소년단      빅히트  남자  1993-03-09  174.0   O   2925442  0.0    0"
     },
     "execution_count": 31,
     "metadata": {},
     "output_type": "execute_result"
    }
   ],
   "source": [
    "d['성별3'] = (d['성별'] != '남자').astype(int)\n",
    "d"
   ]
  },
  {
   "cell_type": "markdown",
   "metadata": {},
   "source": [
    "## 11-2. Apply 사용하기"
   ]
  },
  {
   "cell_type": "code",
   "execution_count": 34,
   "metadata": {},
   "outputs": [],
   "source": [
    "# apply에 적용할 함수를 정의하기 (리턴값이 있어야 함)\n",
    "def male_or_female(x):\n",
    "  if x == '남자':\n",
    "    return 0\n",
    "  else:\n",
    "    return 1"
   ]
  },
  {
   "cell_type": "code",
   "execution_count": 35,
   "metadata": {},
   "outputs": [
    {
     "data": {
      "text/html": "<div>\n<style scoped>\n    .dataframe tbody tr th:only-of-type {\n        vertical-align: middle;\n    }\n\n    .dataframe tbody tr th {\n        vertical-align: top;\n    }\n\n    .dataframe thead th {\n        text-align: right;\n    }\n</style>\n<table border=\"1\" class=\"dataframe\">\n  <thead>\n    <tr style=\"text-align: right;\">\n      <th></th>\n      <th>이름</th>\n      <th>그룹</th>\n      <th>소속사</th>\n      <th>성별</th>\n      <th>생년월일</th>\n      <th>키</th>\n      <th>혈액형</th>\n      <th>브랜드평판지수</th>\n      <th>성별2</th>\n      <th>성별3</th>\n      <th>성별4</th>\n    </tr>\n  </thead>\n  <tbody>\n    <tr>\n      <th>0</th>\n      <td>지민</td>\n      <td>방탄소년단</td>\n      <td>빅히트</td>\n      <td>남자</td>\n      <td>1995-10-13</td>\n      <td>173.6</td>\n      <td>A</td>\n      <td>10523260</td>\n      <td>0.0</td>\n      <td>0</td>\n      <td>0</td>\n    </tr>\n    <tr>\n      <th>1</th>\n      <td>지드래곤</td>\n      <td>빅뱅</td>\n      <td>YG</td>\n      <td>남자</td>\n      <td>1988-08-18</td>\n      <td>177.0</td>\n      <td>A</td>\n      <td>9916947</td>\n      <td>0.0</td>\n      <td>0</td>\n      <td>0</td>\n    </tr>\n    <tr>\n      <th>2</th>\n      <td>강다니엘</td>\n      <td>NaN</td>\n      <td>커넥트</td>\n      <td>남자</td>\n      <td>1996-12-10</td>\n      <td>180.0</td>\n      <td>A</td>\n      <td>8273745</td>\n      <td>0.0</td>\n      <td>0</td>\n      <td>0</td>\n    </tr>\n    <tr>\n      <th>3</th>\n      <td>뷔</td>\n      <td>방탄소년단</td>\n      <td>빅히트</td>\n      <td>남자</td>\n      <td>1995-12-30</td>\n      <td>178.0</td>\n      <td>AB</td>\n      <td>8073501</td>\n      <td>0.0</td>\n      <td>0</td>\n      <td>0</td>\n    </tr>\n    <tr>\n      <th>4</th>\n      <td>화사</td>\n      <td>마마무</td>\n      <td>RBW</td>\n      <td>여자</td>\n      <td>1995-07-23</td>\n      <td>162.1</td>\n      <td>A</td>\n      <td>7650928</td>\n      <td>1.0</td>\n      <td>1</td>\n      <td>1</td>\n    </tr>\n    <tr>\n      <th>5</th>\n      <td>정국</td>\n      <td>방탄소년단</td>\n      <td>빅히트</td>\n      <td>남자</td>\n      <td>1997-09-01</td>\n      <td>178.0</td>\n      <td>A</td>\n      <td>5208335</td>\n      <td>0.0</td>\n      <td>0</td>\n      <td>0</td>\n    </tr>\n    <tr>\n      <th>6</th>\n      <td>민현</td>\n      <td>뉴이스트</td>\n      <td>플레디스</td>\n      <td>남자</td>\n      <td>1995-08-09</td>\n      <td>182.3</td>\n      <td>O</td>\n      <td>4989792</td>\n      <td>0.0</td>\n      <td>0</td>\n      <td>0</td>\n    </tr>\n    <tr>\n      <th>7</th>\n      <td>소연</td>\n      <td>아이들</td>\n      <td>큐브</td>\n      <td>여자</td>\n      <td>1998-08-26</td>\n      <td>NaN</td>\n      <td>B</td>\n      <td>4668615</td>\n      <td>1.0</td>\n      <td>1</td>\n      <td>1</td>\n    </tr>\n    <tr>\n      <th>8</th>\n      <td>진</td>\n      <td>방탄소년단</td>\n      <td>빅히트</td>\n      <td>남자</td>\n      <td>1992-12-04</td>\n      <td>179.2</td>\n      <td>O</td>\n      <td>4570308</td>\n      <td>0.0</td>\n      <td>0</td>\n      <td>0</td>\n    </tr>\n    <tr>\n      <th>9</th>\n      <td>하성운</td>\n      <td>핫샷</td>\n      <td>스타크루이엔티</td>\n      <td>남자</td>\n      <td>1994-03-22</td>\n      <td>167.1</td>\n      <td>A</td>\n      <td>4036489</td>\n      <td>0.0</td>\n      <td>0</td>\n      <td>0</td>\n    </tr>\n    <tr>\n      <th>10</th>\n      <td>태연</td>\n      <td>소녀시대</td>\n      <td>SM</td>\n      <td>여자</td>\n      <td>1989-03-09</td>\n      <td>NaN</td>\n      <td>A</td>\n      <td>3918661</td>\n      <td>1.0</td>\n      <td>1</td>\n      <td>1</td>\n    </tr>\n    <tr>\n      <th>11</th>\n      <td>차은우</td>\n      <td>아스트로</td>\n      <td>판타지오</td>\n      <td>남자</td>\n      <td>1997-03-30</td>\n      <td>183.0</td>\n      <td>B</td>\n      <td>3506027</td>\n      <td>0.0</td>\n      <td>0</td>\n      <td>0</td>\n    </tr>\n    <tr>\n      <th>12</th>\n      <td>백호</td>\n      <td>뉴이스트</td>\n      <td>플레디스</td>\n      <td>남자</td>\n      <td>1995-07-21</td>\n      <td>175.0</td>\n      <td>AB</td>\n      <td>3301654</td>\n      <td>0.0</td>\n      <td>0</td>\n      <td>0</td>\n    </tr>\n    <tr>\n      <th>13</th>\n      <td>JR</td>\n      <td>뉴이스트</td>\n      <td>플레디스</td>\n      <td>남자</td>\n      <td>1995-06-08</td>\n      <td>176.0</td>\n      <td>O</td>\n      <td>3274137</td>\n      <td>0.0</td>\n      <td>0</td>\n      <td>0</td>\n    </tr>\n    <tr>\n      <th>14</th>\n      <td>슈가</td>\n      <td>방탄소년단</td>\n      <td>빅히트</td>\n      <td>남자</td>\n      <td>1993-03-09</td>\n      <td>174.0</td>\n      <td>O</td>\n      <td>2925442</td>\n      <td>0.0</td>\n      <td>0</td>\n      <td>0</td>\n    </tr>\n  </tbody>\n</table>\n</div>",
      "text/plain": "      이름     그룹      소속사  성별        생년월일      키 혈액형   브랜드평판지수  성별2  성별3  성별4\n0     지민  방탄소년단      빅히트  남자  1995-10-13  173.6   A  10523260  0.0    0    0\n1   지드래곤     빅뱅       YG  남자  1988-08-18  177.0   A   9916947  0.0    0    0\n2   강다니엘    NaN      커넥트  남자  1996-12-10  180.0   A   8273745  0.0    0    0\n3      뷔  방탄소년단      빅히트  남자  1995-12-30  178.0  AB   8073501  0.0    0    0\n4     화사    마마무      RBW  여자  1995-07-23  162.1   A   7650928  1.0    1    1\n5     정국  방탄소년단      빅히트  남자  1997-09-01  178.0   A   5208335  0.0    0    0\n6     민현   뉴이스트     플레디스  남자  1995-08-09  182.3   O   4989792  0.0    0    0\n7     소연    아이들       큐브  여자  1998-08-26    NaN   B   4668615  1.0    1    1\n8      진  방탄소년단      빅히트  남자  1992-12-04  179.2   O   4570308  0.0    0    0\n9    하성운     핫샷  스타크루이엔티  남자  1994-03-22  167.1   A   4036489  0.0    0    0\n10    태연   소녀시대       SM  여자  1989-03-09    NaN   A   3918661  1.0    1    1\n11   차은우   아스트로     판타지오  남자  1997-03-30  183.0   B   3506027  0.0    0    0\n12    백호   뉴이스트     플레디스  남자  1995-07-21  175.0  AB   3301654  0.0    0    0\n13    JR   뉴이스트     플레디스  남자  1995-06-08  176.0   O   3274137  0.0    0    0\n14    슈가  방탄소년단      빅히트  남자  1993-03-09  174.0   O   2925442  0.0    0    0"
     },
     "execution_count": 35,
     "metadata": {},
     "output_type": "execute_result"
    }
   ],
   "source": [
    "d['성별4'] = d['성별'].apply(male_or_female)\n",
    "d"
   ]
  },
  {
   "cell_type": "markdown",
   "metadata": {},
   "source": [
    "## 11-3. Map 사용하기"
   ]
  },
  {
   "cell_type": "code",
   "execution_count": 36,
   "metadata": {},
   "outputs": [],
   "source": [
    "my_map = {\n",
    "  '남자': 0,\n",
    "  '여자': 1,\n",
    "}"
   ]
  },
  {
   "cell_type": "code",
   "execution_count": 38,
   "metadata": {},
   "outputs": [
    {
     "data": {
      "text/plain": "0     0\n1     0\n2     0\n3     0\n4     1\n5     0\n6     0\n7     1\n8     0\n9     0\n10    1\n11    0\n12    0\n13    0\n14    0\nName: 성별, dtype: int64"
     },
     "execution_count": 38,
     "metadata": {},
     "output_type": "execute_result"
    }
   ],
   "source": [
    "d['성별'].map(my_map)"
   ]
  },
  {
   "cell_type": "markdown",
   "metadata": {},
   "source": [
    "### 문제) 브랜드평판지수 / 10000으로 나누기\n",
    "* 브랜드평판지수2에 넣기"
   ]
  },
  {
   "cell_type": "code",
   "execution_count": 45,
   "metadata": {},
   "outputs": [
    {
     "data": {
      "text/html": "<div>\n<style scoped>\n    .dataframe tbody tr th:only-of-type {\n        vertical-align: middle;\n    }\n\n    .dataframe tbody tr th {\n        vertical-align: top;\n    }\n\n    .dataframe thead th {\n        text-align: right;\n    }\n</style>\n<table border=\"1\" class=\"dataframe\">\n  <thead>\n    <tr style=\"text-align: right;\">\n      <th></th>\n      <th>이름</th>\n      <th>그룹</th>\n      <th>소속사</th>\n      <th>성별</th>\n      <th>생년월일</th>\n      <th>키</th>\n      <th>혈액형</th>\n      <th>브랜드평판지수</th>\n      <th>성별2</th>\n      <th>성별3</th>\n      <th>성별4</th>\n      <th>브랜드평판지수2</th>\n      <th>브랜드평판지수3</th>\n    </tr>\n  </thead>\n  <tbody>\n    <tr>\n      <th>0</th>\n      <td>지민</td>\n      <td>방탄소년단</td>\n      <td>빅히트</td>\n      <td>남자</td>\n      <td>1995-10-13</td>\n      <td>173.6</td>\n      <td>A</td>\n      <td>10523260</td>\n      <td>0.0</td>\n      <td>0</td>\n      <td>0</td>\n      <td>1052</td>\n      <td>1052.3260</td>\n    </tr>\n    <tr>\n      <th>1</th>\n      <td>지드래곤</td>\n      <td>빅뱅</td>\n      <td>YG</td>\n      <td>남자</td>\n      <td>1988-08-18</td>\n      <td>177.0</td>\n      <td>A</td>\n      <td>9916947</td>\n      <td>0.0</td>\n      <td>0</td>\n      <td>0</td>\n      <td>992</td>\n      <td>991.6947</td>\n    </tr>\n    <tr>\n      <th>2</th>\n      <td>강다니엘</td>\n      <td>NaN</td>\n      <td>커넥트</td>\n      <td>남자</td>\n      <td>1996-12-10</td>\n      <td>180.0</td>\n      <td>A</td>\n      <td>8273745</td>\n      <td>0.0</td>\n      <td>0</td>\n      <td>0</td>\n      <td>827</td>\n      <td>827.3745</td>\n    </tr>\n    <tr>\n      <th>3</th>\n      <td>뷔</td>\n      <td>방탄소년단</td>\n      <td>빅히트</td>\n      <td>남자</td>\n      <td>1995-12-30</td>\n      <td>178.0</td>\n      <td>AB</td>\n      <td>8073501</td>\n      <td>0.0</td>\n      <td>0</td>\n      <td>0</td>\n      <td>807</td>\n      <td>807.3501</td>\n    </tr>\n    <tr>\n      <th>4</th>\n      <td>화사</td>\n      <td>마마무</td>\n      <td>RBW</td>\n      <td>여자</td>\n      <td>1995-07-23</td>\n      <td>162.1</td>\n      <td>A</td>\n      <td>7650928</td>\n      <td>1.0</td>\n      <td>1</td>\n      <td>1</td>\n      <td>765</td>\n      <td>765.0928</td>\n    </tr>\n    <tr>\n      <th>5</th>\n      <td>정국</td>\n      <td>방탄소년단</td>\n      <td>빅히트</td>\n      <td>남자</td>\n      <td>1997-09-01</td>\n      <td>178.0</td>\n      <td>A</td>\n      <td>5208335</td>\n      <td>0.0</td>\n      <td>0</td>\n      <td>0</td>\n      <td>521</td>\n      <td>520.8335</td>\n    </tr>\n    <tr>\n      <th>6</th>\n      <td>민현</td>\n      <td>뉴이스트</td>\n      <td>플레디스</td>\n      <td>남자</td>\n      <td>1995-08-09</td>\n      <td>182.3</td>\n      <td>O</td>\n      <td>4989792</td>\n      <td>0.0</td>\n      <td>0</td>\n      <td>0</td>\n      <td>499</td>\n      <td>498.9792</td>\n    </tr>\n    <tr>\n      <th>7</th>\n      <td>소연</td>\n      <td>아이들</td>\n      <td>큐브</td>\n      <td>여자</td>\n      <td>1998-08-26</td>\n      <td>NaN</td>\n      <td>B</td>\n      <td>4668615</td>\n      <td>1.0</td>\n      <td>1</td>\n      <td>1</td>\n      <td>467</td>\n      <td>466.8615</td>\n    </tr>\n    <tr>\n      <th>8</th>\n      <td>진</td>\n      <td>방탄소년단</td>\n      <td>빅히트</td>\n      <td>남자</td>\n      <td>1992-12-04</td>\n      <td>179.2</td>\n      <td>O</td>\n      <td>4570308</td>\n      <td>0.0</td>\n      <td>0</td>\n      <td>0</td>\n      <td>457</td>\n      <td>457.0308</td>\n    </tr>\n    <tr>\n      <th>9</th>\n      <td>하성운</td>\n      <td>핫샷</td>\n      <td>스타크루이엔티</td>\n      <td>남자</td>\n      <td>1994-03-22</td>\n      <td>167.1</td>\n      <td>A</td>\n      <td>4036489</td>\n      <td>0.0</td>\n      <td>0</td>\n      <td>0</td>\n      <td>404</td>\n      <td>403.6489</td>\n    </tr>\n    <tr>\n      <th>10</th>\n      <td>태연</td>\n      <td>소녀시대</td>\n      <td>SM</td>\n      <td>여자</td>\n      <td>1989-03-09</td>\n      <td>NaN</td>\n      <td>A</td>\n      <td>3918661</td>\n      <td>1.0</td>\n      <td>1</td>\n      <td>1</td>\n      <td>392</td>\n      <td>391.8661</td>\n    </tr>\n    <tr>\n      <th>11</th>\n      <td>차은우</td>\n      <td>아스트로</td>\n      <td>판타지오</td>\n      <td>남자</td>\n      <td>1997-03-30</td>\n      <td>183.0</td>\n      <td>B</td>\n      <td>3506027</td>\n      <td>0.0</td>\n      <td>0</td>\n      <td>0</td>\n      <td>351</td>\n      <td>350.6027</td>\n    </tr>\n    <tr>\n      <th>12</th>\n      <td>백호</td>\n      <td>뉴이스트</td>\n      <td>플레디스</td>\n      <td>남자</td>\n      <td>1995-07-21</td>\n      <td>175.0</td>\n      <td>AB</td>\n      <td>3301654</td>\n      <td>0.0</td>\n      <td>0</td>\n      <td>0</td>\n      <td>330</td>\n      <td>330.1654</td>\n    </tr>\n    <tr>\n      <th>13</th>\n      <td>JR</td>\n      <td>뉴이스트</td>\n      <td>플레디스</td>\n      <td>남자</td>\n      <td>1995-06-08</td>\n      <td>176.0</td>\n      <td>O</td>\n      <td>3274137</td>\n      <td>0.0</td>\n      <td>0</td>\n      <td>0</td>\n      <td>327</td>\n      <td>327.4137</td>\n    </tr>\n    <tr>\n      <th>14</th>\n      <td>슈가</td>\n      <td>방탄소년단</td>\n      <td>빅히트</td>\n      <td>남자</td>\n      <td>1993-03-09</td>\n      <td>174.0</td>\n      <td>O</td>\n      <td>2925442</td>\n      <td>0.0</td>\n      <td>0</td>\n      <td>0</td>\n      <td>293</td>\n      <td>292.5442</td>\n    </tr>\n  </tbody>\n</table>\n</div>",
      "text/plain": "      이름     그룹      소속사  성별        생년월일      키 혈액형   브랜드평판지수  성별2  성별3  성별4  \\\n0     지민  방탄소년단      빅히트  남자  1995-10-13  173.6   A  10523260  0.0    0    0   \n1   지드래곤     빅뱅       YG  남자  1988-08-18  177.0   A   9916947  0.0    0    0   \n2   강다니엘    NaN      커넥트  남자  1996-12-10  180.0   A   8273745  0.0    0    0   \n3      뷔  방탄소년단      빅히트  남자  1995-12-30  178.0  AB   8073501  0.0    0    0   \n4     화사    마마무      RBW  여자  1995-07-23  162.1   A   7650928  1.0    1    1   \n5     정국  방탄소년단      빅히트  남자  1997-09-01  178.0   A   5208335  0.0    0    0   \n6     민현   뉴이스트     플레디스  남자  1995-08-09  182.3   O   4989792  0.0    0    0   \n7     소연    아이들       큐브  여자  1998-08-26    NaN   B   4668615  1.0    1    1   \n8      진  방탄소년단      빅히트  남자  1992-12-04  179.2   O   4570308  0.0    0    0   \n9    하성운     핫샷  스타크루이엔티  남자  1994-03-22  167.1   A   4036489  0.0    0    0   \n10    태연   소녀시대       SM  여자  1989-03-09    NaN   A   3918661  1.0    1    1   \n11   차은우   아스트로     판타지오  남자  1997-03-30  183.0   B   3506027  0.0    0    0   \n12    백호   뉴이스트     플레디스  남자  1995-07-21  175.0  AB   3301654  0.0    0    0   \n13    JR   뉴이스트     플레디스  남자  1995-06-08  176.0   O   3274137  0.0    0    0   \n14    슈가  방탄소년단      빅히트  남자  1993-03-09  174.0   O   2925442  0.0    0    0   \n\n    브랜드평판지수2   브랜드평판지수3  \n0       1052  1052.3260  \n1        992   991.6947  \n2        827   827.3745  \n3        807   807.3501  \n4        765   765.0928  \n5        521   520.8335  \n6        499   498.9792  \n7        467   466.8615  \n8        457   457.0308  \n9        404   403.6489  \n10       392   391.8661  \n11       351   350.6027  \n12       330   330.1654  \n13       327   327.4137  \n14       293   292.5442  "
     },
     "execution_count": 45,
     "metadata": {},
     "output_type": "execute_result"
    }
   ],
   "source": [
    "d['브랜드평판지수2'] = d['브랜드평판지수'].apply(lambda x: round(x / 10000))\n",
    "d"
   ]
  },
  {
   "cell_type": "code",
   "execution_count": 46,
   "metadata": {},
   "outputs": [],
   "source": [
    "def change_brand(x):\n",
    "  return round(x / 10000)"
   ]
  },
  {
   "cell_type": "code",
   "execution_count": 47,
   "metadata": {},
   "outputs": [
    {
     "data": {
      "text/html": "<div>\n<style scoped>\n    .dataframe tbody tr th:only-of-type {\n        vertical-align: middle;\n    }\n\n    .dataframe tbody tr th {\n        vertical-align: top;\n    }\n\n    .dataframe thead th {\n        text-align: right;\n    }\n</style>\n<table border=\"1\" class=\"dataframe\">\n  <thead>\n    <tr style=\"text-align: right;\">\n      <th></th>\n      <th>이름</th>\n      <th>그룹</th>\n      <th>소속사</th>\n      <th>성별</th>\n      <th>생년월일</th>\n      <th>키</th>\n      <th>혈액형</th>\n      <th>브랜드평판지수</th>\n      <th>성별2</th>\n      <th>성별3</th>\n      <th>성별4</th>\n      <th>브랜드평판지수2</th>\n      <th>브랜드평판지수3</th>\n    </tr>\n  </thead>\n  <tbody>\n    <tr>\n      <th>0</th>\n      <td>지민</td>\n      <td>방탄소년단</td>\n      <td>빅히트</td>\n      <td>남자</td>\n      <td>1995-10-13</td>\n      <td>173.6</td>\n      <td>A</td>\n      <td>10523260</td>\n      <td>0.0</td>\n      <td>0</td>\n      <td>0</td>\n      <td>1052</td>\n      <td>1052</td>\n    </tr>\n    <tr>\n      <th>1</th>\n      <td>지드래곤</td>\n      <td>빅뱅</td>\n      <td>YG</td>\n      <td>남자</td>\n      <td>1988-08-18</td>\n      <td>177.0</td>\n      <td>A</td>\n      <td>9916947</td>\n      <td>0.0</td>\n      <td>0</td>\n      <td>0</td>\n      <td>992</td>\n      <td>992</td>\n    </tr>\n    <tr>\n      <th>2</th>\n      <td>강다니엘</td>\n      <td>NaN</td>\n      <td>커넥트</td>\n      <td>남자</td>\n      <td>1996-12-10</td>\n      <td>180.0</td>\n      <td>A</td>\n      <td>8273745</td>\n      <td>0.0</td>\n      <td>0</td>\n      <td>0</td>\n      <td>827</td>\n      <td>827</td>\n    </tr>\n    <tr>\n      <th>3</th>\n      <td>뷔</td>\n      <td>방탄소년단</td>\n      <td>빅히트</td>\n      <td>남자</td>\n      <td>1995-12-30</td>\n      <td>178.0</td>\n      <td>AB</td>\n      <td>8073501</td>\n      <td>0.0</td>\n      <td>0</td>\n      <td>0</td>\n      <td>807</td>\n      <td>807</td>\n    </tr>\n    <tr>\n      <th>4</th>\n      <td>화사</td>\n      <td>마마무</td>\n      <td>RBW</td>\n      <td>여자</td>\n      <td>1995-07-23</td>\n      <td>162.1</td>\n      <td>A</td>\n      <td>7650928</td>\n      <td>1.0</td>\n      <td>1</td>\n      <td>1</td>\n      <td>765</td>\n      <td>765</td>\n    </tr>\n    <tr>\n      <th>5</th>\n      <td>정국</td>\n      <td>방탄소년단</td>\n      <td>빅히트</td>\n      <td>남자</td>\n      <td>1997-09-01</td>\n      <td>178.0</td>\n      <td>A</td>\n      <td>5208335</td>\n      <td>0.0</td>\n      <td>0</td>\n      <td>0</td>\n      <td>521</td>\n      <td>521</td>\n    </tr>\n    <tr>\n      <th>6</th>\n      <td>민현</td>\n      <td>뉴이스트</td>\n      <td>플레디스</td>\n      <td>남자</td>\n      <td>1995-08-09</td>\n      <td>182.3</td>\n      <td>O</td>\n      <td>4989792</td>\n      <td>0.0</td>\n      <td>0</td>\n      <td>0</td>\n      <td>499</td>\n      <td>499</td>\n    </tr>\n    <tr>\n      <th>7</th>\n      <td>소연</td>\n      <td>아이들</td>\n      <td>큐브</td>\n      <td>여자</td>\n      <td>1998-08-26</td>\n      <td>NaN</td>\n      <td>B</td>\n      <td>4668615</td>\n      <td>1.0</td>\n      <td>1</td>\n      <td>1</td>\n      <td>467</td>\n      <td>467</td>\n    </tr>\n    <tr>\n      <th>8</th>\n      <td>진</td>\n      <td>방탄소년단</td>\n      <td>빅히트</td>\n      <td>남자</td>\n      <td>1992-12-04</td>\n      <td>179.2</td>\n      <td>O</td>\n      <td>4570308</td>\n      <td>0.0</td>\n      <td>0</td>\n      <td>0</td>\n      <td>457</td>\n      <td>457</td>\n    </tr>\n    <tr>\n      <th>9</th>\n      <td>하성운</td>\n      <td>핫샷</td>\n      <td>스타크루이엔티</td>\n      <td>남자</td>\n      <td>1994-03-22</td>\n      <td>167.1</td>\n      <td>A</td>\n      <td>4036489</td>\n      <td>0.0</td>\n      <td>0</td>\n      <td>0</td>\n      <td>404</td>\n      <td>404</td>\n    </tr>\n    <tr>\n      <th>10</th>\n      <td>태연</td>\n      <td>소녀시대</td>\n      <td>SM</td>\n      <td>여자</td>\n      <td>1989-03-09</td>\n      <td>NaN</td>\n      <td>A</td>\n      <td>3918661</td>\n      <td>1.0</td>\n      <td>1</td>\n      <td>1</td>\n      <td>392</td>\n      <td>392</td>\n    </tr>\n    <tr>\n      <th>11</th>\n      <td>차은우</td>\n      <td>아스트로</td>\n      <td>판타지오</td>\n      <td>남자</td>\n      <td>1997-03-30</td>\n      <td>183.0</td>\n      <td>B</td>\n      <td>3506027</td>\n      <td>0.0</td>\n      <td>0</td>\n      <td>0</td>\n      <td>351</td>\n      <td>351</td>\n    </tr>\n    <tr>\n      <th>12</th>\n      <td>백호</td>\n      <td>뉴이스트</td>\n      <td>플레디스</td>\n      <td>남자</td>\n      <td>1995-07-21</td>\n      <td>175.0</td>\n      <td>AB</td>\n      <td>3301654</td>\n      <td>0.0</td>\n      <td>0</td>\n      <td>0</td>\n      <td>330</td>\n      <td>330</td>\n    </tr>\n    <tr>\n      <th>13</th>\n      <td>JR</td>\n      <td>뉴이스트</td>\n      <td>플레디스</td>\n      <td>남자</td>\n      <td>1995-06-08</td>\n      <td>176.0</td>\n      <td>O</td>\n      <td>3274137</td>\n      <td>0.0</td>\n      <td>0</td>\n      <td>0</td>\n      <td>327</td>\n      <td>327</td>\n    </tr>\n    <tr>\n      <th>14</th>\n      <td>슈가</td>\n      <td>방탄소년단</td>\n      <td>빅히트</td>\n      <td>남자</td>\n      <td>1993-03-09</td>\n      <td>174.0</td>\n      <td>O</td>\n      <td>2925442</td>\n      <td>0.0</td>\n      <td>0</td>\n      <td>0</td>\n      <td>293</td>\n      <td>293</td>\n    </tr>\n  </tbody>\n</table>\n</div>",
      "text/plain": "      이름     그룹      소속사  성별        생년월일      키 혈액형   브랜드평판지수  성별2  성별3  성별4  \\\n0     지민  방탄소년단      빅히트  남자  1995-10-13  173.6   A  10523260  0.0    0    0   \n1   지드래곤     빅뱅       YG  남자  1988-08-18  177.0   A   9916947  0.0    0    0   \n2   강다니엘    NaN      커넥트  남자  1996-12-10  180.0   A   8273745  0.0    0    0   \n3      뷔  방탄소년단      빅히트  남자  1995-12-30  178.0  AB   8073501  0.0    0    0   \n4     화사    마마무      RBW  여자  1995-07-23  162.1   A   7650928  1.0    1    1   \n5     정국  방탄소년단      빅히트  남자  1997-09-01  178.0   A   5208335  0.0    0    0   \n6     민현   뉴이스트     플레디스  남자  1995-08-09  182.3   O   4989792  0.0    0    0   \n7     소연    아이들       큐브  여자  1998-08-26    NaN   B   4668615  1.0    1    1   \n8      진  방탄소년단      빅히트  남자  1992-12-04  179.2   O   4570308  0.0    0    0   \n9    하성운     핫샷  스타크루이엔티  남자  1994-03-22  167.1   A   4036489  0.0    0    0   \n10    태연   소녀시대       SM  여자  1989-03-09    NaN   A   3918661  1.0    1    1   \n11   차은우   아스트로     판타지오  남자  1997-03-30  183.0   B   3506027  0.0    0    0   \n12    백호   뉴이스트     플레디스  남자  1995-07-21  175.0  AB   3301654  0.0    0    0   \n13    JR   뉴이스트     플레디스  남자  1995-06-08  176.0   O   3274137  0.0    0    0   \n14    슈가  방탄소년단      빅히트  남자  1993-03-09  174.0   O   2925442  0.0    0    0   \n\n    브랜드평판지수2  브랜드평판지수3  \n0       1052      1052  \n1        992       992  \n2        827       827  \n3        807       807  \n4        765       765  \n5        521       521  \n6        499       499  \n7        467       467  \n8        457       457  \n9        404       404  \n10       392       392  \n11       351       351  \n12       330       330  \n13       327       327  \n14       293       293  "
     },
     "execution_count": 47,
     "metadata": {},
     "output_type": "execute_result"
    }
   ],
   "source": [
    "d['브랜드평판지수3'] = d['브랜드평판지수'].apply(change_brand)\n",
    "d"
   ]
  },
  {
   "cell_type": "markdown",
   "metadata": {},
   "source": [
    "### 문제2) 혈액형 데이터 바꾸기\n",
    "* A형 : 0, B형 : 1, AB형 : 2, O형 : 3"
   ]
  },
  {
   "cell_type": "code",
   "execution_count": 49,
   "metadata": {},
   "outputs": [],
   "source": [
    "blood_map = {\n",
    "  'A': 0,\n",
    "  'B': 1,\n",
    "  'AB': 2,\n",
    "  'O': 3,\n",
    "}"
   ]
  },
  {
   "cell_type": "code",
   "execution_count": 51,
   "metadata": {},
   "outputs": [
    {
     "data": {
      "text/html": "<div>\n<style scoped>\n    .dataframe tbody tr th:only-of-type {\n        vertical-align: middle;\n    }\n\n    .dataframe tbody tr th {\n        vertical-align: top;\n    }\n\n    .dataframe thead th {\n        text-align: right;\n    }\n</style>\n<table border=\"1\" class=\"dataframe\">\n  <thead>\n    <tr style=\"text-align: right;\">\n      <th></th>\n      <th>이름</th>\n      <th>그룹</th>\n      <th>소속사</th>\n      <th>성별</th>\n      <th>생년월일</th>\n      <th>키</th>\n      <th>혈액형</th>\n      <th>브랜드평판지수</th>\n      <th>성별2</th>\n      <th>성별3</th>\n      <th>성별4</th>\n      <th>브랜드평판지수2</th>\n      <th>브랜드평판지수3</th>\n      <th>혈액형2</th>\n    </tr>\n  </thead>\n  <tbody>\n    <tr>\n      <th>0</th>\n      <td>지민</td>\n      <td>방탄소년단</td>\n      <td>빅히트</td>\n      <td>남자</td>\n      <td>1995-10-13</td>\n      <td>173.6</td>\n      <td>A</td>\n      <td>10523260</td>\n      <td>0.0</td>\n      <td>0</td>\n      <td>0</td>\n      <td>1052</td>\n      <td>1052</td>\n      <td>0</td>\n    </tr>\n    <tr>\n      <th>1</th>\n      <td>지드래곤</td>\n      <td>빅뱅</td>\n      <td>YG</td>\n      <td>남자</td>\n      <td>1988-08-18</td>\n      <td>177.0</td>\n      <td>A</td>\n      <td>9916947</td>\n      <td>0.0</td>\n      <td>0</td>\n      <td>0</td>\n      <td>992</td>\n      <td>992</td>\n      <td>0</td>\n    </tr>\n    <tr>\n      <th>2</th>\n      <td>강다니엘</td>\n      <td>NaN</td>\n      <td>커넥트</td>\n      <td>남자</td>\n      <td>1996-12-10</td>\n      <td>180.0</td>\n      <td>A</td>\n      <td>8273745</td>\n      <td>0.0</td>\n      <td>0</td>\n      <td>0</td>\n      <td>827</td>\n      <td>827</td>\n      <td>0</td>\n    </tr>\n    <tr>\n      <th>3</th>\n      <td>뷔</td>\n      <td>방탄소년단</td>\n      <td>빅히트</td>\n      <td>남자</td>\n      <td>1995-12-30</td>\n      <td>178.0</td>\n      <td>AB</td>\n      <td>8073501</td>\n      <td>0.0</td>\n      <td>0</td>\n      <td>0</td>\n      <td>807</td>\n      <td>807</td>\n      <td>2</td>\n    </tr>\n    <tr>\n      <th>4</th>\n      <td>화사</td>\n      <td>마마무</td>\n      <td>RBW</td>\n      <td>여자</td>\n      <td>1995-07-23</td>\n      <td>162.1</td>\n      <td>A</td>\n      <td>7650928</td>\n      <td>1.0</td>\n      <td>1</td>\n      <td>1</td>\n      <td>765</td>\n      <td>765</td>\n      <td>0</td>\n    </tr>\n    <tr>\n      <th>5</th>\n      <td>정국</td>\n      <td>방탄소년단</td>\n      <td>빅히트</td>\n      <td>남자</td>\n      <td>1997-09-01</td>\n      <td>178.0</td>\n      <td>A</td>\n      <td>5208335</td>\n      <td>0.0</td>\n      <td>0</td>\n      <td>0</td>\n      <td>521</td>\n      <td>521</td>\n      <td>0</td>\n    </tr>\n    <tr>\n      <th>6</th>\n      <td>민현</td>\n      <td>뉴이스트</td>\n      <td>플레디스</td>\n      <td>남자</td>\n      <td>1995-08-09</td>\n      <td>182.3</td>\n      <td>O</td>\n      <td>4989792</td>\n      <td>0.0</td>\n      <td>0</td>\n      <td>0</td>\n      <td>499</td>\n      <td>499</td>\n      <td>3</td>\n    </tr>\n    <tr>\n      <th>7</th>\n      <td>소연</td>\n      <td>아이들</td>\n      <td>큐브</td>\n      <td>여자</td>\n      <td>1998-08-26</td>\n      <td>NaN</td>\n      <td>B</td>\n      <td>4668615</td>\n      <td>1.0</td>\n      <td>1</td>\n      <td>1</td>\n      <td>467</td>\n      <td>467</td>\n      <td>1</td>\n    </tr>\n    <tr>\n      <th>8</th>\n      <td>진</td>\n      <td>방탄소년단</td>\n      <td>빅히트</td>\n      <td>남자</td>\n      <td>1992-12-04</td>\n      <td>179.2</td>\n      <td>O</td>\n      <td>4570308</td>\n      <td>0.0</td>\n      <td>0</td>\n      <td>0</td>\n      <td>457</td>\n      <td>457</td>\n      <td>3</td>\n    </tr>\n    <tr>\n      <th>9</th>\n      <td>하성운</td>\n      <td>핫샷</td>\n      <td>스타크루이엔티</td>\n      <td>남자</td>\n      <td>1994-03-22</td>\n      <td>167.1</td>\n      <td>A</td>\n      <td>4036489</td>\n      <td>0.0</td>\n      <td>0</td>\n      <td>0</td>\n      <td>404</td>\n      <td>404</td>\n      <td>0</td>\n    </tr>\n    <tr>\n      <th>10</th>\n      <td>태연</td>\n      <td>소녀시대</td>\n      <td>SM</td>\n      <td>여자</td>\n      <td>1989-03-09</td>\n      <td>NaN</td>\n      <td>A</td>\n      <td>3918661</td>\n      <td>1.0</td>\n      <td>1</td>\n      <td>1</td>\n      <td>392</td>\n      <td>392</td>\n      <td>0</td>\n    </tr>\n    <tr>\n      <th>11</th>\n      <td>차은우</td>\n      <td>아스트로</td>\n      <td>판타지오</td>\n      <td>남자</td>\n      <td>1997-03-30</td>\n      <td>183.0</td>\n      <td>B</td>\n      <td>3506027</td>\n      <td>0.0</td>\n      <td>0</td>\n      <td>0</td>\n      <td>351</td>\n      <td>351</td>\n      <td>1</td>\n    </tr>\n    <tr>\n      <th>12</th>\n      <td>백호</td>\n      <td>뉴이스트</td>\n      <td>플레디스</td>\n      <td>남자</td>\n      <td>1995-07-21</td>\n      <td>175.0</td>\n      <td>AB</td>\n      <td>3301654</td>\n      <td>0.0</td>\n      <td>0</td>\n      <td>0</td>\n      <td>330</td>\n      <td>330</td>\n      <td>2</td>\n    </tr>\n    <tr>\n      <th>13</th>\n      <td>JR</td>\n      <td>뉴이스트</td>\n      <td>플레디스</td>\n      <td>남자</td>\n      <td>1995-06-08</td>\n      <td>176.0</td>\n      <td>O</td>\n      <td>3274137</td>\n      <td>0.0</td>\n      <td>0</td>\n      <td>0</td>\n      <td>327</td>\n      <td>327</td>\n      <td>3</td>\n    </tr>\n    <tr>\n      <th>14</th>\n      <td>슈가</td>\n      <td>방탄소년단</td>\n      <td>빅히트</td>\n      <td>남자</td>\n      <td>1993-03-09</td>\n      <td>174.0</td>\n      <td>O</td>\n      <td>2925442</td>\n      <td>0.0</td>\n      <td>0</td>\n      <td>0</td>\n      <td>293</td>\n      <td>293</td>\n      <td>3</td>\n    </tr>\n  </tbody>\n</table>\n</div>",
      "text/plain": "      이름     그룹      소속사  성별        생년월일      키 혈액형   브랜드평판지수  성별2  성별3  성별4  \\\n0     지민  방탄소년단      빅히트  남자  1995-10-13  173.6   A  10523260  0.0    0    0   \n1   지드래곤     빅뱅       YG  남자  1988-08-18  177.0   A   9916947  0.0    0    0   \n2   강다니엘    NaN      커넥트  남자  1996-12-10  180.0   A   8273745  0.0    0    0   \n3      뷔  방탄소년단      빅히트  남자  1995-12-30  178.0  AB   8073501  0.0    0    0   \n4     화사    마마무      RBW  여자  1995-07-23  162.1   A   7650928  1.0    1    1   \n5     정국  방탄소년단      빅히트  남자  1997-09-01  178.0   A   5208335  0.0    0    0   \n6     민현   뉴이스트     플레디스  남자  1995-08-09  182.3   O   4989792  0.0    0    0   \n7     소연    아이들       큐브  여자  1998-08-26    NaN   B   4668615  1.0    1    1   \n8      진  방탄소년단      빅히트  남자  1992-12-04  179.2   O   4570308  0.0    0    0   \n9    하성운     핫샷  스타크루이엔티  남자  1994-03-22  167.1   A   4036489  0.0    0    0   \n10    태연   소녀시대       SM  여자  1989-03-09    NaN   A   3918661  1.0    1    1   \n11   차은우   아스트로     판타지오  남자  1997-03-30  183.0   B   3506027  0.0    0    0   \n12    백호   뉴이스트     플레디스  남자  1995-07-21  175.0  AB   3301654  0.0    0    0   \n13    JR   뉴이스트     플레디스  남자  1995-06-08  176.0   O   3274137  0.0    0    0   \n14    슈가  방탄소년단      빅히트  남자  1993-03-09  174.0   O   2925442  0.0    0    0   \n\n    브랜드평판지수2  브랜드평판지수3  혈액형2  \n0       1052      1052     0  \n1        992       992     0  \n2        827       827     0  \n3        807       807     2  \n4        765       765     0  \n5        521       521     0  \n6        499       499     3  \n7        467       467     1  \n8        457       457     3  \n9        404       404     0  \n10       392       392     0  \n11       351       351     1  \n12       330       330     2  \n13       327       327     3  \n14       293       293     3  "
     },
     "execution_count": 51,
     "metadata": {},
     "output_type": "execute_result"
    }
   ],
   "source": [
    "d['혈액형2'] = d['혈액형'].map(blood_map)\n",
    "d"
   ]
  },
  {
   "cell_type": "code",
   "execution_count": 52,
   "metadata": {},
   "outputs": [
    {
     "data": {
      "text/plain": "A     7\nO     4\nAB    2\nB     2\nName: 혈액형, dtype: int64"
     },
     "execution_count": 52,
     "metadata": {},
     "output_type": "execute_result"
    }
   ],
   "source": [
    "d['혈액형'].value_counts()"
   ]
  }
 ],
 "metadata": {
  "kernelspec": {
   "display_name": "Python 3.7.9 64-bit",
   "name": "python379jvsc74a57bd07a3d88c904243d2c3f246166597f86d1c0a39f3d97496d1fe394945d0c6d436d"
  },
  "language_info": {
   "codemirror_mode": {
    "name": "ipython",
    "version": 3
   },
   "file_extension": ".py",
   "mimetype": "text/x-python",
   "name": "python",
   "nbconvert_exporter": "python",
   "pygments_lexer": "ipython3",
   "version": "3.7.9"
  },
  "metadata": {
   "interpreter": {
    "hash": "7a3d88c904243d2c3f246166597f86d1c0a39f3d97496d1fe394945d0c6d436d"
   }
  },
  "orig_nbformat": 2
 },
 "nbformat": 4,
 "nbformat_minor": 2
}