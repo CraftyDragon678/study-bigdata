{
 "cells": [
  {
   "cell_type": "markdown",
   "metadata": {},
   "source": [
    "# 3. DataFrame"
   ]
  },
  {
   "cell_type": "markdown",
   "metadata": {},
   "source": [
    "## 3-1. DataFrame 생성하기\n",
    "* 2차원 행렬데이터에 행인덱스, 열인덱스가 붙은 것 (엑셀 Sheet 유사)\n",
    "* DataFrame = 2차원 배열의 값(value) + 행 인덱스(row index) + 열 인덱스(column index)\n",
    "* Numpy의 2차원 배열은 동일한 자료형을 가지지만 DataFrame은 열마다 자료형이 다를 수 있음"
   ]
  },
  {
   "cell_type": "code",
   "execution_count": 2,
   "metadata": {},
   "outputs": [],
   "source": [
    "import pandas as pd\n",
    "import numpy as np"
   ]
  },
  {
   "cell_type": "markdown",
   "metadata": {},
   "source": [
    "### 1. value값만 주기"
   ]
  },
  {
   "cell_type": "code",
   "execution_count": 3,
   "metadata": {},
   "outputs": [],
   "source": [
    "data = [['삼성', 2000, '스마트폰'],\n",
    "        ['현대', 1000, '자동차'],\n",
    "        ['네이버', 500, '포털']]\n",
    "df = pd.DataFrame(data)"
   ]
  },
  {
   "cell_type": "code",
   "execution_count": 4,
   "metadata": {},
   "outputs": [
    {
     "data": {
      "text/html": "<div>\n<style scoped>\n    .dataframe tbody tr th:only-of-type {\n        vertical-align: middle;\n    }\n\n    .dataframe tbody tr th {\n        vertical-align: top;\n    }\n\n    .dataframe thead th {\n        text-align: right;\n    }\n</style>\n<table border=\"1\" class=\"dataframe\">\n  <thead>\n    <tr style=\"text-align: right;\">\n      <th></th>\n      <th>0</th>\n      <th>1</th>\n      <th>2</th>\n    </tr>\n  </thead>\n  <tbody>\n    <tr>\n      <th>0</th>\n      <td>삼성</td>\n      <td>2000</td>\n      <td>스마트폰</td>\n    </tr>\n    <tr>\n      <th>1</th>\n      <td>현대</td>\n      <td>1000</td>\n      <td>자동차</td>\n    </tr>\n    <tr>\n      <th>2</th>\n      <td>네이버</td>\n      <td>500</td>\n      <td>포털</td>\n    </tr>\n  </tbody>\n</table>\n</div>",
      "text/plain": "     0     1     2\n0   삼성  2000  스마트폰\n1   현대  1000   자동차\n2  네이버   500    포털"
     },
     "execution_count": 4,
     "metadata": {},
     "output_type": "execute_result"
    }
   ],
   "source": [
    "df"
   ]
  },
  {
   "cell_type": "code",
   "execution_count": 5,
   "metadata": {},
   "outputs": [
    {
     "data": {
      "text/plain": "pandas.core.frame.DataFrame"
     },
     "execution_count": 5,
     "metadata": {},
     "output_type": "execute_result"
    }
   ],
   "source": [
    "type(df)"
   ]
  },
  {
   "cell_type": "code",
   "execution_count": 6,
   "metadata": {},
   "outputs": [
    {
     "data": {
      "text/plain": "(3, 3)"
     },
     "execution_count": 6,
     "metadata": {},
     "output_type": "execute_result"
    }
   ],
   "source": [
    "df.shape"
   ]
  },
  {
   "cell_type": "code",
   "execution_count": 7,
   "metadata": {},
   "outputs": [
    {
     "data": {
      "text/plain": "RangeIndex(start=0, stop=3, step=1)"
     },
     "execution_count": 7,
     "metadata": {},
     "output_type": "execute_result"
    }
   ],
   "source": [
    "# 행 index\n",
    "df.index"
   ]
  },
  {
   "cell_type": "code",
   "execution_count": 8,
   "metadata": {},
   "outputs": [
    {
     "data": {
      "text/plain": "RangeIndex(start=0, stop=3, step=1)"
     },
     "execution_count": 8,
     "metadata": {},
     "output_type": "execute_result"
    }
   ],
   "source": [
    "# 열 index\n",
    "df.columns"
   ]
  },
  {
   "cell_type": "code",
   "execution_count": 9,
   "metadata": {},
   "outputs": [
    {
     "data": {
      "text/plain": "array([['삼성', 2000, '스마트폰'],\n       ['현대', 1000, '자동차'],\n       ['네이버', 500, '포털']], dtype=object)"
     },
     "execution_count": 9,
     "metadata": {},
     "output_type": "execute_result"
    }
   ],
   "source": [
    "# values 확인\n",
    "df.values"
   ]
  },
  {
   "cell_type": "code",
   "execution_count": 10,
   "metadata": {},
   "outputs": [
    {
     "data": {
      "text/plain": "('삼성', '삼성', '삼성', 2000)"
     },
     "execution_count": 10,
     "metadata": {},
     "output_type": "execute_result"
    }
   ],
   "source": [
    "df.values[0, 0], df.values[0][0], df[0][0], df.values[0, 1]"
   ]
  },
  {
   "cell_type": "code",
   "execution_count": 11,
   "metadata": {},
   "outputs": [
    {
     "data": {
      "text/plain": "(str, int)"
     },
     "execution_count": 11,
     "metadata": {},
     "output_type": "execute_result"
    }
   ],
   "source": [
    "type(df.values[0, 0]), type(df.values[0, 1])"
   ]
  },
  {
   "cell_type": "code",
   "execution_count": 12,
   "metadata": {},
   "outputs": [
    {
     "data": {
      "text/html": "<div>\n<style scoped>\n    .dataframe tbody tr th:only-of-type {\n        vertical-align: middle;\n    }\n\n    .dataframe tbody tr th {\n        vertical-align: top;\n    }\n\n    .dataframe thead th {\n        text-align: right;\n    }\n</style>\n<table border=\"1\" class=\"dataframe\">\n  <thead>\n    <tr style=\"text-align: right;\">\n      <th></th>\n      <th>0</th>\n      <th>1</th>\n      <th>2</th>\n    </tr>\n  </thead>\n  <tbody>\n    <tr>\n      <th>0</th>\n      <td>삼성</td>\n      <td>2000</td>\n      <td>스마트폰</td>\n    </tr>\n    <tr>\n      <th>1</th>\n      <td>현대</td>\n      <td>1000</td>\n      <td>자동차</td>\n    </tr>\n  </tbody>\n</table>\n</div>",
      "text/plain": "    0     1     2\n0  삼성  2000  스마트폰\n1  현대  1000   자동차"
     },
     "execution_count": 12,
     "metadata": {},
     "output_type": "execute_result"
    }
   ],
   "source": [
    "df.head(2)"
   ]
  },
  {
   "cell_type": "code",
   "execution_count": 13,
   "metadata": {},
   "outputs": [
    {
     "data": {
      "text/html": "<div>\n<style scoped>\n    .dataframe tbody tr th:only-of-type {\n        vertical-align: middle;\n    }\n\n    .dataframe tbody tr th {\n        vertical-align: top;\n    }\n\n    .dataframe thead th {\n        text-align: right;\n    }\n</style>\n<table border=\"1\" class=\"dataframe\">\n  <thead>\n    <tr style=\"text-align: right;\">\n      <th></th>\n      <th>0</th>\n      <th>1</th>\n      <th>2</th>\n    </tr>\n  </thead>\n  <tbody>\n    <tr>\n      <th>1</th>\n      <td>현대</td>\n      <td>1000</td>\n      <td>자동차</td>\n    </tr>\n    <tr>\n      <th>2</th>\n      <td>네이버</td>\n      <td>500</td>\n      <td>포털</td>\n    </tr>\n  </tbody>\n</table>\n</div>",
      "text/plain": "     0     1    2\n1   현대  1000  자동차\n2  네이버   500   포털"
     },
     "execution_count": 13,
     "metadata": {},
     "output_type": "execute_result"
    }
   ],
   "source": [
    "df.tail(2)"
   ]
  },
  {
   "cell_type": "code",
   "execution_count": 14,
   "metadata": {},
   "outputs": [
    {
     "name": "stdout",
     "output_type": "stream",
     "text": [
      "<class 'pandas.core.frame.DataFrame'>\n",
      "RangeIndex: 3 entries, 0 to 2\n",
      "Data columns (total 3 columns):\n",
      " #   Column  Non-Null Count  Dtype \n",
      "---  ------  --------------  ----- \n",
      " 0   0       3 non-null      object\n",
      " 1   1       3 non-null      int64 \n",
      " 2   2       3 non-null      object\n",
      "dtypes: int64(1), object(2)\n",
      "memory usage: 200.0+ bytes\n"
     ]
    }
   ],
   "source": [
    "# DataFrame의 데이터 구조 파악하기\n",
    "df.info()"
   ]
  },
  {
   "cell_type": "code",
   "execution_count": 15,
   "metadata": {},
   "outputs": [
    {
     "data": {
      "text/html": "<div>\n<style scoped>\n    .dataframe tbody tr th:only-of-type {\n        vertical-align: middle;\n    }\n\n    .dataframe tbody tr th {\n        vertical-align: top;\n    }\n\n    .dataframe thead th {\n        text-align: right;\n    }\n</style>\n<table border=\"1\" class=\"dataframe\">\n  <thead>\n    <tr style=\"text-align: right;\">\n      <th></th>\n      <th>1</th>\n    </tr>\n  </thead>\n  <tbody>\n    <tr>\n      <th>count</th>\n      <td>3.000000</td>\n    </tr>\n    <tr>\n      <th>mean</th>\n      <td>1166.666667</td>\n    </tr>\n    <tr>\n      <th>std</th>\n      <td>763.762616</td>\n    </tr>\n    <tr>\n      <th>min</th>\n      <td>500.000000</td>\n    </tr>\n    <tr>\n      <th>25%</th>\n      <td>750.000000</td>\n    </tr>\n    <tr>\n      <th>50%</th>\n      <td>1000.000000</td>\n    </tr>\n    <tr>\n      <th>75%</th>\n      <td>1500.000000</td>\n    </tr>\n    <tr>\n      <th>max</th>\n      <td>2000.000000</td>\n    </tr>\n  </tbody>\n</table>\n</div>",
      "text/plain": "                 1\ncount     3.000000\nmean   1166.666667\nstd     763.762616\nmin     500.000000\n25%     750.000000\n50%    1000.000000\n75%    1500.000000\nmax    2000.000000"
     },
     "execution_count": 15,
     "metadata": {},
     "output_type": "execute_result"
    }
   ],
   "source": [
    "# 데이터 통계값 요약해서 보기\n",
    "df.describe()"
   ]
  },
  {
   "cell_type": "code",
   "execution_count": 16,
   "metadata": {},
   "outputs": [
    {
     "data": {
      "text/plain": "1    1000.0\ndtype: float64"
     },
     "execution_count": 16,
     "metadata": {},
     "output_type": "execute_result"
    }
   ],
   "source": [
    "# 4분위수 (Quartile): 통계값 중의 하나로 데이터의 분포를 작은 수부터 큰 수까지 나열하여 4등분한 지점 (데이터를 25%씩 동등 분할, Q1, Q2, Q3)\n",
    "# cf) Quantile: 주어진 데이터를 동등하게 분할하는 지점.\n",
    "#   특별하게 4개로 나누면 Quartile\n",
    "# Q1(25%, 1사분위), Q2(50%, 2사분위), Q3(75%, 3사분위), Q4(100%, 4사분위)\n",
    "# Q2(50%) == median(중앙값, 중위값)\n",
    "df.median()"
   ]
  },
  {
   "cell_type": "markdown",
   "metadata": {},
   "source": [
    "### 2. value와 index 둘다 주기"
   ]
  },
  {
   "cell_type": "code",
   "execution_count": 17,
   "metadata": {},
   "outputs": [
    {
     "data": {
      "text/html": "<div>\n<style scoped>\n    .dataframe tbody tr th:only-of-type {\n        vertical-align: middle;\n    }\n\n    .dataframe tbody tr th {\n        vertical-align: top;\n    }\n\n    .dataframe thead th {\n        text-align: right;\n    }\n</style>\n<table border=\"1\" class=\"dataframe\">\n  <thead>\n    <tr style=\"text-align: right;\">\n      <th></th>\n      <th>기업명</th>\n      <th>주가</th>\n      <th>업종</th>\n    </tr>\n  </thead>\n  <tbody>\n    <tr>\n      <th>1</th>\n      <td>삼성</td>\n      <td>2000</td>\n      <td>스마트폰</td>\n    </tr>\n    <tr>\n      <th>2</th>\n      <td>현대</td>\n      <td>1000</td>\n      <td>자동차</td>\n    </tr>\n    <tr>\n      <th>3</th>\n      <td>네이버</td>\n      <td>500</td>\n      <td>포털</td>\n    </tr>\n  </tbody>\n</table>\n</div>",
      "text/plain": "   기업명    주가    업종\n1   삼성  2000  스마트폰\n2   현대  1000   자동차\n3  네이버   500    포털"
     },
     "execution_count": 17,
     "metadata": {},
     "output_type": "execute_result"
    }
   ],
   "source": [
    "index = [1, 2, 3]\n",
    "columns = ['기업명', '주가', '업종']\n",
    "data = [['삼성', 2000, '스마트폰'],\n",
    "        ['현대', 1000, '자동차'],\n",
    "        ['네이버', 500, '포털']]\n",
    "df = pd.DataFrame(data=data, index=index, columns=columns)\n",
    "df"
   ]
  },
  {
   "cell_type": "code",
   "execution_count": 18,
   "metadata": {},
   "outputs": [
    {
     "data": {
      "text/plain": "(Int64Index([1, 2, 3], dtype='int64'),\n Index(['기업명', '주가', '업종'], dtype='object'),\n array([['삼성', 2000, '스마트폰'],\n        ['현대', 1000, '자동차'],\n        ['네이버', 500, '포털']], dtype=object))"
     },
     "execution_count": 18,
     "metadata": {},
     "output_type": "execute_result"
    }
   ],
   "source": [
    "df.index, df.columns, df.values"
   ]
  },
  {
   "cell_type": "markdown",
   "metadata": {},
   "source": [
    "### 3. 딕셔너리로 만들기 (열 기준으로 만듦)"
   ]
  },
  {
   "cell_type": "code",
   "execution_count": 19,
   "metadata": {},
   "outputs": [
    {
     "data": {
      "text/html": "<div>\n<style scoped>\n    .dataframe tbody tr th:only-of-type {\n        vertical-align: middle;\n    }\n\n    .dataframe tbody tr th {\n        vertical-align: top;\n    }\n\n    .dataframe thead th {\n        text-align: right;\n    }\n</style>\n<table border=\"1\" class=\"dataframe\">\n  <thead>\n    <tr style=\"text-align: right;\">\n      <th></th>\n      <th>기업명</th>\n      <th>주가</th>\n      <th>업종</th>\n    </tr>\n  </thead>\n  <tbody>\n    <tr>\n      <th>1</th>\n      <td>삼성</td>\n      <td>2000</td>\n      <td>스마트폰</td>\n    </tr>\n    <tr>\n      <th>2</th>\n      <td>현대</td>\n      <td>1000</td>\n      <td>자동차</td>\n    </tr>\n    <tr>\n      <th>3</th>\n      <td>네이버</td>\n      <td>500</td>\n      <td>포털</td>\n    </tr>\n  </tbody>\n</table>\n</div>",
      "text/plain": "   기업명    주가    업종\n1   삼성  2000  스마트폰\n2   현대  1000   자동차\n3  네이버   500    포털"
     },
     "execution_count": 19,
     "metadata": {},
     "output_type": "execute_result"
    }
   ],
   "source": [
    "data = {\n",
    "    '기업명': ['삼성', '현대', '네이버'],\n",
    "    '주가': [2000, 1000, 500],\n",
    "    '업종': ['스마트폰', '자동차', '포털'],\n",
    "}\n",
    "d2 = pd.DataFrame(data=data, index=index)\n",
    "d2"
   ]
  },
  {
   "cell_type": "code",
   "execution_count": 20,
   "metadata": {},
   "outputs": [
    {
     "data": {
      "text/html": "<div>\n<style scoped>\n    .dataframe tbody tr th:only-of-type {\n        vertical-align: middle;\n    }\n\n    .dataframe tbody tr th {\n        vertical-align: top;\n    }\n\n    .dataframe thead th {\n        text-align: right;\n    }\n</style>\n<table border=\"1\" class=\"dataframe\">\n  <thead>\n    <tr style=\"text-align: right;\">\n      <th></th>\n      <th>기업명</th>\n      <th>주가</th>\n      <th>업종</th>\n    </tr>\n    <tr>\n      <th>순서</th>\n      <th></th>\n      <th></th>\n      <th></th>\n    </tr>\n  </thead>\n  <tbody>\n    <tr>\n      <th>1</th>\n      <td>삼성</td>\n      <td>2000</td>\n      <td>스마트폰</td>\n    </tr>\n    <tr>\n      <th>2</th>\n      <td>현대</td>\n      <td>1000</td>\n      <td>자동차</td>\n    </tr>\n    <tr>\n      <th>3</th>\n      <td>네이버</td>\n      <td>500</td>\n      <td>포털</td>\n    </tr>\n  </tbody>\n</table>\n</div>",
      "text/plain": "    기업명    주가    업종\n순서                 \n1    삼성  2000  스마트폰\n2    현대  1000   자동차\n3   네이버   500    포털"
     },
     "execution_count": 20,
     "metadata": {},
     "output_type": "execute_result"
    }
   ],
   "source": [
    "# 행 인덱스 이름 주기\n",
    "df.index.name = '순서'\n",
    "df"
   ]
  },
  {
   "cell_type": "code",
   "execution_count": 21,
   "metadata": {},
   "outputs": [
    {
     "data": {
      "text/html": "<div>\n<style scoped>\n    .dataframe tbody tr th:only-of-type {\n        vertical-align: middle;\n    }\n\n    .dataframe tbody tr th {\n        vertical-align: top;\n    }\n\n    .dataframe thead th {\n        text-align: right;\n    }\n</style>\n<table border=\"1\" class=\"dataframe\">\n  <thead>\n    <tr style=\"text-align: right;\">\n      <th>항목</th>\n      <th>기업명</th>\n      <th>주가</th>\n      <th>업종</th>\n    </tr>\n    <tr>\n      <th>순서</th>\n      <th></th>\n      <th></th>\n      <th></th>\n    </tr>\n  </thead>\n  <tbody>\n    <tr>\n      <th>1</th>\n      <td>삼성</td>\n      <td>2000</td>\n      <td>스마트폰</td>\n    </tr>\n    <tr>\n      <th>2</th>\n      <td>현대</td>\n      <td>1000</td>\n      <td>자동차</td>\n    </tr>\n    <tr>\n      <th>3</th>\n      <td>네이버</td>\n      <td>500</td>\n      <td>포털</td>\n    </tr>\n  </tbody>\n</table>\n</div>",
      "text/plain": "항목  기업명    주가    업종\n순서                 \n1    삼성  2000  스마트폰\n2    현대  1000   자동차\n3   네이버   500    포털"
     },
     "execution_count": 21,
     "metadata": {},
     "output_type": "execute_result"
    }
   ],
   "source": [
    "# 열 인덱스 이름 주기\n",
    "df.columns.name = '항목'\n",
    "df"
   ]
  },
  {
   "cell_type": "markdown",
   "metadata": {},
   "source": [
    "## 3-2. DataFrame 인덱싱과 슬라이싱"
   ]
  },
  {
   "cell_type": "code",
   "execution_count": 22,
   "metadata": {},
   "outputs": [
    {
     "data": {
      "text/html": "<div>\n<style scoped>\n    .dataframe tbody tr th:only-of-type {\n        vertical-align: middle;\n    }\n\n    .dataframe tbody tr th {\n        vertical-align: top;\n    }\n\n    .dataframe thead th {\n        text-align: right;\n    }\n</style>\n<table border=\"1\" class=\"dataframe\">\n  <thead>\n    <tr style=\"text-align: right;\">\n      <th>항목</th>\n      <th>기업명</th>\n      <th>주가</th>\n      <th>업종</th>\n    </tr>\n    <tr>\n      <th>순서</th>\n      <th></th>\n      <th></th>\n      <th></th>\n    </tr>\n  </thead>\n  <tbody>\n    <tr>\n      <th>1</th>\n      <td>삼성</td>\n      <td>2000</td>\n      <td>스마트폰</td>\n    </tr>\n    <tr>\n      <th>2</th>\n      <td>현대</td>\n      <td>1000</td>\n      <td>자동차</td>\n    </tr>\n    <tr>\n      <th>3</th>\n      <td>네이버</td>\n      <td>500</td>\n      <td>포털</td>\n    </tr>\n  </tbody>\n</table>\n</div>",
      "text/plain": "항목  기업명    주가    업종\n순서                 \n1    삼성  2000  스마트폰\n2    현대  1000   자동차\n3   네이버   500    포털"
     },
     "execution_count": 22,
     "metadata": {},
     "output_type": "execute_result"
    }
   ],
   "source": [
    "# 열 인덱싱\n",
    "df"
   ]
  },
  {
   "cell_type": "code",
   "execution_count": 23,
   "metadata": {},
   "outputs": [
    {
     "data": {
      "text/plain": "순서\n1     삼성\n2     현대\n3    네이버\nName: 기업명, dtype: object"
     },
     "execution_count": 23,
     "metadata": {},
     "output_type": "execute_result"
    }
   ],
   "source": [
    "df['기업명']"
   ]
  },
  {
   "cell_type": "code",
   "execution_count": 24,
   "metadata": {},
   "outputs": [
    {
     "data": {
      "text/plain": "pandas.core.series.Series"
     },
     "execution_count": 24,
     "metadata": {},
     "output_type": "execute_result"
    }
   ],
   "source": [
    "type(df['기업명'])"
   ]
  },
  {
   "cell_type": "code",
   "execution_count": 25,
   "metadata": {},
   "outputs": [
    {
     "data": {
      "text/plain": "순서\n1     삼성\n2     현대\n3    네이버\nName: 기업명, dtype: object"
     },
     "execution_count": 25,
     "metadata": {},
     "output_type": "execute_result"
    }
   ],
   "source": [
    "df.기업명"
   ]
  },
  {
   "cell_type": "code",
   "execution_count": 26,
   "metadata": {},
   "outputs": [
    {
     "data": {
      "text/plain": "(항목  기업명    업종\n 순서           \n 1    삼성  스마트폰\n 2    현대   자동차\n 3   네이버    포털,\n pandas.core.frame.DataFrame)"
     },
     "execution_count": 26,
     "metadata": {},
     "output_type": "execute_result"
    }
   ],
   "source": [
    "# 여러개의 열 인덱싱 (Fancy Indexing)\n",
    "a = df[['기업명', '업종']]\n",
    "a, type(a)"
   ]
  },
  {
   "cell_type": "code",
   "execution_count": 27,
   "metadata": {},
   "outputs": [
    {
     "data": {
      "text/html": "<div>\n<style scoped>\n    .dataframe tbody tr th:only-of-type {\n        vertical-align: middle;\n    }\n\n    .dataframe tbody tr th {\n        vertical-align: top;\n    }\n\n    .dataframe thead th {\n        text-align: right;\n    }\n</style>\n<table border=\"1\" class=\"dataframe\">\n  <thead>\n    <tr style=\"text-align: right;\">\n      <th>항목</th>\n      <th>기업명</th>\n    </tr>\n    <tr>\n      <th>순서</th>\n      <th></th>\n    </tr>\n  </thead>\n  <tbody>\n    <tr>\n      <th>1</th>\n      <td>삼성</td>\n    </tr>\n    <tr>\n      <th>2</th>\n      <td>현대</td>\n    </tr>\n    <tr>\n      <th>3</th>\n      <td>네이버</td>\n    </tr>\n  </tbody>\n</table>\n</div>",
      "text/plain": "항목  기업명\n순서     \n1    삼성\n2    현대\n3   네이버"
     },
     "execution_count": 27,
     "metadata": {},
     "output_type": "execute_result"
    }
   ],
   "source": [
    "df[['기업명']]"
   ]
  },
  {
   "cell_type": "code",
   "execution_count": 28,
   "metadata": {},
   "outputs": [
    {
     "data": {
      "text/html": "<div>\n<style scoped>\n    .dataframe tbody tr th:only-of-type {\n        vertical-align: middle;\n    }\n\n    .dataframe tbody tr th {\n        vertical-align: top;\n    }\n\n    .dataframe thead th {\n        text-align: right;\n    }\n</style>\n<table border=\"1\" class=\"dataframe\">\n  <thead>\n    <tr style=\"text-align: right;\">\n      <th>항목</th>\n      <th>기업명</th>\n      <th>주가</th>\n      <th>업종</th>\n    </tr>\n    <tr>\n      <th>기업명</th>\n      <th></th>\n      <th></th>\n      <th></th>\n    </tr>\n  </thead>\n  <tbody>\n    <tr>\n      <th>삼성</th>\n      <td>삼성</td>\n      <td>2000</td>\n      <td>스마트폰</td>\n    </tr>\n    <tr>\n      <th>현대</th>\n      <td>현대</td>\n      <td>1000</td>\n      <td>자동차</td>\n    </tr>\n    <tr>\n      <th>네이버</th>\n      <td>네이버</td>\n      <td>500</td>\n      <td>포털</td>\n    </tr>\n  </tbody>\n</table>\n</div>",
      "text/plain": "항목   기업명    주가    업종\n기업명                 \n삼성    삼성  2000  스마트폰\n현대    현대  1000   자동차\n네이버  네이버   500    포털"
     },
     "execution_count": 28,
     "metadata": {},
     "output_type": "execute_result"
    }
   ],
   "source": [
    "# 기업명 -> 행 인덱스로 옮기기\n",
    "df.index = df['기업명']\n",
    "df"
   ]
  },
  {
   "cell_type": "code",
   "execution_count": 29,
   "metadata": {},
   "outputs": [
    {
     "data": {
      "text/html": "<div>\n<style scoped>\n    .dataframe tbody tr th:only-of-type {\n        vertical-align: middle;\n    }\n\n    .dataframe tbody tr th {\n        vertical-align: top;\n    }\n\n    .dataframe thead th {\n        text-align: right;\n    }\n</style>\n<table border=\"1\" class=\"dataframe\">\n  <thead>\n    <tr style=\"text-align: right;\">\n      <th>항목</th>\n      <th>주가</th>\n      <th>업종</th>\n    </tr>\n    <tr>\n      <th>기업명</th>\n      <th></th>\n      <th></th>\n    </tr>\n  </thead>\n  <tbody>\n    <tr>\n      <th>삼성</th>\n      <td>2000</td>\n      <td>스마트폰</td>\n    </tr>\n    <tr>\n      <th>현대</th>\n      <td>1000</td>\n      <td>자동차</td>\n    </tr>\n    <tr>\n      <th>네이버</th>\n      <td>500</td>\n      <td>포털</td>\n    </tr>\n  </tbody>\n</table>\n</div>",
      "text/plain": "항목     주가    업종\n기업명            \n삼성   2000  스마트폰\n현대   1000   자동차\n네이버   500    포털"
     },
     "execution_count": 29,
     "metadata": {},
     "output_type": "execute_result"
    }
   ],
   "source": [
    "# 열 삭제\n",
    "del df['기업명']\n",
    "df"
   ]
  },
  {
   "cell_type": "code",
   "execution_count": 30,
   "metadata": {},
   "outputs": [
    {
     "data": {
      "text/html": "<div>\n<style scoped>\n    .dataframe tbody tr th:only-of-type {\n        vertical-align: middle;\n    }\n\n    .dataframe tbody tr th {\n        vertical-align: top;\n    }\n\n    .dataframe thead th {\n        text-align: right;\n    }\n</style>\n<table border=\"1\" class=\"dataframe\">\n  <thead>\n    <tr style=\"text-align: right;\">\n      <th>항목</th>\n      <th>주가</th>\n      <th>업종</th>\n      <th>발행주식수</th>\n    </tr>\n    <tr>\n      <th>기업명</th>\n      <th></th>\n      <th></th>\n      <th></th>\n    </tr>\n  </thead>\n  <tbody>\n    <tr>\n      <th>삼성</th>\n      <td>2000</td>\n      <td>스마트폰</td>\n      <td>30000</td>\n    </tr>\n    <tr>\n      <th>현대</th>\n      <td>1000</td>\n      <td>자동차</td>\n      <td>20000</td>\n    </tr>\n    <tr>\n      <th>네이버</th>\n      <td>500</td>\n      <td>포털</td>\n      <td>10000</td>\n    </tr>\n  </tbody>\n</table>\n</div>",
      "text/plain": "항목     주가    업종  발행주식수\n기업명                   \n삼성   2000  스마트폰  30000\n현대   1000   자동차  20000\n네이버   500    포털  10000"
     },
     "execution_count": 30,
     "metadata": {},
     "output_type": "execute_result"
    }
   ],
   "source": [
    "# 열 추가\n",
    "df['발행주식수'] = [30000, 20000, 10000]\n",
    "df"
   ]
  },
  {
   "cell_type": "code",
   "execution_count": 31,
   "metadata": {},
   "outputs": [
    {
     "data": {
      "text/plain": "항목\n주가        2000\n업종        스마트폰\n발행주식수    30000\nName: 삼성, dtype: object"
     },
     "execution_count": 31,
     "metadata": {},
     "output_type": "execute_result"
    }
   ],
   "source": [
    "# 행 인덱싱\n",
    "# 1. loc (label location) : 인덱스 라벨을 통해서 인덱싱\n",
    "df.loc['삼성']"
   ]
  },
  {
   "cell_type": "code",
   "execution_count": 32,
   "metadata": {},
   "outputs": [],
   "source": [
    "# df.loc['LG'] error"
   ]
  },
  {
   "cell_type": "code",
   "execution_count": 33,
   "metadata": {},
   "outputs": [
    {
     "data": {
      "text/html": "<div>\n<style scoped>\n    .dataframe tbody tr th:only-of-type {\n        vertical-align: middle;\n    }\n\n    .dataframe tbody tr th {\n        vertical-align: top;\n    }\n\n    .dataframe thead th {\n        text-align: right;\n    }\n</style>\n<table border=\"1\" class=\"dataframe\">\n  <thead>\n    <tr style=\"text-align: right;\">\n      <th>항목</th>\n      <th>주가</th>\n      <th>업종</th>\n      <th>발행주식수</th>\n    </tr>\n    <tr>\n      <th>기업명</th>\n      <th></th>\n      <th></th>\n      <th></th>\n    </tr>\n  </thead>\n  <tbody>\n    <tr>\n      <th>삼성</th>\n      <td>2000</td>\n      <td>스마트폰</td>\n      <td>30000</td>\n    </tr>\n    <tr>\n      <th>네이버</th>\n      <td>500</td>\n      <td>포털</td>\n      <td>10000</td>\n    </tr>\n  </tbody>\n</table>\n</div>",
      "text/plain": "항목     주가    업종  발행주식수\n기업명                   \n삼성   2000  스마트폰  30000\n네이버   500    포털  10000"
     },
     "execution_count": 33,
     "metadata": {},
     "output_type": "execute_result"
    }
   ],
   "source": [
    "df.loc[['삼성', '네이버']]"
   ]
  },
  {
   "cell_type": "code",
   "execution_count": 34,
   "metadata": {},
   "outputs": [
    {
     "data": {
      "text/plain": "항목\n주가        2000\n업종        스마트폰\n발행주식수    30000\nName: 삼성, dtype: object"
     },
     "execution_count": 34,
     "metadata": {},
     "output_type": "execute_result"
    }
   ],
   "source": [
    "# 2. iloc (integer location) : 0인덱스를 사용해서 인덱싱\n",
    "df.iloc[0]"
   ]
  },
  {
   "cell_type": "code",
   "execution_count": 35,
   "metadata": {},
   "outputs": [
    {
     "data": {
      "text/plain": "항목\n주가         500\n업종          포털\n발행주식수    10000\nName: 네이버, dtype: object"
     },
     "execution_count": 35,
     "metadata": {},
     "output_type": "execute_result"
    }
   ],
   "source": [
    "df.iloc[-1]"
   ]
  },
  {
   "cell_type": "code",
   "execution_count": 36,
   "metadata": {},
   "outputs": [
    {
     "data": {
      "text/html": "<div>\n<style scoped>\n    .dataframe tbody tr th:only-of-type {\n        vertical-align: middle;\n    }\n\n    .dataframe tbody tr th {\n        vertical-align: top;\n    }\n\n    .dataframe thead th {\n        text-align: right;\n    }\n</style>\n<table border=\"1\" class=\"dataframe\">\n  <thead>\n    <tr style=\"text-align: right;\">\n      <th>항목</th>\n      <th>주가</th>\n      <th>업종</th>\n      <th>발행주식수</th>\n    </tr>\n    <tr>\n      <th>기업명</th>\n      <th></th>\n      <th></th>\n      <th></th>\n    </tr>\n  </thead>\n  <tbody>\n    <tr>\n      <th>삼성</th>\n      <td>2000</td>\n      <td>스마트폰</td>\n      <td>30000</td>\n    </tr>\n    <tr>\n      <th>네이버</th>\n      <td>500</td>\n      <td>포털</td>\n      <td>10000</td>\n    </tr>\n  </tbody>\n</table>\n</div>",
      "text/plain": "항목     주가    업종  발행주식수\n기업명                   \n삼성   2000  스마트폰  30000\n네이버   500    포털  10000"
     },
     "execution_count": 36,
     "metadata": {},
     "output_type": "execute_result"
    }
   ],
   "source": [
    "df.iloc[[0, -1]]"
   ]
  },
  {
   "cell_type": "code",
   "execution_count": 37,
   "metadata": {},
   "outputs": [
    {
     "data": {
      "text/html": "<div>\n<style scoped>\n    .dataframe tbody tr th:only-of-type {\n        vertical-align: middle;\n    }\n\n    .dataframe tbody tr th {\n        vertical-align: top;\n    }\n\n    .dataframe thead th {\n        text-align: right;\n    }\n</style>\n<table border=\"1\" class=\"dataframe\">\n  <thead>\n    <tr style=\"text-align: right;\">\n      <th>항목</th>\n      <th>주가</th>\n      <th>업종</th>\n      <th>발행주식수</th>\n    </tr>\n    <tr>\n      <th>기업명</th>\n      <th></th>\n      <th></th>\n      <th></th>\n    </tr>\n  </thead>\n  <tbody>\n    <tr>\n      <th>삼성</th>\n      <td>2000</td>\n      <td>스마트폰</td>\n      <td>30000</td>\n    </tr>\n    <tr>\n      <th>네이버</th>\n      <td>500</td>\n      <td>포털</td>\n      <td>10000</td>\n    </tr>\n  </tbody>\n</table>\n</div>",
      "text/plain": "항목     주가    업종  발행주식수\n기업명                   \n삼성   2000  스마트폰  30000\n네이버   500    포털  10000"
     },
     "execution_count": 37,
     "metadata": {},
     "output_type": "execute_result"
    }
   ],
   "source": [
    "df.iloc[::2]"
   ]
  },
  {
   "cell_type": "markdown",
   "metadata": {},
   "source": [
    "[가져오기 비교](https://pandas.pydata.org/pandas-docs/stable/user_guide/indexing.html#returning-a-view-versus-a-copy)"
   ]
  },
  {
   "cell_type": "code",
   "execution_count": 38,
   "metadata": {},
   "outputs": [
    {
     "data": {
      "text/plain": "'스마트폰'"
     },
     "execution_count": 38,
     "metadata": {},
     "output_type": "execute_result"
    }
   ],
   "source": [
    "# 열 데이터 -> 행 데이터\n",
    "df['업종']['삼성']"
   ]
  },
  {
   "cell_type": "code",
   "execution_count": 39,
   "metadata": {},
   "outputs": [
    {
     "data": {
      "text/plain": "'스마트폰'"
     },
     "execution_count": 39,
     "metadata": {},
     "output_type": "execute_result"
    }
   ],
   "source": [
    "# 행 데이터 -> 열 데이터\n",
    "df.loc['삼성']['업종']"
   ]
  },
  {
   "cell_type": "code",
   "execution_count": 40,
   "metadata": {},
   "outputs": [
    {
     "data": {
      "text/plain": "'스마트폰'"
     },
     "execution_count": 40,
     "metadata": {},
     "output_type": "execute_result"
    }
   ],
   "source": [
    "df.loc['삼성', '업종']"
   ]
  },
  {
   "cell_type": "code",
   "execution_count": 41,
   "metadata": {},
   "outputs": [
    {
     "data": {
      "text/plain": "'스마트폰'"
     },
     "execution_count": 41,
     "metadata": {},
     "output_type": "execute_result"
    }
   ],
   "source": [
    "df.iloc[0, 1]"
   ]
  },
  {
   "cell_type": "code",
   "execution_count": 42,
   "metadata": {},
   "outputs": [
    {
     "data": {
      "text/html": "<div>\n<style scoped>\n    .dataframe tbody tr th:only-of-type {\n        vertical-align: middle;\n    }\n\n    .dataframe tbody tr th {\n        vertical-align: top;\n    }\n\n    .dataframe thead th {\n        text-align: right;\n    }\n</style>\n<table border=\"1\" class=\"dataframe\">\n  <thead>\n    <tr style=\"text-align: right;\">\n      <th>항목</th>\n      <th>주가</th>\n      <th>업종</th>\n      <th>발행주식수</th>\n    </tr>\n    <tr>\n      <th>기업명</th>\n      <th></th>\n      <th></th>\n      <th></th>\n    </tr>\n  </thead>\n  <tbody>\n    <tr>\n      <th>삼성</th>\n      <td>2000</td>\n      <td>스마트폰</td>\n      <td>30000</td>\n    </tr>\n    <tr>\n      <th>현대</th>\n      <td>1000</td>\n      <td>자동차</td>\n      <td>20000</td>\n    </tr>\n    <tr>\n      <th>네이버</th>\n      <td>500</td>\n      <td>포털</td>\n      <td>10000</td>\n    </tr>\n  </tbody>\n</table>\n</div>",
      "text/plain": "항목     주가    업종  발행주식수\n기업명                   \n삼성   2000  스마트폰  30000\n현대   1000   자동차  20000\n네이버   500    포털  10000"
     },
     "execution_count": 42,
     "metadata": {},
     "output_type": "execute_result"
    }
   ],
   "source": [
    "# 슬라이싱 (start:end:step)\n",
    "df"
   ]
  },
  {
   "cell_type": "code",
   "execution_count": 43,
   "metadata": {},
   "outputs": [
    {
     "data": {
      "text/html": "<div>\n<style scoped>\n    .dataframe tbody tr th:only-of-type {\n        vertical-align: middle;\n    }\n\n    .dataframe tbody tr th {\n        vertical-align: top;\n    }\n\n    .dataframe thead th {\n        text-align: right;\n    }\n</style>\n<table border=\"1\" class=\"dataframe\">\n  <thead>\n    <tr style=\"text-align: right;\">\n      <th>항목</th>\n      <th>주가</th>\n      <th>업종</th>\n      <th>발행주식수</th>\n    </tr>\n    <tr>\n      <th>기업명</th>\n      <th></th>\n      <th></th>\n      <th></th>\n    </tr>\n  </thead>\n  <tbody>\n    <tr>\n      <th>삼성</th>\n      <td>2000</td>\n      <td>스마트폰</td>\n      <td>30000</td>\n    </tr>\n    <tr>\n      <th>현대</th>\n      <td>1000</td>\n      <td>자동차</td>\n      <td>20000</td>\n    </tr>\n  </tbody>\n</table>\n</div>",
      "text/plain": "항목     주가    업종  발행주식수\n기업명                   \n삼성   2000  스마트폰  30000\n현대   1000   자동차  20000"
     },
     "execution_count": 43,
     "metadata": {},
     "output_type": "execute_result"
    }
   ],
   "source": [
    "# 행 슬라이싱\n",
    "df[:2]"
   ]
  },
  {
   "cell_type": "code",
   "execution_count": 44,
   "metadata": {},
   "outputs": [
    {
     "data": {
      "text/html": "<div>\n<style scoped>\n    .dataframe tbody tr th:only-of-type {\n        vertical-align: middle;\n    }\n\n    .dataframe tbody tr th {\n        vertical-align: top;\n    }\n\n    .dataframe thead th {\n        text-align: right;\n    }\n</style>\n<table border=\"1\" class=\"dataframe\">\n  <thead>\n    <tr style=\"text-align: right;\">\n      <th>항목</th>\n      <th>주가</th>\n      <th>업종</th>\n      <th>발행주식수</th>\n    </tr>\n    <tr>\n      <th>기업명</th>\n      <th></th>\n      <th></th>\n      <th></th>\n    </tr>\n  </thead>\n  <tbody>\n    <tr>\n      <th>현대</th>\n      <td>1000</td>\n      <td>자동차</td>\n      <td>20000</td>\n    </tr>\n    <tr>\n      <th>네이버</th>\n      <td>500</td>\n      <td>포털</td>\n      <td>10000</td>\n    </tr>\n  </tbody>\n</table>\n</div>",
      "text/plain": "항목     주가   업종  발행주식수\n기업명                  \n현대   1000  자동차  20000\n네이버   500   포털  10000"
     },
     "execution_count": 44,
     "metadata": {},
     "output_type": "execute_result"
    }
   ],
   "source": [
    "df[1:]"
   ]
  },
  {
   "cell_type": "code",
   "execution_count": 45,
   "metadata": {},
   "outputs": [
    {
     "data": {
      "text/html": "<div>\n<style scoped>\n    .dataframe tbody tr th:only-of-type {\n        vertical-align: middle;\n    }\n\n    .dataframe tbody tr th {\n        vertical-align: top;\n    }\n\n    .dataframe thead th {\n        text-align: right;\n    }\n</style>\n<table border=\"1\" class=\"dataframe\">\n  <thead>\n    <tr style=\"text-align: right;\">\n      <th>항목</th>\n      <th>주가</th>\n      <th>업종</th>\n      <th>발행주식수</th>\n    </tr>\n    <tr>\n      <th>기업명</th>\n      <th></th>\n      <th></th>\n      <th></th>\n    </tr>\n  </thead>\n  <tbody>\n    <tr>\n      <th>삼성</th>\n      <td>2000</td>\n      <td>스마트폰</td>\n      <td>30000</td>\n    </tr>\n    <tr>\n      <th>현대</th>\n      <td>1000</td>\n      <td>자동차</td>\n      <td>20000</td>\n    </tr>\n  </tbody>\n</table>\n</div>",
      "text/plain": "항목     주가    업종  발행주식수\n기업명                   \n삼성   2000  스마트폰  30000\n현대   1000   자동차  20000"
     },
     "execution_count": 45,
     "metadata": {},
     "output_type": "execute_result"
    }
   ],
   "source": [
    "df[:'현대']"
   ]
  },
  {
   "cell_type": "code",
   "execution_count": 46,
   "metadata": {},
   "outputs": [
    {
     "data": {
      "text/html": "<div>\n<style scoped>\n    .dataframe tbody tr th:only-of-type {\n        vertical-align: middle;\n    }\n\n    .dataframe tbody tr th {\n        vertical-align: top;\n    }\n\n    .dataframe thead th {\n        text-align: right;\n    }\n</style>\n<table border=\"1\" class=\"dataframe\">\n  <thead>\n    <tr style=\"text-align: right;\">\n      <th>항목</th>\n      <th>주가</th>\n      <th>업종</th>\n      <th>발행주식수</th>\n    </tr>\n    <tr>\n      <th>기업명</th>\n      <th></th>\n      <th></th>\n      <th></th>\n    </tr>\n  </thead>\n  <tbody>\n    <tr>\n      <th>삼성</th>\n      <td>2000</td>\n      <td>스마트폰</td>\n      <td>30000</td>\n    </tr>\n    <tr>\n      <th>현대</th>\n      <td>1000</td>\n      <td>자동차</td>\n      <td>20000</td>\n    </tr>\n    <tr>\n      <th>네이버</th>\n      <td>500</td>\n      <td>포털</td>\n      <td>10000</td>\n    </tr>\n  </tbody>\n</table>\n</div>",
      "text/plain": "항목     주가    업종  발행주식수\n기업명                   \n삼성   2000  스마트폰  30000\n현대   1000   자동차  20000\n네이버   500    포털  10000"
     },
     "execution_count": 46,
     "metadata": {},
     "output_type": "execute_result"
    }
   ],
   "source": [
    "# 열 슬라이싱\n",
    "df"
   ]
  },
  {
   "cell_type": "code",
   "execution_count": 47,
   "metadata": {},
   "outputs": [
    {
     "data": {
      "text/plain": "Index(['주가', '업종', '발행주식수'], dtype='object', name='항목')"
     },
     "execution_count": 47,
     "metadata": {},
     "output_type": "execute_result"
    }
   ],
   "source": [
    "df.columns"
   ]
  },
  {
   "cell_type": "code",
   "execution_count": 48,
   "metadata": {},
   "outputs": [
    {
     "data": {
      "text/plain": "Index(['업종', '발행주식수'], dtype='object', name='항목')"
     },
     "execution_count": 48,
     "metadata": {},
     "output_type": "execute_result"
    }
   ],
   "source": [
    "df.columns[1:]"
   ]
  },
  {
   "cell_type": "code",
   "execution_count": 49,
   "metadata": {},
   "outputs": [
    {
     "data": {
      "text/html": "<div>\n<style scoped>\n    .dataframe tbody tr th:only-of-type {\n        vertical-align: middle;\n    }\n\n    .dataframe tbody tr th {\n        vertical-align: top;\n    }\n\n    .dataframe thead th {\n        text-align: right;\n    }\n</style>\n<table border=\"1\" class=\"dataframe\">\n  <thead>\n    <tr style=\"text-align: right;\">\n      <th>항목</th>\n      <th>업종</th>\n      <th>발행주식수</th>\n    </tr>\n    <tr>\n      <th>기업명</th>\n      <th></th>\n      <th></th>\n    </tr>\n  </thead>\n  <tbody>\n    <tr>\n      <th>삼성</th>\n      <td>스마트폰</td>\n      <td>30000</td>\n    </tr>\n    <tr>\n      <th>현대</th>\n      <td>자동차</td>\n      <td>20000</td>\n    </tr>\n    <tr>\n      <th>네이버</th>\n      <td>포털</td>\n      <td>10000</td>\n    </tr>\n  </tbody>\n</table>\n</div>",
      "text/plain": "항목     업종  발행주식수\n기업명             \n삼성   스마트폰  30000\n현대    자동차  20000\n네이버    포털  10000"
     },
     "execution_count": 49,
     "metadata": {},
     "output_type": "execute_result"
    }
   ],
   "source": [
    "df[df.columns[1:]]"
   ]
  },
  {
   "cell_type": "code",
   "execution_count": 50,
   "metadata": {},
   "outputs": [
    {
     "data": {
      "text/html": "<div>\n<style scoped>\n    .dataframe tbody tr th:only-of-type {\n        vertical-align: middle;\n    }\n\n    .dataframe tbody tr th {\n        vertical-align: top;\n    }\n\n    .dataframe thead th {\n        text-align: right;\n    }\n</style>\n<table border=\"1\" class=\"dataframe\">\n  <thead>\n    <tr style=\"text-align: right;\">\n      <th>항목</th>\n      <th>주가</th>\n      <th>업종</th>\n    </tr>\n    <tr>\n      <th>기업명</th>\n      <th></th>\n      <th></th>\n    </tr>\n  </thead>\n  <tbody>\n    <tr>\n      <th>삼성</th>\n      <td>2000</td>\n      <td>스마트폰</td>\n    </tr>\n    <tr>\n      <th>현대</th>\n      <td>1000</td>\n      <td>자동차</td>\n    </tr>\n    <tr>\n      <th>네이버</th>\n      <td>500</td>\n      <td>포털</td>\n    </tr>\n  </tbody>\n</table>\n</div>",
      "text/plain": "항목     주가    업종\n기업명            \n삼성   2000  스마트폰\n현대   1000   자동차\n네이버   500    포털"
     },
     "execution_count": 50,
     "metadata": {},
     "output_type": "execute_result"
    }
   ],
   "source": [
    "df[df.columns[:2]]"
   ]
  },
  {
   "cell_type": "code",
   "execution_count": 51,
   "metadata": {},
   "outputs": [
    {
     "data": {
      "text/html": "<div>\n<style scoped>\n    .dataframe tbody tr th:only-of-type {\n        vertical-align: middle;\n    }\n\n    .dataframe tbody tr th {\n        vertical-align: top;\n    }\n\n    .dataframe thead th {\n        text-align: right;\n    }\n</style>\n<table border=\"1\" class=\"dataframe\">\n  <thead>\n    <tr style=\"text-align: right;\">\n      <th>항목</th>\n      <th>주가</th>\n      <th>업종</th>\n      <th>발행주식수</th>\n    </tr>\n    <tr>\n      <th>기업명</th>\n      <th></th>\n      <th></th>\n      <th></th>\n    </tr>\n  </thead>\n  <tbody>\n    <tr>\n      <th>삼성</th>\n      <td>2000</td>\n      <td>스마트폰</td>\n      <td>30000</td>\n    </tr>\n    <tr>\n      <th>현대</th>\n      <td>1000</td>\n      <td>자동차</td>\n      <td>20000</td>\n    </tr>\n    <tr>\n      <th>네이버</th>\n      <td>500</td>\n      <td>포털</td>\n      <td>10000</td>\n    </tr>\n  </tbody>\n</table>\n</div>",
      "text/plain": "항목     주가    업종  발행주식수\n기업명                   \n삼성   2000  스마트폰  30000\n현대   1000   자동차  20000\n네이버   500    포털  10000"
     },
     "execution_count": 51,
     "metadata": {},
     "output_type": "execute_result"
    }
   ],
   "source": [
    "# Boolean 인덱싱\n",
    "df"
   ]
  },
  {
   "cell_type": "code",
   "execution_count": 52,
   "metadata": {},
   "outputs": [
    {
     "data": {
      "text/plain": "기업명\n삼성      True\n현대      True\n네이버    False\nName: 발행주식수, dtype: bool"
     },
     "execution_count": 52,
     "metadata": {},
     "output_type": "execute_result"
    }
   ],
   "source": [
    "df['발행주식수'] >= 15000"
   ]
  },
  {
   "cell_type": "code",
   "execution_count": 53,
   "metadata": {},
   "outputs": [
    {
     "data": {
      "text/html": "<div>\n<style scoped>\n    .dataframe tbody tr th:only-of-type {\n        vertical-align: middle;\n    }\n\n    .dataframe tbody tr th {\n        vertical-align: top;\n    }\n\n    .dataframe thead th {\n        text-align: right;\n    }\n</style>\n<table border=\"1\" class=\"dataframe\">\n  <thead>\n    <tr style=\"text-align: right;\">\n      <th>항목</th>\n      <th>주가</th>\n      <th>업종</th>\n      <th>발행주식수</th>\n    </tr>\n    <tr>\n      <th>기업명</th>\n      <th></th>\n      <th></th>\n      <th></th>\n    </tr>\n  </thead>\n  <tbody>\n    <tr>\n      <th>삼성</th>\n      <td>2000</td>\n      <td>스마트폰</td>\n      <td>30000</td>\n    </tr>\n    <tr>\n      <th>현대</th>\n      <td>1000</td>\n      <td>자동차</td>\n      <td>20000</td>\n    </tr>\n  </tbody>\n</table>\n</div>",
      "text/plain": "항목     주가    업종  발행주식수\n기업명                   \n삼성   2000  스마트폰  30000\n현대   1000   자동차  20000"
     },
     "execution_count": 53,
     "metadata": {},
     "output_type": "execute_result"
    }
   ],
   "source": [
    "df[df['발행주식수'] >= 15000]"
   ]
  },
  {
   "cell_type": "code",
   "execution_count": 54,
   "metadata": {},
   "outputs": [
    {
     "data": {
      "text/plain": "기업명\n삼성     False\n현대      True\n네이버     True\nName: 주가, dtype: bool"
     },
     "execution_count": 54,
     "metadata": {},
     "output_type": "execute_result"
    }
   ],
   "source": [
    "df['주가'] < 1500"
   ]
  },
  {
   "cell_type": "code",
   "execution_count": 55,
   "metadata": {},
   "outputs": [
    {
     "data": {
      "text/html": "<div>\n<style scoped>\n    .dataframe tbody tr th:only-of-type {\n        vertical-align: middle;\n    }\n\n    .dataframe tbody tr th {\n        vertical-align: top;\n    }\n\n    .dataframe thead th {\n        text-align: right;\n    }\n</style>\n<table border=\"1\" class=\"dataframe\">\n  <thead>\n    <tr style=\"text-align: right;\">\n      <th>항목</th>\n      <th>주가</th>\n      <th>업종</th>\n      <th>발행주식수</th>\n    </tr>\n    <tr>\n      <th>기업명</th>\n      <th></th>\n      <th></th>\n      <th></th>\n    </tr>\n  </thead>\n  <tbody>\n    <tr>\n      <th>현대</th>\n      <td>1000</td>\n      <td>자동차</td>\n      <td>20000</td>\n    </tr>\n    <tr>\n      <th>네이버</th>\n      <td>500</td>\n      <td>포털</td>\n      <td>10000</td>\n    </tr>\n  </tbody>\n</table>\n</div>",
      "text/plain": "항목     주가   업종  발행주식수\n기업명                  \n현대   1000  자동차  20000\n네이버   500   포털  10000"
     },
     "execution_count": 55,
     "metadata": {},
     "output_type": "execute_result"
    }
   ],
   "source": [
    "df[df['주가'] < 1500]"
   ]
  },
  {
   "cell_type": "code",
   "execution_count": 56,
   "metadata": {},
   "outputs": [
    {
     "data": {
      "text/html": "<div>\n<style scoped>\n    .dataframe tbody tr th:only-of-type {\n        vertical-align: middle;\n    }\n\n    .dataframe tbody tr th {\n        vertical-align: top;\n    }\n\n    .dataframe thead th {\n        text-align: right;\n    }\n</style>\n<table border=\"1\" class=\"dataframe\">\n  <thead>\n    <tr style=\"text-align: right;\">\n      <th>항목</th>\n      <th>주가</th>\n      <th>업종</th>\n      <th>발행주식수</th>\n    </tr>\n    <tr>\n      <th>기업명</th>\n      <th></th>\n      <th></th>\n      <th></th>\n    </tr>\n  </thead>\n  <tbody>\n    <tr>\n      <th>삼성</th>\n      <td>2000</td>\n      <td>스마트폰</td>\n      <td>30000</td>\n    </tr>\n    <tr>\n      <th>현대</th>\n      <td>1000</td>\n      <td>자동차</td>\n      <td>20000</td>\n    </tr>\n    <tr>\n      <th>네이버</th>\n      <td>500</td>\n      <td>포털</td>\n      <td>10000</td>\n    </tr>\n  </tbody>\n</table>\n</div>",
      "text/plain": "항목     주가    업종  발행주식수\n기업명                   \n삼성   2000  스마트폰  30000\n현대   1000   자동차  20000\n네이버   500    포털  10000"
     },
     "execution_count": 56,
     "metadata": {},
     "output_type": "execute_result"
    }
   ],
   "source": [
    "# loc 슬라이싱\n",
    "df"
   ]
  },
  {
   "cell_type": "code",
   "execution_count": 57,
   "metadata": {},
   "outputs": [
    {
     "data": {
      "text/html": "<div>\n<style scoped>\n    .dataframe tbody tr th:only-of-type {\n        vertical-align: middle;\n    }\n\n    .dataframe tbody tr th {\n        vertical-align: top;\n    }\n\n    .dataframe thead th {\n        text-align: right;\n    }\n</style>\n<table border=\"1\" class=\"dataframe\">\n  <thead>\n    <tr style=\"text-align: right;\">\n      <th>항목</th>\n      <th>주가</th>\n      <th>업종</th>\n      <th>발행주식수</th>\n    </tr>\n    <tr>\n      <th>기업명</th>\n      <th></th>\n      <th></th>\n      <th></th>\n    </tr>\n  </thead>\n  <tbody>\n    <tr>\n      <th>삼성</th>\n      <td>2000</td>\n      <td>스마트폰</td>\n      <td>30000</td>\n    </tr>\n    <tr>\n      <th>현대</th>\n      <td>1000</td>\n      <td>자동차</td>\n      <td>20000</td>\n    </tr>\n  </tbody>\n</table>\n</div>",
      "text/plain": "항목     주가    업종  발행주식수\n기업명                   \n삼성   2000  스마트폰  30000\n현대   1000   자동차  20000"
     },
     "execution_count": 57,
     "metadata": {},
     "output_type": "execute_result"
    }
   ],
   "source": [
    "df.loc['삼성':'현대']"
   ]
  },
  {
   "cell_type": "code",
   "execution_count": 58,
   "metadata": {},
   "outputs": [
    {
     "data": {
      "text/html": "<div>\n<style scoped>\n    .dataframe tbody tr th:only-of-type {\n        vertical-align: middle;\n    }\n\n    .dataframe tbody tr th {\n        vertical-align: top;\n    }\n\n    .dataframe thead th {\n        text-align: right;\n    }\n</style>\n<table border=\"1\" class=\"dataframe\">\n  <thead>\n    <tr style=\"text-align: right;\">\n      <th>항목</th>\n      <th>주가</th>\n      <th>업종</th>\n      <th>발행주식수</th>\n    </tr>\n    <tr>\n      <th>기업명</th>\n      <th></th>\n      <th></th>\n      <th></th>\n    </tr>\n  </thead>\n  <tbody>\n    <tr>\n      <th>삼성</th>\n      <td>2000</td>\n      <td>스마트폰</td>\n      <td>30000</td>\n    </tr>\n    <tr>\n      <th>현대</th>\n      <td>1000</td>\n      <td>자동차</td>\n      <td>20000</td>\n    </tr>\n  </tbody>\n</table>\n</div>",
      "text/plain": "항목     주가    업종  발행주식수\n기업명                   \n삼성   2000  스마트폰  30000\n현대   1000   자동차  20000"
     },
     "execution_count": 58,
     "metadata": {},
     "output_type": "execute_result"
    }
   ],
   "source": [
    "df.iloc[:2]"
   ]
  },
  {
   "cell_type": "code",
   "execution_count": 59,
   "metadata": {},
   "outputs": [
    {
     "data": {
      "text/html": "<div>\n<style scoped>\n    .dataframe tbody tr th:only-of-type {\n        vertical-align: middle;\n    }\n\n    .dataframe tbody tr th {\n        vertical-align: top;\n    }\n\n    .dataframe thead th {\n        text-align: right;\n    }\n</style>\n<table border=\"1\" class=\"dataframe\">\n  <thead>\n    <tr style=\"text-align: right;\">\n      <th>항목</th>\n      <th>주가</th>\n      <th>업종</th>\n      <th>발행주식수</th>\n    </tr>\n    <tr>\n      <th>기업명</th>\n      <th></th>\n      <th></th>\n      <th></th>\n    </tr>\n  </thead>\n  <tbody>\n    <tr>\n      <th>삼성</th>\n      <td>2000</td>\n      <td>스마트폰</td>\n      <td>30000</td>\n    </tr>\n    <tr>\n      <th>현대</th>\n      <td>1000</td>\n      <td>자동차</td>\n      <td>20000</td>\n    </tr>\n    <tr>\n      <th>네이버</th>\n      <td>500</td>\n      <td>포털</td>\n      <td>10000</td>\n    </tr>\n  </tbody>\n</table>\n</div>",
      "text/plain": "항목     주가    업종  발행주식수\n기업명                   \n삼성   2000  스마트폰  30000\n현대   1000   자동차  20000\n네이버   500    포털  10000"
     },
     "execution_count": 59,
     "metadata": {},
     "output_type": "execute_result"
    }
   ],
   "source": [
    "# 스마트폰, 자동차 슬라이싱으로 갖고오기\n",
    "df"
   ]
  },
  {
   "cell_type": "code",
   "execution_count": 60,
   "metadata": {},
   "outputs": [
    {
     "data": {
      "text/html": "<div>\n<style scoped>\n    .dataframe tbody tr th:only-of-type {\n        vertical-align: middle;\n    }\n\n    .dataframe tbody tr th {\n        vertical-align: top;\n    }\n\n    .dataframe thead th {\n        text-align: right;\n    }\n</style>\n<table border=\"1\" class=\"dataframe\">\n  <thead>\n    <tr style=\"text-align: right;\">\n      <th>항목</th>\n      <th>업종</th>\n      <th>발행주식수</th>\n    </tr>\n    <tr>\n      <th>기업명</th>\n      <th></th>\n      <th></th>\n    </tr>\n  </thead>\n  <tbody>\n    <tr>\n      <th>삼성</th>\n      <td>스마트폰</td>\n      <td>30000</td>\n    </tr>\n    <tr>\n      <th>현대</th>\n      <td>자동차</td>\n      <td>20000</td>\n    </tr>\n  </tbody>\n</table>\n</div>",
      "text/plain": "항목     업종  발행주식수\n기업명             \n삼성   스마트폰  30000\n현대    자동차  20000"
     },
     "execution_count": 60,
     "metadata": {},
     "output_type": "execute_result"
    }
   ],
   "source": [
    "df.loc['삼성':'현대', '업종':'발행주식수']"
   ]
  },
  {
   "cell_type": "code",
   "execution_count": 61,
   "metadata": {},
   "outputs": [
    {
     "data": {
      "text/html": "<div>\n<style scoped>\n    .dataframe tbody tr th:only-of-type {\n        vertical-align: middle;\n    }\n\n    .dataframe tbody tr th {\n        vertical-align: top;\n    }\n\n    .dataframe thead th {\n        text-align: right;\n    }\n</style>\n<table border=\"1\" class=\"dataframe\">\n  <thead>\n    <tr style=\"text-align: right;\">\n      <th>항목</th>\n      <th>업종</th>\n      <th>발행주식수</th>\n    </tr>\n    <tr>\n      <th>기업명</th>\n      <th></th>\n      <th></th>\n    </tr>\n  </thead>\n  <tbody>\n    <tr>\n      <th>삼성</th>\n      <td>스마트폰</td>\n      <td>30000</td>\n    </tr>\n    <tr>\n      <th>현대</th>\n      <td>자동차</td>\n      <td>20000</td>\n    </tr>\n  </tbody>\n</table>\n</div>",
      "text/plain": "항목     업종  발행주식수\n기업명             \n삼성   스마트폰  30000\n현대    자동차  20000"
     },
     "execution_count": 61,
     "metadata": {},
     "output_type": "execute_result"
    }
   ],
   "source": [
    "df.iloc[:2, 1:]"
   ]
  },
  {
   "cell_type": "markdown",
   "metadata": {},
   "source": [
    "## 3-3. DataFrame 데이터 CRUD"
   ]
  },
  {
   "cell_type": "markdown",
   "metadata": {},
   "source": [
    "### 1. Create"
   ]
  },
  {
   "cell_type": "code",
   "execution_count": 62,
   "metadata": {},
   "outputs": [
    {
     "data": {
      "text/html": "<div>\n<style scoped>\n    .dataframe tbody tr th:only-of-type {\n        vertical-align: middle;\n    }\n\n    .dataframe tbody tr th {\n        vertical-align: top;\n    }\n\n    .dataframe thead th {\n        text-align: right;\n    }\n</style>\n<table border=\"1\" class=\"dataframe\">\n  <thead>\n    <tr style=\"text-align: right;\">\n      <th></th>\n      <th>주가</th>\n      <th>업종</th>\n      <th>발행주식수</th>\n    </tr>\n  </thead>\n  <tbody>\n    <tr>\n      <th>0</th>\n      <td>2000</td>\n      <td>스마트폰</td>\n      <td>30000</td>\n    </tr>\n    <tr>\n      <th>1</th>\n      <td>1000</td>\n      <td>자동차</td>\n      <td>20000</td>\n    </tr>\n    <tr>\n      <th>2</th>\n      <td>500</td>\n      <td>포털</td>\n      <td>10000</td>\n    </tr>\n    <tr>\n      <th>3</th>\n      <td>1500</td>\n      <td>메모리</td>\n      <td>15000</td>\n    </tr>\n  </tbody>\n</table>\n</div>",
      "text/plain": "     주가    업종  발행주식수\n0  2000  스마트폰  30000\n1  1000   자동차  20000\n2   500    포털  10000\n3  1500   메모리  15000"
     },
     "execution_count": 62,
     "metadata": {},
     "output_type": "execute_result"
    }
   ],
   "source": [
    "# 행 데이터 추가\n",
    "df.append({'주가': 1500, '업종': '메모리', '발행주식수': 15000}, ignore_index=True)  # immutable"
   ]
  },
  {
   "cell_type": "code",
   "execution_count": 63,
   "metadata": {},
   "outputs": [
    {
     "data": {
      "text/html": "<div>\n<style scoped>\n    .dataframe tbody tr th:only-of-type {\n        vertical-align: middle;\n    }\n\n    .dataframe tbody tr th {\n        vertical-align: top;\n    }\n\n    .dataframe thead th {\n        text-align: right;\n    }\n</style>\n<table border=\"1\" class=\"dataframe\">\n  <thead>\n    <tr style=\"text-align: right;\">\n      <th>항목</th>\n      <th>주가</th>\n      <th>업종</th>\n      <th>발행주식수</th>\n    </tr>\n    <tr>\n      <th>기업명</th>\n      <th></th>\n      <th></th>\n      <th></th>\n    </tr>\n  </thead>\n  <tbody>\n    <tr>\n      <th>삼성</th>\n      <td>2000</td>\n      <td>스마트폰</td>\n      <td>30000</td>\n    </tr>\n    <tr>\n      <th>현대</th>\n      <td>1000</td>\n      <td>자동차</td>\n      <td>20000</td>\n    </tr>\n    <tr>\n      <th>네이버</th>\n      <td>500</td>\n      <td>포털</td>\n      <td>10000</td>\n    </tr>\n  </tbody>\n</table>\n</div>",
      "text/plain": "항목     주가    업종  발행주식수\n기업명                   \n삼성   2000  스마트폰  30000\n현대   1000   자동차  20000\n네이버   500    포털  10000"
     },
     "execution_count": 63,
     "metadata": {},
     "output_type": "execute_result"
    }
   ],
   "source": [
    "df"
   ]
  },
  {
   "cell_type": "code",
   "execution_count": 64,
   "metadata": {},
   "outputs": [
    {
     "data": {
      "text/html": "<div>\n<style scoped>\n    .dataframe tbody tr th:only-of-type {\n        vertical-align: middle;\n    }\n\n    .dataframe tbody tr th {\n        vertical-align: top;\n    }\n\n    .dataframe thead th {\n        text-align: right;\n    }\n</style>\n<table border=\"1\" class=\"dataframe\">\n  <thead>\n    <tr style=\"text-align: right;\">\n      <th></th>\n      <th>주가</th>\n      <th>업종</th>\n      <th>발행주식수</th>\n    </tr>\n  </thead>\n  <tbody>\n    <tr>\n      <th>SK</th>\n      <td>1500</td>\n      <td>메모리</td>\n      <td>15000</td>\n    </tr>\n  </tbody>\n</table>\n</div>",
      "text/plain": "      주가   업종  발행주식수\nSK  1500  메모리  15000"
     },
     "execution_count": 64,
     "metadata": {},
     "output_type": "execute_result"
    }
   ],
   "source": [
    "data2 = {'주가': 1500, '업종': '메모리', '발행주식수': 15000}\n",
    "index2 = ['SK']\n",
    "df2 = pd.DataFrame(data=data2, index=index2)\n",
    "df2"
   ]
  },
  {
   "cell_type": "code",
   "execution_count": 65,
   "metadata": {},
   "outputs": [
    {
     "data": {
      "text/html": "<div>\n<style scoped>\n    .dataframe tbody tr th:only-of-type {\n        vertical-align: middle;\n    }\n\n    .dataframe tbody tr th {\n        vertical-align: top;\n    }\n\n    .dataframe thead th {\n        text-align: right;\n    }\n</style>\n<table border=\"1\" class=\"dataframe\">\n  <thead>\n    <tr style=\"text-align: right;\">\n      <th></th>\n      <th>주가</th>\n      <th>업종</th>\n      <th>발행주식수</th>\n    </tr>\n  </thead>\n  <tbody>\n    <tr>\n      <th>삼성</th>\n      <td>2000</td>\n      <td>스마트폰</td>\n      <td>30000</td>\n    </tr>\n    <tr>\n      <th>현대</th>\n      <td>1000</td>\n      <td>자동차</td>\n      <td>20000</td>\n    </tr>\n    <tr>\n      <th>네이버</th>\n      <td>500</td>\n      <td>포털</td>\n      <td>10000</td>\n    </tr>\n    <tr>\n      <th>SK</th>\n      <td>1500</td>\n      <td>메모리</td>\n      <td>15000</td>\n    </tr>\n  </tbody>\n</table>\n</div>",
      "text/plain": "       주가    업종  발행주식수\n삼성   2000  스마트폰  30000\n현대   1000   자동차  20000\n네이버   500    포털  10000\nSK   1500   메모리  15000"
     },
     "execution_count": 65,
     "metadata": {},
     "output_type": "execute_result"
    }
   ],
   "source": [
    "# 행 추가 1 (append)\n",
    "df = df.append(df2)\n",
    "df"
   ]
  },
  {
   "cell_type": "code",
   "execution_count": 66,
   "metadata": {},
   "outputs": [
    {
     "data": {
      "text/html": "<div>\n<style scoped>\n    .dataframe tbody tr th:only-of-type {\n        vertical-align: middle;\n    }\n\n    .dataframe tbody tr th {\n        vertical-align: top;\n    }\n\n    .dataframe thead th {\n        text-align: right;\n    }\n</style>\n<table border=\"1\" class=\"dataframe\">\n  <thead>\n    <tr style=\"text-align: right;\">\n      <th></th>\n      <th>주가</th>\n      <th>업종</th>\n      <th>발행주식수</th>\n    </tr>\n  </thead>\n  <tbody>\n    <tr>\n      <th>삼성</th>\n      <td>2000</td>\n      <td>스마트폰</td>\n      <td>30000</td>\n    </tr>\n    <tr>\n      <th>현대</th>\n      <td>1000</td>\n      <td>자동차</td>\n      <td>20000</td>\n    </tr>\n    <tr>\n      <th>네이버</th>\n      <td>500</td>\n      <td>포털</td>\n      <td>10000</td>\n    </tr>\n    <tr>\n      <th>SK</th>\n      <td>1500</td>\n      <td>메모리</td>\n      <td>15000</td>\n    </tr>\n    <tr>\n      <th>SK</th>\n      <td>1500</td>\n      <td>메모리</td>\n      <td>15000</td>\n    </tr>\n  </tbody>\n</table>\n</div>",
      "text/plain": "       주가    업종  발행주식수\n삼성   2000  스마트폰  30000\n현대   1000   자동차  20000\n네이버   500    포털  10000\nSK   1500   메모리  15000\nSK   1500   메모리  15000"
     },
     "execution_count": 66,
     "metadata": {},
     "output_type": "execute_result"
    }
   ],
   "source": [
    "# 행 추가 2 (concat)\n",
    "df = pd.concat([df, df2])\n",
    "df"
   ]
  },
  {
   "cell_type": "code",
   "execution_count": 67,
   "metadata": {},
   "outputs": [],
   "source": [
    "# 행 추가 3 (loc)\n",
    "df.loc['카카오'] = [1500, 'IT서비스업', 15000]"
   ]
  },
  {
   "cell_type": "code",
   "execution_count": 68,
   "metadata": {},
   "outputs": [
    {
     "data": {
      "text/html": "<div>\n<style scoped>\n    .dataframe tbody tr th:only-of-type {\n        vertical-align: middle;\n    }\n\n    .dataframe tbody tr th {\n        vertical-align: top;\n    }\n\n    .dataframe thead th {\n        text-align: right;\n    }\n</style>\n<table border=\"1\" class=\"dataframe\">\n  <thead>\n    <tr style=\"text-align: right;\">\n      <th></th>\n      <th>주가</th>\n      <th>업종</th>\n      <th>발행주식수</th>\n    </tr>\n  </thead>\n  <tbody>\n    <tr>\n      <th>삼성</th>\n      <td>2000</td>\n      <td>스마트폰</td>\n      <td>30000</td>\n    </tr>\n    <tr>\n      <th>현대</th>\n      <td>1000</td>\n      <td>자동차</td>\n      <td>20000</td>\n    </tr>\n    <tr>\n      <th>네이버</th>\n      <td>500</td>\n      <td>포털</td>\n      <td>10000</td>\n    </tr>\n    <tr>\n      <th>SK</th>\n      <td>1500</td>\n      <td>메모리</td>\n      <td>15000</td>\n    </tr>\n    <tr>\n      <th>SK</th>\n      <td>1500</td>\n      <td>메모리</td>\n      <td>15000</td>\n    </tr>\n    <tr>\n      <th>카카오</th>\n      <td>1500</td>\n      <td>IT서비스업</td>\n      <td>15000</td>\n    </tr>\n  </tbody>\n</table>\n</div>",
      "text/plain": "       주가      업종  발행주식수\n삼성   2000    스마트폰  30000\n현대   1000     자동차  20000\n네이버   500      포털  10000\nSK   1500     메모리  15000\nSK   1500     메모리  15000\n카카오  1500  IT서비스업  15000"
     },
     "execution_count": 68,
     "metadata": {},
     "output_type": "execute_result"
    }
   ],
   "source": [
    "df"
   ]
  },
  {
   "cell_type": "code",
   "execution_count": 69,
   "metadata": {},
   "outputs": [
    {
     "data": {
      "text/html": "<div>\n<style scoped>\n    .dataframe tbody tr th:only-of-type {\n        vertical-align: middle;\n    }\n\n    .dataframe tbody tr th {\n        vertical-align: top;\n    }\n\n    .dataframe thead th {\n        text-align: right;\n    }\n</style>\n<table border=\"1\" class=\"dataframe\">\n  <thead>\n    <tr style=\"text-align: right;\">\n      <th></th>\n      <th>주가</th>\n      <th>업종</th>\n      <th>발행주식수</th>\n      <th>시가총액</th>\n    </tr>\n  </thead>\n  <tbody>\n    <tr>\n      <th>삼성</th>\n      <td>2000</td>\n      <td>스마트폰</td>\n      <td>30000</td>\n      <td>60000000</td>\n    </tr>\n    <tr>\n      <th>현대</th>\n      <td>1000</td>\n      <td>자동차</td>\n      <td>20000</td>\n      <td>20000000</td>\n    </tr>\n    <tr>\n      <th>네이버</th>\n      <td>500</td>\n      <td>포털</td>\n      <td>10000</td>\n      <td>5000000</td>\n    </tr>\n    <tr>\n      <th>SK</th>\n      <td>1500</td>\n      <td>메모리</td>\n      <td>15000</td>\n      <td>22500000</td>\n    </tr>\n    <tr>\n      <th>SK</th>\n      <td>1500</td>\n      <td>메모리</td>\n      <td>15000</td>\n      <td>22500000</td>\n    </tr>\n    <tr>\n      <th>카카오</th>\n      <td>1500</td>\n      <td>IT서비스업</td>\n      <td>15000</td>\n      <td>22500000</td>\n    </tr>\n  </tbody>\n</table>\n</div>",
      "text/plain": "       주가      업종  발행주식수      시가총액\n삼성   2000    스마트폰  30000  60000000\n현대   1000     자동차  20000  20000000\n네이버   500      포털  10000   5000000\nSK   1500     메모리  15000  22500000\nSK   1500     메모리  15000  22500000\n카카오  1500  IT서비스업  15000  22500000"
     },
     "execution_count": 69,
     "metadata": {},
     "output_type": "execute_result"
    }
   ],
   "source": [
    "# 열 추가\n",
    "df['시가총액'] = df['주가'] * df['발행주식수']\n",
    "df"
   ]
  },
  {
   "cell_type": "markdown",
   "metadata": {},
   "source": [
    "### 3. Update"
   ]
  },
  {
   "cell_type": "code",
   "execution_count": 70,
   "metadata": {},
   "outputs": [
    {
     "data": {
      "text/html": "<div>\n<style scoped>\n    .dataframe tbody tr th:only-of-type {\n        vertical-align: middle;\n    }\n\n    .dataframe tbody tr th {\n        vertical-align: top;\n    }\n\n    .dataframe thead th {\n        text-align: right;\n    }\n</style>\n<table border=\"1\" class=\"dataframe\">\n  <thead>\n    <tr style=\"text-align: right;\">\n      <th></th>\n      <th>주가</th>\n      <th>업종</th>\n      <th>발행주식수</th>\n      <th>시가총액</th>\n    </tr>\n  </thead>\n  <tbody>\n    <tr>\n      <th>삼성</th>\n      <td>2000</td>\n      <td>스마트폰</td>\n      <td>30000</td>\n      <td>60000000</td>\n    </tr>\n    <tr>\n      <th>현대</th>\n      <td>1000</td>\n      <td>자동차</td>\n      <td>20000</td>\n      <td>20000000</td>\n    </tr>\n    <tr>\n      <th>네이버</th>\n      <td>1000</td>\n      <td>IT서비스업</td>\n      <td>15000</td>\n      <td>15000000</td>\n    </tr>\n    <tr>\n      <th>SK</th>\n      <td>1500</td>\n      <td>메모리</td>\n      <td>15000</td>\n      <td>22500000</td>\n    </tr>\n    <tr>\n      <th>SK</th>\n      <td>1500</td>\n      <td>메모리</td>\n      <td>15000</td>\n      <td>22500000</td>\n    </tr>\n    <tr>\n      <th>카카오</th>\n      <td>1500</td>\n      <td>IT서비스업</td>\n      <td>15000</td>\n      <td>22500000</td>\n    </tr>\n  </tbody>\n</table>\n</div>",
      "text/plain": "       주가      업종  발행주식수      시가총액\n삼성   2000    스마트폰  30000  60000000\n현대   1000     자동차  20000  20000000\n네이버  1000  IT서비스업  15000  15000000\nSK   1500     메모리  15000  22500000\nSK   1500     메모리  15000  22500000\n카카오  1500  IT서비스업  15000  22500000"
     },
     "execution_count": 70,
     "metadata": {},
     "output_type": "execute_result"
    }
   ],
   "source": [
    "df.loc['네이버'] = [1000, 'IT서비스업', 15000, 1000 * 15000]\n",
    "df"
   ]
  },
  {
   "cell_type": "code",
   "execution_count": 71,
   "metadata": {},
   "outputs": [
    {
     "data": {
      "text/html": "<div>\n<style scoped>\n    .dataframe tbody tr th:only-of-type {\n        vertical-align: middle;\n    }\n\n    .dataframe tbody tr th {\n        vertical-align: top;\n    }\n\n    .dataframe thead th {\n        text-align: right;\n    }\n</style>\n<table border=\"1\" class=\"dataframe\">\n  <thead>\n    <tr style=\"text-align: right;\">\n      <th></th>\n      <th>주가</th>\n      <th>업종</th>\n      <th>발행주식수</th>\n      <th>시가총액</th>\n    </tr>\n  </thead>\n  <tbody>\n    <tr>\n      <th>삼성</th>\n      <td>2500</td>\n      <td>스마트폰</td>\n      <td>30000</td>\n      <td>60000000</td>\n    </tr>\n    <tr>\n      <th>현대</th>\n      <td>1500</td>\n      <td>자동차</td>\n      <td>20000</td>\n      <td>20000000</td>\n    </tr>\n    <tr>\n      <th>네이버</th>\n      <td>1500</td>\n      <td>IT서비스업</td>\n      <td>15000</td>\n      <td>15000000</td>\n    </tr>\n    <tr>\n      <th>SK</th>\n      <td>2000</td>\n      <td>메모리</td>\n      <td>15000</td>\n      <td>22500000</td>\n    </tr>\n    <tr>\n      <th>SK</th>\n      <td>2000</td>\n      <td>메모리</td>\n      <td>15000</td>\n      <td>22500000</td>\n    </tr>\n    <tr>\n      <th>카카오</th>\n      <td>2000</td>\n      <td>IT서비스업</td>\n      <td>15000</td>\n      <td>22500000</td>\n    </tr>\n  </tbody>\n</table>\n</div>",
      "text/plain": "       주가      업종  발행주식수      시가총액\n삼성   2500    스마트폰  30000  60000000\n현대   1500     자동차  20000  20000000\n네이버  1500  IT서비스업  15000  15000000\nSK   2000     메모리  15000  22500000\nSK   2000     메모리  15000  22500000\n카카오  2000  IT서비스업  15000  22500000"
     },
     "execution_count": 71,
     "metadata": {},
     "output_type": "execute_result"
    }
   ],
   "source": [
    "# 전체 열 데이터 변경\n",
    "df['주가'] += 500\n",
    "df"
   ]
  },
  {
   "cell_type": "code",
   "execution_count": 72,
   "metadata": {},
   "outputs": [
    {
     "data": {
      "text/html": "<div>\n<style scoped>\n    .dataframe tbody tr th:only-of-type {\n        vertical-align: middle;\n    }\n\n    .dataframe tbody tr th {\n        vertical-align: top;\n    }\n\n    .dataframe thead th {\n        text-align: right;\n    }\n</style>\n<table border=\"1\" class=\"dataframe\">\n  <thead>\n    <tr style=\"text-align: right;\">\n      <th></th>\n      <th>주가</th>\n      <th>업종</th>\n      <th>발행주식수</th>\n      <th>시가총액</th>\n    </tr>\n  </thead>\n  <tbody>\n    <tr>\n      <th>삼성</th>\n      <td>2500</td>\n      <td>스마트폰</td>\n      <td>30000</td>\n      <td>75000000</td>\n    </tr>\n    <tr>\n      <th>현대</th>\n      <td>1500</td>\n      <td>자동차</td>\n      <td>20000</td>\n      <td>30000000</td>\n    </tr>\n    <tr>\n      <th>네이버</th>\n      <td>1500</td>\n      <td>IT서비스업</td>\n      <td>15000</td>\n      <td>22500000</td>\n    </tr>\n    <tr>\n      <th>SK</th>\n      <td>2000</td>\n      <td>메모리</td>\n      <td>15000</td>\n      <td>30000000</td>\n    </tr>\n    <tr>\n      <th>SK</th>\n      <td>2000</td>\n      <td>메모리</td>\n      <td>15000</td>\n      <td>30000000</td>\n    </tr>\n    <tr>\n      <th>카카오</th>\n      <td>2000</td>\n      <td>IT서비스업</td>\n      <td>15000</td>\n      <td>30000000</td>\n    </tr>\n  </tbody>\n</table>\n</div>",
      "text/plain": "       주가      업종  발행주식수      시가총액\n삼성   2500    스마트폰  30000  75000000\n현대   1500     자동차  20000  30000000\n네이버  1500  IT서비스업  15000  22500000\nSK   2000     메모리  15000  30000000\nSK   2000     메모리  15000  30000000\n카카오  2000  IT서비스업  15000  30000000"
     },
     "execution_count": 72,
     "metadata": {},
     "output_type": "execute_result"
    }
   ],
   "source": [
    "df['시가총액'] = df['주가'] * df['발행주식수']\n",
    "df"
   ]
  },
  {
   "cell_type": "code",
   "execution_count": 73,
   "metadata": {},
   "outputs": [
    {
     "data": {
      "text/html": "<div>\n<style scoped>\n    .dataframe tbody tr th:only-of-type {\n        vertical-align: middle;\n    }\n\n    .dataframe tbody tr th {\n        vertical-align: top;\n    }\n\n    .dataframe thead th {\n        text-align: right;\n    }\n</style>\n<table border=\"1\" class=\"dataframe\">\n  <thead>\n    <tr style=\"text-align: right;\">\n      <th></th>\n      <th>주가</th>\n      <th>업종</th>\n      <th>발행주식수</th>\n      <th>시가총액</th>\n    </tr>\n  </thead>\n  <tbody>\n    <tr>\n      <th>삼성</th>\n      <td>2500</td>\n      <td>스마트폰</td>\n      <td>30000</td>\n      <td>75000000</td>\n    </tr>\n    <tr>\n      <th>현대</th>\n      <td>1500</td>\n      <td>자동차</td>\n      <td>20000</td>\n      <td>30000000</td>\n    </tr>\n    <tr>\n      <th>네이버</th>\n      <td>1500</td>\n      <td>IT서비스업</td>\n      <td>15000</td>\n      <td>22500000</td>\n    </tr>\n    <tr>\n      <th>SK</th>\n      <td>2000</td>\n      <td>메모리</td>\n      <td>15000</td>\n      <td>30000000</td>\n    </tr>\n    <tr>\n      <th>SK</th>\n      <td>2000</td>\n      <td>메모리</td>\n      <td>15000</td>\n      <td>30000000</td>\n    </tr>\n    <tr>\n      <th>카카오</th>\n      <td>2000</td>\n      <td>금융업</td>\n      <td>15000</td>\n      <td>30000000</td>\n    </tr>\n  </tbody>\n</table>\n</div>",
      "text/plain": "       주가      업종  발행주식수      시가총액\n삼성   2500    스마트폰  30000  75000000\n현대   1500     자동차  20000  30000000\n네이버  1500  IT서비스업  15000  22500000\nSK   2000     메모리  15000  30000000\nSK   2000     메모리  15000  30000000\n카카오  2000     금융업  15000  30000000"
     },
     "execution_count": 73,
     "metadata": {},
     "output_type": "execute_result"
    }
   ],
   "source": [
    "df.loc['카카오', '업종'] = '금융업'\n",
    "df"
   ]
  },
  {
   "cell_type": "markdown",
   "metadata": {},
   "source": [
    "### 4. Delete"
   ]
  },
  {
   "cell_type": "code",
   "execution_count": 74,
   "metadata": {},
   "outputs": [
    {
     "data": {
      "text/html": "<div>\n<style scoped>\n    .dataframe tbody tr th:only-of-type {\n        vertical-align: middle;\n    }\n\n    .dataframe tbody tr th {\n        vertical-align: top;\n    }\n\n    .dataframe thead th {\n        text-align: right;\n    }\n</style>\n<table border=\"1\" class=\"dataframe\">\n  <thead>\n    <tr style=\"text-align: right;\">\n      <th></th>\n      <th>주가</th>\n      <th>업종</th>\n      <th>발행주식수</th>\n      <th>시가총액</th>\n    </tr>\n  </thead>\n  <tbody>\n    <tr>\n      <th>삼성</th>\n      <td>2500</td>\n      <td>스마트폰</td>\n      <td>30000</td>\n      <td>75000000</td>\n    </tr>\n    <tr>\n      <th>현대</th>\n      <td>1500</td>\n      <td>자동차</td>\n      <td>20000</td>\n      <td>30000000</td>\n    </tr>\n    <tr>\n      <th>네이버</th>\n      <td>1500</td>\n      <td>IT서비스업</td>\n      <td>15000</td>\n      <td>22500000</td>\n    </tr>\n    <tr>\n      <th>카카오</th>\n      <td>2000</td>\n      <td>금융업</td>\n      <td>15000</td>\n      <td>30000000</td>\n    </tr>\n  </tbody>\n</table>\n</div>",
      "text/plain": "       주가      업종  발행주식수      시가총액\n삼성   2500    스마트폰  30000  75000000\n현대   1500     자동차  20000  30000000\n네이버  1500  IT서비스업  15000  22500000\n카카오  2000     금융업  15000  30000000"
     },
     "execution_count": 74,
     "metadata": {},
     "output_type": "execute_result"
    }
   ],
   "source": [
    "# 행 삭제\n",
    "df = df.drop('SK')  # ['SK', '네이버'], axis=0\n",
    "df"
   ]
  },
  {
   "cell_type": "code",
   "execution_count": 75,
   "metadata": {},
   "outputs": [
    {
     "data": {
      "text/html": "<div>\n<style scoped>\n    .dataframe tbody tr th:only-of-type {\n        vertical-align: middle;\n    }\n\n    .dataframe tbody tr th {\n        vertical-align: top;\n    }\n\n    .dataframe thead th {\n        text-align: right;\n    }\n</style>\n<table border=\"1\" class=\"dataframe\">\n  <thead>\n    <tr style=\"text-align: right;\">\n      <th></th>\n      <th>주가</th>\n      <th>업종</th>\n      <th>발행주식수</th>\n    </tr>\n  </thead>\n  <tbody>\n    <tr>\n      <th>삼성</th>\n      <td>2500</td>\n      <td>스마트폰</td>\n      <td>30000</td>\n    </tr>\n    <tr>\n      <th>현대</th>\n      <td>1500</td>\n      <td>자동차</td>\n      <td>20000</td>\n    </tr>\n    <tr>\n      <th>네이버</th>\n      <td>1500</td>\n      <td>IT서비스업</td>\n      <td>15000</td>\n    </tr>\n    <tr>\n      <th>카카오</th>\n      <td>2000</td>\n      <td>금융업</td>\n      <td>15000</td>\n    </tr>\n  </tbody>\n</table>\n</div>",
      "text/plain": "       주가      업종  발행주식수\n삼성   2500    스마트폰  30000\n현대   1500     자동차  20000\n네이버  1500  IT서비스업  15000\n카카오  2000     금융업  15000"
     },
     "execution_count": 75,
     "metadata": {},
     "output_type": "execute_result"
    }
   ],
   "source": [
    "# 열 삭제\n",
    "df = df.drop('시가총액', axis=1)  # ['업종', '시가총액']\n",
    "df"
   ]
  },
  {
   "cell_type": "code",
   "execution_count": 77,
   "metadata": {},
   "outputs": [
    {
     "data": {
      "text/html": "<div>\n<style scoped>\n    .dataframe tbody tr th:only-of-type {\n        vertical-align: middle;\n    }\n\n    .dataframe tbody tr th {\n        vertical-align: top;\n    }\n\n    .dataframe thead th {\n        text-align: right;\n    }\n</style>\n<table border=\"1\" class=\"dataframe\">\n  <thead>\n    <tr style=\"text-align: right;\">\n      <th></th>\n      <th>주가</th>\n      <th>업종</th>\n      <th>발행주식수</th>\n    </tr>\n  </thead>\n  <tbody>\n    <tr>\n      <th>삼성</th>\n      <td>2500</td>\n      <td>스마트폰</td>\n      <td>30000</td>\n    </tr>\n    <tr>\n      <th>현대</th>\n      <td>1500</td>\n      <td>자동차</td>\n      <td>20000</td>\n    </tr>\n    <tr>\n      <th>네이버</th>\n      <td>1500</td>\n      <td>IT서비스업</td>\n      <td>15000</td>\n    </tr>\n  </tbody>\n</table>\n</div>",
      "text/plain": "       주가      업종  발행주식수\n삼성   2500    스마트폰  30000\n현대   1500     자동차  20000\n네이버  1500  IT서비스업  15000"
     },
     "execution_count": 77,
     "metadata": {},
     "output_type": "execute_result"
    }
   ],
   "source": [
    "df = df.drop(index='카카오')\n",
    "df"
   ]
  },
  {
   "cell_type": "code",
   "execution_count": 90,
   "metadata": {},
   "outputs": [
    {
     "data": {
      "text/html": "<div>\n<style scoped>\n    .dataframe tbody tr th:only-of-type {\n        vertical-align: middle;\n    }\n\n    .dataframe tbody tr th {\n        vertical-align: top;\n    }\n\n    .dataframe thead th {\n        text-align: right;\n    }\n</style>\n<table border=\"1\" class=\"dataframe\">\n  <thead>\n    <tr style=\"text-align: right;\">\n      <th></th>\n      <th>주가</th>\n      <th>업종</th>\n    </tr>\n  </thead>\n  <tbody>\n    <tr>\n      <th>삼성</th>\n      <td>2500</td>\n      <td>스마트폰</td>\n    </tr>\n    <tr>\n      <th>현대</th>\n      <td>1500</td>\n      <td>자동차</td>\n    </tr>\n    <tr>\n      <th>네이버</th>\n      <td>1500</td>\n      <td>IT서비스업</td>\n    </tr>\n  </tbody>\n</table>\n</div>",
      "text/plain": "       주가      업종\n삼성   2500    스마트폰\n현대   1500     자동차\n네이버  1500  IT서비스업"
     },
     "execution_count": 90,
     "metadata": {},
     "output_type": "execute_result"
    }
   ],
   "source": [
    "df = df.drop(columns='발행주식수')\n",
    "df"
   ]
  },
  {
   "cell_type": "markdown",
   "metadata": {},
   "source": [
    "## 3-4. DataFrame 연산"
   ]
  },
  {
   "cell_type": "code",
   "execution_count": 91,
   "metadata": {},
   "outputs": [
    {
     "data": {
      "text/html": "<div>\n<style scoped>\n    .dataframe tbody tr th:only-of-type {\n        vertical-align: middle;\n    }\n\n    .dataframe tbody tr th {\n        vertical-align: top;\n    }\n\n    .dataframe thead th {\n        text-align: right;\n    }\n</style>\n<table border=\"1\" class=\"dataframe\">\n  <thead>\n    <tr style=\"text-align: right;\">\n      <th></th>\n      <th>주가</th>\n      <th>업종</th>\n    </tr>\n  </thead>\n  <tbody>\n    <tr>\n      <th>삼성</th>\n      <td>2500</td>\n      <td>스마트폰</td>\n    </tr>\n    <tr>\n      <th>현대</th>\n      <td>1500</td>\n      <td>자동차</td>\n    </tr>\n    <tr>\n      <th>네이버</th>\n      <td>1500</td>\n      <td>IT서비스업</td>\n    </tr>\n  </tbody>\n</table>\n</div>",
      "text/plain": "       주가      업종\n삼성   2500    스마트폰\n현대   1500     자동차\n네이버  1500  IT서비스업"
     },
     "execution_count": 91,
     "metadata": {},
     "output_type": "execute_result"
    }
   ],
   "source": [
    "df2 = df.copy()\n",
    "df2"
   ]
  },
  {
   "cell_type": "code",
   "execution_count": 92,
   "metadata": {},
   "outputs": [
    {
     "data": {
      "text/plain": "(4870895056, 4868090064)"
     },
     "execution_count": 92,
     "metadata": {},
     "output_type": "execute_result"
    }
   ],
   "source": [
    "id(df), id(df2)"
   ]
  },
  {
   "cell_type": "code",
   "execution_count": 93,
   "metadata": {},
   "outputs": [
    {
     "data": {
      "text/html": "<div>\n<style scoped>\n    .dataframe tbody tr th:only-of-type {\n        vertical-align: middle;\n    }\n\n    .dataframe tbody tr th {\n        vertical-align: top;\n    }\n\n    .dataframe thead th {\n        text-align: right;\n    }\n</style>\n<table border=\"1\" class=\"dataframe\">\n  <thead>\n    <tr style=\"text-align: right;\">\n      <th></th>\n      <th>주가</th>\n      <th>업종</th>\n    </tr>\n  </thead>\n  <tbody>\n    <tr>\n      <th>삼성</th>\n      <td>5000</td>\n      <td>스마트폰스마트폰</td>\n    </tr>\n    <tr>\n      <th>현대</th>\n      <td>3000</td>\n      <td>자동차자동차</td>\n    </tr>\n    <tr>\n      <th>네이버</th>\n      <td>3000</td>\n      <td>IT서비스업IT서비스업</td>\n    </tr>\n  </tbody>\n</table>\n</div>",
      "text/plain": "       주가            업종\n삼성   5000      스마트폰스마트폰\n현대   3000        자동차자동차\n네이버  3000  IT서비스업IT서비스업"
     },
     "execution_count": 93,
     "metadata": {},
     "output_type": "execute_result"
    }
   ],
   "source": [
    "df + df2"
   ]
  },
  {
   "cell_type": "code",
   "execution_count": 94,
   "metadata": {},
   "outputs": [],
   "source": [
    "# df - df2"
   ]
  },
  {
   "cell_type": "code",
   "execution_count": 95,
   "metadata": {},
   "outputs": [
    {
     "data": {
      "text/plain": "'스마트폰스마트폰'"
     },
     "execution_count": 95,
     "metadata": {},
     "output_type": "execute_result"
    }
   ],
   "source": [
    "'스마트폰' + '스마트폰'\n",
    "# '스마트폰' - '스마트폰'"
   ]
  },
  {
   "cell_type": "code",
   "execution_count": 96,
   "metadata": {},
   "outputs": [
    {
     "data": {
      "text/html": "<div>\n<style scoped>\n    .dataframe tbody tr th:only-of-type {\n        vertical-align: middle;\n    }\n\n    .dataframe tbody tr th {\n        vertical-align: top;\n    }\n\n    .dataframe thead th {\n        text-align: right;\n    }\n</style>\n<table border=\"1\" class=\"dataframe\">\n  <thead>\n    <tr style=\"text-align: right;\">\n      <th></th>\n      <th>주가</th>\n      <th>업종</th>\n    </tr>\n  </thead>\n  <tbody>\n    <tr>\n      <th>삼성</th>\n      <td>2500</td>\n      <td>스마트폰</td>\n    </tr>\n    <tr>\n      <th>현대</th>\n      <td>1500</td>\n      <td>자동차</td>\n    </tr>\n    <tr>\n      <th>네이버</th>\n      <td>1500</td>\n      <td>IT서비스업</td>\n    </tr>\n    <tr>\n      <th>삼성</th>\n      <td>2500</td>\n      <td>스마트폰</td>\n    </tr>\n    <tr>\n      <th>현대</th>\n      <td>1500</td>\n      <td>자동차</td>\n    </tr>\n    <tr>\n      <th>네이버</th>\n      <td>1500</td>\n      <td>IT서비스업</td>\n    </tr>\n  </tbody>\n</table>\n</div>",
      "text/plain": "       주가      업종\n삼성   2500    스마트폰\n현대   1500     자동차\n네이버  1500  IT서비스업\n삼성   2500    스마트폰\n현대   1500     자동차\n네이버  1500  IT서비스업"
     },
     "execution_count": 96,
     "metadata": {},
     "output_type": "execute_result"
    }
   ],
   "source": [
    "df.append(df2)"
   ]
  },
  {
   "cell_type": "code",
   "execution_count": 97,
   "metadata": {},
   "outputs": [
    {
     "data": {
      "text/html": "<div>\n<style scoped>\n    .dataframe tbody tr th:only-of-type {\n        vertical-align: middle;\n    }\n\n    .dataframe tbody tr th {\n        vertical-align: top;\n    }\n\n    .dataframe thead th {\n        text-align: right;\n    }\n</style>\n<table border=\"1\" class=\"dataframe\">\n  <thead>\n    <tr style=\"text-align: right;\">\n      <th></th>\n      <th>주가</th>\n      <th>업종</th>\n    </tr>\n  </thead>\n  <tbody>\n    <tr>\n      <th>삼성</th>\n      <td>2500</td>\n      <td>스마트폰</td>\n    </tr>\n    <tr>\n      <th>현대</th>\n      <td>1500</td>\n      <td>자동차</td>\n    </tr>\n    <tr>\n      <th>네이버</th>\n      <td>1500</td>\n      <td>IT서비스업</td>\n    </tr>\n    <tr>\n      <th>삼성</th>\n      <td>2500</td>\n      <td>스마트폰</td>\n    </tr>\n    <tr>\n      <th>현대</th>\n      <td>1500</td>\n      <td>자동차</td>\n    </tr>\n    <tr>\n      <th>네이버</th>\n      <td>1500</td>\n      <td>IT서비스업</td>\n    </tr>\n  </tbody>\n</table>\n</div>",
      "text/plain": "       주가      업종\n삼성   2500    스마트폰\n현대   1500     자동차\n네이버  1500  IT서비스업\n삼성   2500    스마트폰\n현대   1500     자동차\n네이버  1500  IT서비스업"
     },
     "execution_count": 97,
     "metadata": {},
     "output_type": "execute_result"
    }
   ],
   "source": [
    "pd.concat([df, df2])"
   ]
  },
  {
   "cell_type": "code",
   "execution_count": 98,
   "metadata": {},
   "outputs": [
    {
     "data": {
      "text/html": "<div>\n<style scoped>\n    .dataframe tbody tr th:only-of-type {\n        vertical-align: middle;\n    }\n\n    .dataframe tbody tr th {\n        vertical-align: top;\n    }\n\n    .dataframe thead th {\n        text-align: right;\n    }\n</style>\n<table border=\"1\" class=\"dataframe\">\n  <thead>\n    <tr style=\"text-align: right;\">\n      <th></th>\n      <th>주가</th>\n      <th>업종</th>\n    </tr>\n  </thead>\n  <tbody>\n    <tr>\n      <th>삼성</th>\n      <td>2500</td>\n      <td>스마트폰</td>\n    </tr>\n    <tr>\n      <th>현대</th>\n      <td>1500</td>\n      <td>자동차</td>\n    </tr>\n    <tr>\n      <th>네이버</th>\n      <td>1500</td>\n      <td>IT서비스업</td>\n    </tr>\n  </tbody>\n</table>\n</div>",
      "text/plain": "       주가      업종\n삼성   2500    스마트폰\n현대   1500     자동차\n네이버  1500  IT서비스업"
     },
     "execution_count": 98,
     "metadata": {},
     "output_type": "execute_result"
    }
   ],
   "source": [
    "df"
   ]
  },
  {
   "cell_type": "code",
   "execution_count": 99,
   "metadata": {},
   "outputs": [
    {
     "data": {
      "text/plain": "주가      1500\n업종    IT서비스업\ndtype: object"
     },
     "execution_count": 99,
     "metadata": {},
     "output_type": "execute_result"
    }
   ],
   "source": [
    "df.min()"
   ]
  },
  {
   "cell_type": "code",
   "execution_count": 100,
   "metadata": {},
   "outputs": [
    {
     "data": {
      "text/plain": "주가    2500\n업종     자동차\ndtype: object"
     },
     "execution_count": 100,
     "metadata": {},
     "output_type": "execute_result"
    }
   ],
   "source": [
    "df.max()"
   ]
  },
  {
   "cell_type": "code",
   "execution_count": 101,
   "metadata": {},
   "outputs": [
    {
     "data": {
      "text/plain": "1500"
     },
     "execution_count": 101,
     "metadata": {},
     "output_type": "execute_result"
    }
   ],
   "source": [
    "df['주가'].min()"
   ]
  },
  {
   "cell_type": "code",
   "execution_count": 103,
   "metadata": {},
   "outputs": [
    {
     "data": {
      "text/plain": "2500"
     },
     "execution_count": 103,
     "metadata": {},
     "output_type": "execute_result"
    }
   ],
   "source": [
    "df['주가'].max()"
   ]
  },
  {
   "cell_type": "code",
   "execution_count": null,
   "metadata": {},
   "outputs": [],
   "source": []
  }
 ],
 "metadata": {
  "kernelspec": {
   "display_name": "Python 3.7.9 64-bit",
   "name": "python379jvsc74a57bd07a3d88c904243d2c3f246166597f86d1c0a39f3d97496d1fe394945d0c6d436d"
  },
  "language_info": {
   "codemirror_mode": {
    "name": "ipython",
    "version": 3
   },
   "file_extension": ".py",
   "mimetype": "text/x-python",
   "name": "python",
   "nbconvert_exporter": "python",
   "pygments_lexer": "ipython3",
   "version": "3.7.9"
  },
  "metadata": {
   "interpreter": {
    "hash": "7a3d88c904243d2c3f246166597f86d1c0a39f3d97496d1fe394945d0c6d436d"
   }
  },
  "orig_nbformat": 2
 },
 "nbformat": 4,
 "nbformat_minor": 2
}