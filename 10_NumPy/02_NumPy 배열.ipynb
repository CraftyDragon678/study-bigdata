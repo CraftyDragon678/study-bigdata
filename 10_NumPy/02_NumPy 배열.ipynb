{
 "cells": [
  {
   "cell_type": "markdown",
   "metadata": {},
   "source": [
    "# 2. NumPy 배열\n",
    "\n",
    "* NumPy에는 **ndarray**라는 데에터 타입의 배열이 사용된다.\n",
    "* 같은 타입의 데이터만 저장할 수 있다.\n",
    "* Python list에 비해 계산 속도가 빠르다."
   ]
  },
  {
   "cell_type": "code",
   "execution_count": 2,
   "metadata": {},
   "outputs": [],
   "source": [
    "import numpy as np"
   ]
  },
  {
   "cell_type": "markdown",
   "metadata": {},
   "source": [
    "## 2-1. np.array() 함수로 생성하기"
   ]
  },
  {
   "cell_type": "markdown",
   "metadata": {},
   "source": [
    "### 1차원 배열 생성하기"
   ]
  },
  {
   "cell_type": "code",
   "execution_count": 3,
   "metadata": {},
   "outputs": [
    {
     "output_type": "stream",
     "text": [
      "\u001b[0;31mDocstring:\u001b[0m\n",
      "array(object, dtype=None, *, copy=True, order='K', subok=False, ndmin=0,\n",
      "      like=None)\n",
      "\n",
      "Create an array.\n",
      "\n",
      "Parameters\n",
      "----------\n",
      "object : array_like\n",
      "    An array, any object exposing the array interface, an object whose\n",
      "    __array__ method returns an array, or any (nested) sequence.\n",
      "dtype : data-type, optional\n",
      "    The desired data-type for the array.  If not given, then the type will\n",
      "    be determined as the minimum type required to hold the objects in the\n",
      "    sequence.\n",
      "copy : bool, optional\n",
      "    If true (default), then the object is copied.  Otherwise, a copy will\n",
      "    only be made if __array__ returns a copy, if obj is a nested sequence,\n",
      "    or if a copy is needed to satisfy any of the other requirements\n",
      "    (`dtype`, `order`, etc.).\n",
      "order : {'K', 'A', 'C', 'F'}, optional\n",
      "    Specify the memory layout of the array. If object is not an array, the\n",
      "    newly created array will be in C order (row major) unless 'F' is\n",
      "    specified, in which case it will be in Fortran order (column major).\n",
      "    If object is an array the following holds.\n",
      "\n",
      "    ===== ========= ===================================================\n",
      "    order  no copy                     copy=True\n",
      "    ===== ========= ===================================================\n",
      "    'K'   unchanged F & C order preserved, otherwise most similar order\n",
      "    'A'   unchanged F order if input is F and not C, otherwise C order\n",
      "    'C'   C order   C order\n",
      "    'F'   F order   F order\n",
      "    ===== ========= ===================================================\n",
      "\n",
      "    When ``copy=False`` and a copy is made for other reasons, the result is\n",
      "    the same as if ``copy=True``, with some exceptions for `A`, see the\n",
      "    Notes section. The default order is 'K'.\n",
      "subok : bool, optional\n",
      "    If True, then sub-classes will be passed-through, otherwise\n",
      "    the returned array will be forced to be a base-class array (default).\n",
      "ndmin : int, optional\n",
      "    Specifies the minimum number of dimensions that the resulting\n",
      "    array should have.  Ones will be pre-pended to the shape as\n",
      "    needed to meet this requirement.\n",
      "like : array_like\n",
      "    Reference object to allow the creation of arrays which are not\n",
      "    NumPy arrays. If an array-like passed in as ``like`` supports\n",
      "    the ``__array_function__`` protocol, the result will be defined\n",
      "    by it. In this case, it ensures the creation of an array object\n",
      "    compatible with that passed in via this argument.\n",
      "\n",
      "    .. note::\n",
      "        The ``like`` keyword is an experimental feature pending on\n",
      "        acceptance of :ref:`NEP 35 <NEP35>`.\n",
      "\n",
      "    .. versionadded:: 1.20.0\n",
      "\n",
      "Returns\n",
      "-------\n",
      "out : ndarray\n",
      "    An array object satisfying the specified requirements.\n",
      "\n",
      "See Also\n",
      "--------\n",
      "empty_like : Return an empty array with shape and type of input.\n",
      "ones_like : Return an array of ones with shape and type of input.\n",
      "zeros_like : Return an array of zeros with shape and type of input.\n",
      "full_like : Return a new array with shape of input filled with value.\n",
      "empty : Return a new uninitialized array.\n",
      "ones : Return a new array setting values to one.\n",
      "zeros : Return a new array setting values to zero.\n",
      "full : Return a new array of given shape filled with value.\n",
      "\n",
      "\n",
      "Notes\n",
      "-----\n",
      "When order is 'A' and `object` is an array in neither 'C' nor 'F' order,\n",
      "and a copy is forced by a change in dtype, then the order of the result is\n",
      "not necessarily 'C' as expected. This is likely a bug.\n",
      "\n",
      "Examples\n",
      "--------\n",
      ">>> np.array([1, 2, 3])\n",
      "array([1, 2, 3])\n",
      "\n",
      "Upcasting:\n",
      "\n",
      ">>> np.array([1, 2, 3.0])\n",
      "array([ 1.,  2.,  3.])\n",
      "\n",
      "More than one dimension:\n",
      "\n",
      ">>> np.array([[1, 2], [3, 4]])\n",
      "array([[1, 2],\n",
      "       [3, 4]])\n",
      "\n",
      "Minimum dimensions 2:\n",
      "\n",
      ">>> np.array([1, 2, 3], ndmin=2)\n",
      "array([[1, 2, 3]])\n",
      "\n",
      "Type provided:\n",
      "\n",
      ">>> np.array([1, 2, 3], dtype=complex)\n",
      "array([ 1.+0.j,  2.+0.j,  3.+0.j])\n",
      "\n",
      "Data-type consisting of more than one element:\n",
      "\n",
      ">>> x = np.array([(1,2),(3,4)],dtype=[('a','<i4'),('b','<i4')])\n",
      ">>> x['a']\n",
      "array([1, 3])\n",
      "\n",
      "Creating an array from sub-classes:\n",
      "\n",
      ">>> np.array(np.mat('1 2; 3 4'))\n",
      "array([[1, 2],\n",
      "       [3, 4]])\n",
      "\n",
      ">>> np.array(np.mat('1 2; 3 4'), subok=True)\n",
      "matrix([[1, 2],\n",
      "        [3, 4]])\n",
      "\u001b[0;31mType:\u001b[0m      builtin_function_or_method\n"
     ],
     "name": "stdout"
    }
   ],
   "source": [
    "# 1차원 배열 생성하기\n",
    "np.array?"
   ]
  },
  {
   "cell_type": "code",
   "execution_count": 4,
   "metadata": {},
   "outputs": [
    {
     "output_type": "execute_result",
     "data": {
      "text/plain": [
       "array([1, 2, 3, 4])"
      ]
     },
     "metadata": {},
     "execution_count": 4
    }
   ],
   "source": [
    "arr = np.array([1, 2, 3, 4])\n",
    "arr"
   ]
  },
  {
   "cell_type": "code",
   "execution_count": 5,
   "metadata": {},
   "outputs": [
    {
     "output_type": "execute_result",
     "data": {
      "text/plain": [
       "numpy.ndarray"
      ]
     },
     "metadata": {},
     "execution_count": 5
    }
   ],
   "source": [
    "# type확인\n",
    "type(arr)"
   ]
  },
  {
   "cell_type": "code",
   "execution_count": 6,
   "metadata": {},
   "outputs": [
    {
     "output_type": "error",
     "ename": "TypeError",
     "evalue": "array() takes from 1 to 2 positional arguments but 4 were given",
     "traceback": [
      "\u001b[0;31m---------------------------------------------------------------------------\u001b[0m",
      "\u001b[0;31mTypeError\u001b[0m                                 Traceback (most recent call last)",
      "\u001b[0;32m<ipython-input-6-fbbfafe6f725>\u001b[0m in \u001b[0;36m<module>\u001b[0;34m\u001b[0m\n\u001b[1;32m      1\u001b[0m \u001b[0;31m# array함수에는 data에 1개만 들어가야함.\u001b[0m\u001b[0;34m\u001b[0m\u001b[0;34m\u001b[0m\u001b[0;34m\u001b[0m\u001b[0m\n\u001b[0;32m----> 2\u001b[0;31m \u001b[0mnp\u001b[0m\u001b[0;34m.\u001b[0m\u001b[0marray\u001b[0m\u001b[0;34m(\u001b[0m\u001b[0;36m1\u001b[0m\u001b[0;34m,\u001b[0m \u001b[0;36m2\u001b[0m\u001b[0;34m,\u001b[0m \u001b[0;36m3\u001b[0m\u001b[0;34m,\u001b[0m \u001b[0;36m4\u001b[0m\u001b[0;34m)\u001b[0m\u001b[0;34m\u001b[0m\u001b[0;34m\u001b[0m\u001b[0m\n\u001b[0m",
      "\u001b[0;31mTypeError\u001b[0m: array() takes from 1 to 2 positional arguments but 4 were given"
     ]
    }
   ],
   "source": [
    "# array함수에는 data에 1개만 들어가야함.\n",
    "np.array(1, 2, 3, 4)"
   ]
  },
  {
   "cell_type": "code",
   "execution_count": 7,
   "metadata": {},
   "outputs": [
    {
     "output_type": "execute_result",
     "data": {
      "text/plain": [
       "dtype('int64')"
      ]
     },
     "metadata": {},
     "execution_count": 7
    }
   ],
   "source": [
    "# 데이터 타입 확인\n",
    "arr.dtype"
   ]
  },
  {
   "source": [
    "# overflow 테스트\n",
    "arr = np.array([2147483647, 2, 3, 4])\n",
    "arr"
   ],
   "cell_type": "code",
   "metadata": {},
   "execution_count": 8,
   "outputs": [
    {
     "output_type": "execute_result",
     "data": {
      "text/plain": [
       "array([2147483647,          2,          3,          4])"
      ]
     },
     "metadata": {},
     "execution_count": 8
    }
   ]
  },
  {
   "cell_type": "code",
   "execution_count": 9,
   "metadata": {},
   "outputs": [
    {
     "output_type": "execute_result",
     "data": {
      "text/plain": [
       "array([21474836478,           2,           3,           4])"
      ]
     },
     "metadata": {},
     "execution_count": 9
    }
   ],
   "source": [
    "# overflow 테스트\n",
    "arr = np.array([21474836478, 2, 3, 4])\n",
    "arr"
   ]
  },
  {
   "cell_type": "code",
   "execution_count": 10,
   "metadata": {},
   "outputs": [
    {
     "output_type": "execute_result",
     "data": {
      "text/plain": [
       "array([-2,  2,  3,  4], dtype=int32)"
      ]
     },
     "metadata": {},
     "execution_count": 10
    }
   ],
   "source": [
    "# overflow 테스트\n",
    "arr = np.array([21474836478, 2, 3, 4], dtype=np.int32)\n",
    "arr"
   ]
  },
  {
   "cell_type": "code",
   "execution_count": 11,
   "metadata": {},
   "outputs": [
    {
     "output_type": "execute_result",
     "data": {
      "text/plain": [
       "array([1., 2., 3., 4.])"
      ]
     },
     "metadata": {},
     "execution_count": 11
    }
   ],
   "source": [
    "arr = np.array([1, 2, 3, 4], dtype=float)\n",
    "arr"
   ]
  },
  {
   "cell_type": "code",
   "execution_count": 12,
   "metadata": {},
   "outputs": [
    {
     "output_type": "execute_result",
     "data": {
      "text/plain": [
       "dtype('float64')"
      ]
     },
     "metadata": {},
     "execution_count": 12
    }
   ],
   "source": [
    "arr.dtype"
   ]
  },
  {
   "cell_type": "code",
   "execution_count": 13,
   "metadata": {},
   "outputs": [
    {
     "output_type": "execute_result",
     "data": {
      "text/plain": [
       "(4,)"
      ]
     },
     "metadata": {},
     "execution_count": 13
    }
   ],
   "source": [
    "# shape : 각 차원의 배열의 size(차원의 모양)\n",
    "arr.shape"
   ]
  },
  {
   "cell_type": "code",
   "execution_count": 14,
   "metadata": {},
   "outputs": [
    {
     "output_type": "execute_result",
     "data": {
      "text/plain": [
       "4"
      ]
     },
     "metadata": {},
     "execution_count": 14
    }
   ],
   "source": [
    "# size : 배열 전체의 요소의 개수\n",
    "arr.size"
   ]
  },
  {
   "cell_type": "code",
   "execution_count": 15,
   "metadata": {},
   "outputs": [
    {
     "output_type": "execute_result",
     "data": {
      "text/plain": [
       "1"
      ]
     },
     "metadata": {},
     "execution_count": 15
    }
   ],
   "source": [
    "# ndim : 차원의 수\n",
    "arr.ndim"
   ]
  },
  {
   "cell_type": "code",
   "execution_count": 16,
   "metadata": {},
   "outputs": [
    {
     "output_type": "execute_result",
     "data": {
      "text/plain": [
       "array([1.  , 2.  , 3.  , 3.14])"
      ]
     },
     "metadata": {},
     "execution_count": 16
    }
   ],
   "source": [
    "# ndarray에는 같은 데이터만 들어가야 함\n",
    "arr = np.array([1, 2, 3, 3.14])\n",
    "arr"
   ]
  },
  {
   "cell_type": "code",
   "execution_count": 17,
   "metadata": {},
   "outputs": [
    {
     "output_type": "execute_result",
     "data": {
      "text/plain": [
       "array([1, 2, 3, 3])"
      ]
     },
     "metadata": {},
     "execution_count": 17
    }
   ],
   "source": [
    "arr = np.array([1, 2, 3, 3.14], dtype=int)\n",
    "arr"
   ]
  },
  {
   "cell_type": "code",
   "execution_count": 26,
   "metadata": {},
   "outputs": [
    {
     "output_type": "execute_result",
     "data": {
      "text/plain": [
       "array(['1', '3.14', '1234'], dtype='<U32')"
      ]
     },
     "metadata": {},
     "execution_count": 26
    }
   ],
   "source": [
    "# int, float, string -> string\n",
    "# >(big-endian), <(little-endian)\n",
    "# 32-character string\n",
    "arr = np.array([1, 3.14, '1234'])\n",
    "arr"
   ]
  },
  {
   "cell_type": "code",
   "execution_count": 27,
   "metadata": {},
   "outputs": [
    {
     "output_type": "execute_result",
     "data": {
      "text/plain": [
       "array(['1', '3.14', '123456789012345678901234567890123'], dtype='<U33')"
      ]
     },
     "metadata": {},
     "execution_count": 27
    }
   ],
   "source": [
    "arr = np.array([1, 3.14, '123456789012345678901234567890123'])\n",
    "arr"
   ]
  },
  {
   "cell_type": "code",
   "execution_count": 28,
   "metadata": {},
   "outputs": [
    {
     "output_type": "execute_result",
     "data": {
      "text/plain": [
       "array([1.00000000e+00, 3.14000000e+00, 1.23456789e+32])"
      ]
     },
     "metadata": {},
     "execution_count": 28
    }
   ],
   "source": [
    "new_arr = arr.astype(float)\n",
    "new_arr"
   ]
  },
  {
   "cell_type": "code",
   "execution_count": null,
   "metadata": {},
   "outputs": [],
   "source": []
  }
 ],
 "metadata": {
  "kernelspec": {
   "display_name": "Python 3",
   "language": "python",
   "name": "python3"
  },
  "language_info": {
   "codemirror_mode": {
    "name": "ipython",
    "version": 3
   },
   "file_extension": ".py",
   "mimetype": "text/x-python",
   "name": "python",
   "nbconvert_exporter": "python",
   "pygments_lexer": "ipython3",
   "version": "3.7.9-final"
  }
 },
 "nbformat": 4,
 "nbformat_minor": 4
}